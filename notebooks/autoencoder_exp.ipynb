{
 "cells": [
  {
   "cell_type": "code",
   "execution_count": null,
   "metadata": {},
   "outputs": [],
   "source": [
    "from image_classification_simulation.models.autoencoder_baseline import ConvAutoEncoder\n",
    "from image_classification_simulation.data.office31_loader import Office31Loader\n",
    "from image_classification_simulation.data.mnist_loader import MNISTLoader\n",
    "import torch\n",
    "import numpy as np\n",
    "import matplotlib.pyplot as plt"
   ]
  },
  {
   "cell_type": "code",
   "execution_count": null,
   "metadata": {},
   "outputs": [],
   "source": [
    "# Loading Office31 data\n",
    "\n",
    "hparams = {\n",
    "    \"loss\": \"MSELoss\",\n",
    "    \"optimizer\": \"adam\",\n",
    "    \"num_channels\": 3,\n",
    "    \"num_filters\": 16,\n",
    "    \"batch_size\": 16,\n",
    "}\n",
    "\n",
    "test_loader = Office31Loader(\"../examples/data/domain_adaptation_images/amazon/images\", hyper_params=hparams)\n",
    "test_loader.setup(stage=\"fit\")"
   ]
  },
  {
   "cell_type": "code",
   "execution_count": null,
   "metadata": {},
   "outputs": [],
   "source": [
    "#Training the AE from the main function\n",
    "! main --data ../examples/data/domain_adaptation_images/amazon/images --output ./output --config ../examples/conv_ae/config.yaml --start-from-scratch"
   ]
  },
  {
   "cell_type": "code",
   "execution_count": null,
   "metadata": {},
   "outputs": [],
   "source": [
    "# To visualize input image vs reconstructed output from the AE\n",
    "\n",
    "i = iter(test_loader.test_set.dataset)\n",
    "img, label = next(i)\n",
    "\n",
    "model = ConvAutoEncoder(hparams)\n",
    "checkpoint = torch.load(\"./output/last_model/model.ckpt\")\n",
    "model.load_state_dict(checkpoint['state_dict'])\n",
    "model.eval()\n",
    "\n",
    "output = model(img)\n",
    "print(output.shape)\n",
    "output = output.detach().numpy()\n",
    "\n",
    "fig, (ax1, ax2) = plt.subplots(1, 2)\n",
    "ax1.imshow(np.transpose(img, (1, 2, 0)))\n",
    "ax1.set_title(\"Original input image\")\n",
    "ax2.imshow(np.transpose(output, (1, 2, 0)))\n",
    "ax2.set_title(\"Reconstructed image\")\n"
   ]
  },
  {
   "cell_type": "code",
   "execution_count": null,
   "metadata": {},
   "outputs": [],
   "source": []
  }
 ],
 "metadata": {
  "language_info": {
   "name": "python"
  }
 },
 "nbformat": 4,
 "nbformat_minor": 2
}
