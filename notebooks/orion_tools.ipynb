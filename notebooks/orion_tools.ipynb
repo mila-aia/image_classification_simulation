{
 "cells": [
  {
   "cell_type": "code",
   "execution_count": 1,
   "metadata": {},
   "outputs": [],
   "source": [
    "from orion.client import get_experiment"
   ]
  },
  {
   "cell_type": "code",
   "execution_count": 11,
   "metadata": {},
   "outputs": [
    {
     "data": {
      "application/vnd.plotly.v1+json": {
       "config": {
        "plotlyServerURL": "https://plot.ly"
       },
       "data": [
        {
         "customdata": [
          [
           "b674caa51e0fef56ea9b212d6062e632",
           "2022-07-25T15:45:05.702704",
           "<br>  /lr: 4.301E-05<br>  /num_filters: 8"
          ],
          [
           "c819db7c59e48ba36e3f465b9adaac6a",
           "2022-07-25T15:48:37.503147",
           "<br>  /lr: 0.02116<br>  /num_filters: 4"
          ],
          [
           "16bb080df30a8e7331cb0ff09690bcf8",
           "2022-07-25T15:51:59.970431",
           "<br>  /lr: 0.005657<br>  /num_filters: 2"
          ],
          [
           "fff62843681057422fd17ab2a5b6f428",
           "2022-07-25T15:55:27.984449",
           "<br>  /lr: 2.814E-05<br>  /num_filters: 4"
          ],
          [
           "c186dd9891ccf6df0d66786891e3429f",
           "2022-07-25T15:59:09.289305",
           "<br>  /lr: 0.005024<br>  /num_filters: 8"
          ],
          [
           "0eded8b512bb165ba8e18d41ba6300ff",
           "2022-07-25T16:03:07.225669",
           "<br>  /lr: 1.099E-05<br>  /num_filters: 4"
          ],
          [
           "5c42721a18b30565424e0185a2cf6dcf",
           "2022-07-25T16:07:15.410520",
           "<br>  /lr: 0.7815<br>  /num_filters: 4"
          ],
          [
           "61018f4fbb6ef2094c842dc7c9461797",
           "2022-07-25T16:11:32.994393",
           "<br>  /lr: 0.005309<br>  /num_filters: 2"
          ],
          [
           "393de3640bafb09a9e95d6e3eb63db6f",
           "2022-07-25T16:15:54.594996",
           "<br>  /lr: 0.0001723<br>  /num_filters: 2"
          ],
          [
           "16b05f786a837a9fbe3e81e6daa3d073",
           "2022-07-25T16:20:17.286969",
           "<br>  /lr: 0.3496<br>  /num_filters: 4"
          ],
          [
           "a53ff7ab8492bd55901c45849a90cee7",
           "2022-07-25T16:24:50.958850",
           "<br>  /lr: 0.5985<br>  /num_filters: 8"
          ],
          [
           "138cc4d8dc02e567082533ebdb5d00bc",
           "2022-07-25T16:30:01.087086",
           "<br>  /lr: 5.096E-05<br>  /num_filters: 2"
          ],
          [
           "352c54b03dd2150c3760f585d3c5beb6",
           "2022-07-25T16:35:00.722032",
           "<br>  /lr: 1.608E-05<br>  /num_filters: 2"
          ],
          [
           "fa727c2710870384e44ea12361b47a99",
           "2022-07-25T16:40:00.615824",
           "<br>  /lr: 7.797E-05<br>  /num_filters: 8"
          ],
          [
           "f6dba64644b8933e8d6838a7693f836d",
           "2022-07-25T16:45:38.308488",
           "<br>  /lr: 0.02306<br>  /num_filters: 4"
          ],
          [
           "1c17125c0009779f01c36a9fb1bc1461",
           "2022-07-25T16:51:12.949739",
           "<br>  /lr: 0.004133<br>  /num_filters: 4"
          ],
          [
           "b2a2a11661b0f1a2a014034640e3b4a8",
           "2022-07-25T16:56:55.538512",
           "<br>  /lr: 0.001729<br>  /num_filters: 2"
          ],
          [
           "4420a0179a6bb7851739a796aa765c95",
           "2022-07-25T17:02:42.657422",
           "<br>  /lr: 0.5666<br>  /num_filters: 2"
          ],
          [
           "cf110fe0a4df5713d0dd4ab35c02d6bc",
           "2022-07-25T17:08:31.019694",
           "<br>  /lr: 0.1758<br>  /num_filters: 4"
          ],
          [
           "dd880aa6a9c22ad69ed39b432a073a3e",
           "2022-07-25T17:14:31.816120",
           "<br>  /lr: 0.08176<br>  /num_filters: 2"
          ],
          [
           "f3ec4df34faf4a9a2c2d046efe3bb9e9",
           "2022-07-25T17:20:35.366754",
           "<br>  /lr: 0.06836<br>  /num_filters: 2"
          ],
          [
           "ad1c16261d371ea131353ff7839e4237",
           "2022-07-25T17:26:44.834001",
           "<br>  /lr: 0.9654<br>  /num_filters: 4"
          ],
          [
           "843481dbbc4ad7c54f2765f1bb406d43",
           "2022-07-25T17:33:01.601221",
           "<br>  /lr: 0.0002697<br>  /num_filters: 8"
          ],
          [
           "b981d775c5fac780e30f806012dbfc88",
           "2022-07-25T17:39:49.175007",
           "<br>  /lr: 7.63E-05<br>  /num_filters: 8"
          ],
          [
           "5e31efaf2f7703c8db8da56599d96f91",
           "2022-07-25T17:46:51.785701",
           "<br>  /lr: 1.901E-05<br>  /num_filters: 8"
          ],
          [
           "12a8f24d00341b565a925e224463615c",
           "2022-07-25T17:54:12.734599",
           "<br>  /lr: 0.002826<br>  /num_filters: 8"
          ],
          [
           "8a33d662e67d03ef41e0dcf214ac53ef",
           "2022-07-25T18:01:42.475819",
           "<br>  /lr: 0.004121<br>  /num_filters: 4"
          ],
          [
           "7f99879c108d68f8e9add9fcdd252a20",
           "2022-07-25T18:09:15.866322",
           "<br>  /lr: 0.0464<br>  /num_filters: 8"
          ],
          [
           "f3999715dc5170944158d97497706671",
           "2022-07-25T18:17:10.786554",
           "<br>  /lr: 8.159E-05<br>  /num_filters: 8"
          ],
          [
           "e0c2615441e21d518f8792c72585028c",
           "2022-07-25T18:25:35.552389",
           "<br>  /lr: 0.0001719<br>  /num_filters: 2"
          ]
         ],
         "hovertemplate": "<b>ID: %{customdata[0]}</b><br>value: %{y}<br>time: %{customdata[1]|%Y-%m-%d %H:%M:%S}<br>parameters: %{customdata[2]}<extra></extra>",
         "mode": "markers",
         "name": "trials",
         "type": "scatter",
         "y": [
          -74.81263732910156,
          -108.33905792236328,
          -108.33506774902344,
          -84.13024139404297,
          -108.45990753173828,
          -91.21258544921875,
          -111.97390747070312,
          -107.91643524169922,
          -77.8935317993164,
          -109.75959777832031,
          -111.09058380126953,
          -84.24274444580078,
          -92.1225357055664,
          -72.17874145507812,
          -108.31692504882812,
          -107.44686889648438,
          -81.09728240966797,
          -111.29414367675781,
          -109.35459899902344,
          -108.93731689453125,
          -108.75981140136719,
          -112.1171875,
          -68.06244659423828,
          -72.02429962158203,
          -81.25581359863281,
          -108.46432495117188,
          -108.12129974365234,
          -108.5417251586914,
          -72.3463363647461,
          -77.20478820800781
         ]
        },
        {
         "customdata": [
          [
           "b674caa51e0fef56ea9b212d6062e632",
           -74.81263732910156
          ],
          [
           "c819db7c59e48ba36e3f465b9adaac6a",
           -108.33905792236328
          ],
          [
           "c819db7c59e48ba36e3f465b9adaac6a",
           -108.33905792236328
          ],
          [
           "c819db7c59e48ba36e3f465b9adaac6a",
           -108.33905792236328
          ],
          [
           "c186dd9891ccf6df0d66786891e3429f",
           -108.45990753173828
          ],
          [
           "c186dd9891ccf6df0d66786891e3429f",
           -108.45990753173828
          ],
          [
           "5c42721a18b30565424e0185a2cf6dcf",
           -111.97390747070312
          ],
          [
           "5c42721a18b30565424e0185a2cf6dcf",
           -111.97390747070312
          ],
          [
           "5c42721a18b30565424e0185a2cf6dcf",
           -111.97390747070312
          ],
          [
           "5c42721a18b30565424e0185a2cf6dcf",
           -111.97390747070312
          ],
          [
           "5c42721a18b30565424e0185a2cf6dcf",
           -111.97390747070312
          ],
          [
           "5c42721a18b30565424e0185a2cf6dcf",
           -111.97390747070312
          ],
          [
           "5c42721a18b30565424e0185a2cf6dcf",
           -111.97390747070312
          ],
          [
           "5c42721a18b30565424e0185a2cf6dcf",
           -111.97390747070312
          ],
          [
           "5c42721a18b30565424e0185a2cf6dcf",
           -111.97390747070312
          ],
          [
           "5c42721a18b30565424e0185a2cf6dcf",
           -111.97390747070312
          ],
          [
           "5c42721a18b30565424e0185a2cf6dcf",
           -111.97390747070312
          ],
          [
           "5c42721a18b30565424e0185a2cf6dcf",
           -111.97390747070312
          ],
          [
           "5c42721a18b30565424e0185a2cf6dcf",
           -111.97390747070312
          ],
          [
           "5c42721a18b30565424e0185a2cf6dcf",
           -111.97390747070312
          ],
          [
           "5c42721a18b30565424e0185a2cf6dcf",
           -111.97390747070312
          ],
          [
           "ad1c16261d371ea131353ff7839e4237",
           -112.1171875
          ],
          [
           "ad1c16261d371ea131353ff7839e4237",
           -112.1171875
          ],
          [
           "ad1c16261d371ea131353ff7839e4237",
           -112.1171875
          ],
          [
           "ad1c16261d371ea131353ff7839e4237",
           -112.1171875
          ],
          [
           "ad1c16261d371ea131353ff7839e4237",
           -112.1171875
          ],
          [
           "ad1c16261d371ea131353ff7839e4237",
           -112.1171875
          ],
          [
           "ad1c16261d371ea131353ff7839e4237",
           -112.1171875
          ],
          [
           "ad1c16261d371ea131353ff7839e4237",
           -112.1171875
          ],
          [
           "ad1c16261d371ea131353ff7839e4237",
           -112.1171875
          ]
         ],
         "hovertemplate": "<b>Best ID: %{customdata[0]}</b><br>value: %{customdata[1]}<extra></extra>",
         "mode": "lines",
         "name": "best-to-date",
         "type": "scatter",
         "y": [
          -74.81263732910156,
          -108.33905792236328,
          -108.33905792236328,
          -108.33905792236328,
          -108.45990753173828,
          -108.45990753173828,
          -111.97390747070312,
          -111.97390747070312,
          -111.97390747070312,
          -111.97390747070312,
          -111.97390747070312,
          -111.97390747070312,
          -111.97390747070312,
          -111.97390747070312,
          -111.97390747070312,
          -111.97390747070312,
          -111.97390747070312,
          -111.97390747070312,
          -111.97390747070312,
          -111.97390747070312,
          -111.97390747070312,
          -112.1171875,
          -112.1171875,
          -112.1171875,
          -112.1171875,
          -112.1171875,
          -112.1171875,
          -112.1171875,
          -112.1171875,
          -112.1171875
         ]
        }
       ],
       "layout": {
        "template": {
         "data": {
          "bar": [
           {
            "error_x": {
             "color": "#2a3f5f"
            },
            "error_y": {
             "color": "#2a3f5f"
            },
            "marker": {
             "line": {
              "color": "#E5ECF6",
              "width": 0.5
             },
             "pattern": {
              "fillmode": "overlay",
              "size": 10,
              "solidity": 0.2
             }
            },
            "type": "bar"
           }
          ],
          "barpolar": [
           {
            "marker": {
             "line": {
              "color": "#E5ECF6",
              "width": 0.5
             },
             "pattern": {
              "fillmode": "overlay",
              "size": 10,
              "solidity": 0.2
             }
            },
            "type": "barpolar"
           }
          ],
          "carpet": [
           {
            "aaxis": {
             "endlinecolor": "#2a3f5f",
             "gridcolor": "white",
             "linecolor": "white",
             "minorgridcolor": "white",
             "startlinecolor": "#2a3f5f"
            },
            "baxis": {
             "endlinecolor": "#2a3f5f",
             "gridcolor": "white",
             "linecolor": "white",
             "minorgridcolor": "white",
             "startlinecolor": "#2a3f5f"
            },
            "type": "carpet"
           }
          ],
          "choropleth": [
           {
            "colorbar": {
             "outlinewidth": 0,
             "ticks": ""
            },
            "type": "choropleth"
           }
          ],
          "contour": [
           {
            "colorbar": {
             "outlinewidth": 0,
             "ticks": ""
            },
            "colorscale": [
             [
              0,
              "#0d0887"
             ],
             [
              0.1111111111111111,
              "#46039f"
             ],
             [
              0.2222222222222222,
              "#7201a8"
             ],
             [
              0.3333333333333333,
              "#9c179e"
             ],
             [
              0.4444444444444444,
              "#bd3786"
             ],
             [
              0.5555555555555556,
              "#d8576b"
             ],
             [
              0.6666666666666666,
              "#ed7953"
             ],
             [
              0.7777777777777778,
              "#fb9f3a"
             ],
             [
              0.8888888888888888,
              "#fdca26"
             ],
             [
              1,
              "#f0f921"
             ]
            ],
            "type": "contour"
           }
          ],
          "contourcarpet": [
           {
            "colorbar": {
             "outlinewidth": 0,
             "ticks": ""
            },
            "type": "contourcarpet"
           }
          ],
          "heatmap": [
           {
            "colorbar": {
             "outlinewidth": 0,
             "ticks": ""
            },
            "colorscale": [
             [
              0,
              "#0d0887"
             ],
             [
              0.1111111111111111,
              "#46039f"
             ],
             [
              0.2222222222222222,
              "#7201a8"
             ],
             [
              0.3333333333333333,
              "#9c179e"
             ],
             [
              0.4444444444444444,
              "#bd3786"
             ],
             [
              0.5555555555555556,
              "#d8576b"
             ],
             [
              0.6666666666666666,
              "#ed7953"
             ],
             [
              0.7777777777777778,
              "#fb9f3a"
             ],
             [
              0.8888888888888888,
              "#fdca26"
             ],
             [
              1,
              "#f0f921"
             ]
            ],
            "type": "heatmap"
           }
          ],
          "heatmapgl": [
           {
            "colorbar": {
             "outlinewidth": 0,
             "ticks": ""
            },
            "colorscale": [
             [
              0,
              "#0d0887"
             ],
             [
              0.1111111111111111,
              "#46039f"
             ],
             [
              0.2222222222222222,
              "#7201a8"
             ],
             [
              0.3333333333333333,
              "#9c179e"
             ],
             [
              0.4444444444444444,
              "#bd3786"
             ],
             [
              0.5555555555555556,
              "#d8576b"
             ],
             [
              0.6666666666666666,
              "#ed7953"
             ],
             [
              0.7777777777777778,
              "#fb9f3a"
             ],
             [
              0.8888888888888888,
              "#fdca26"
             ],
             [
              1,
              "#f0f921"
             ]
            ],
            "type": "heatmapgl"
           }
          ],
          "histogram": [
           {
            "marker": {
             "pattern": {
              "fillmode": "overlay",
              "size": 10,
              "solidity": 0.2
             }
            },
            "type": "histogram"
           }
          ],
          "histogram2d": [
           {
            "colorbar": {
             "outlinewidth": 0,
             "ticks": ""
            },
            "colorscale": [
             [
              0,
              "#0d0887"
             ],
             [
              0.1111111111111111,
              "#46039f"
             ],
             [
              0.2222222222222222,
              "#7201a8"
             ],
             [
              0.3333333333333333,
              "#9c179e"
             ],
             [
              0.4444444444444444,
              "#bd3786"
             ],
             [
              0.5555555555555556,
              "#d8576b"
             ],
             [
              0.6666666666666666,
              "#ed7953"
             ],
             [
              0.7777777777777778,
              "#fb9f3a"
             ],
             [
              0.8888888888888888,
              "#fdca26"
             ],
             [
              1,
              "#f0f921"
             ]
            ],
            "type": "histogram2d"
           }
          ],
          "histogram2dcontour": [
           {
            "colorbar": {
             "outlinewidth": 0,
             "ticks": ""
            },
            "colorscale": [
             [
              0,
              "#0d0887"
             ],
             [
              0.1111111111111111,
              "#46039f"
             ],
             [
              0.2222222222222222,
              "#7201a8"
             ],
             [
              0.3333333333333333,
              "#9c179e"
             ],
             [
              0.4444444444444444,
              "#bd3786"
             ],
             [
              0.5555555555555556,
              "#d8576b"
             ],
             [
              0.6666666666666666,
              "#ed7953"
             ],
             [
              0.7777777777777778,
              "#fb9f3a"
             ],
             [
              0.8888888888888888,
              "#fdca26"
             ],
             [
              1,
              "#f0f921"
             ]
            ],
            "type": "histogram2dcontour"
           }
          ],
          "mesh3d": [
           {
            "colorbar": {
             "outlinewidth": 0,
             "ticks": ""
            },
            "type": "mesh3d"
           }
          ],
          "parcoords": [
           {
            "line": {
             "colorbar": {
              "outlinewidth": 0,
              "ticks": ""
             }
            },
            "type": "parcoords"
           }
          ],
          "pie": [
           {
            "automargin": true,
            "type": "pie"
           }
          ],
          "scatter": [
           {
            "fillpattern": {
             "fillmode": "overlay",
             "size": 10,
             "solidity": 0.2
            },
            "type": "scatter"
           }
          ],
          "scatter3d": [
           {
            "line": {
             "colorbar": {
              "outlinewidth": 0,
              "ticks": ""
             }
            },
            "marker": {
             "colorbar": {
              "outlinewidth": 0,
              "ticks": ""
             }
            },
            "type": "scatter3d"
           }
          ],
          "scattercarpet": [
           {
            "marker": {
             "colorbar": {
              "outlinewidth": 0,
              "ticks": ""
             }
            },
            "type": "scattercarpet"
           }
          ],
          "scattergeo": [
           {
            "marker": {
             "colorbar": {
              "outlinewidth": 0,
              "ticks": ""
             }
            },
            "type": "scattergeo"
           }
          ],
          "scattergl": [
           {
            "marker": {
             "colorbar": {
              "outlinewidth": 0,
              "ticks": ""
             }
            },
            "type": "scattergl"
           }
          ],
          "scattermapbox": [
           {
            "marker": {
             "colorbar": {
              "outlinewidth": 0,
              "ticks": ""
             }
            },
            "type": "scattermapbox"
           }
          ],
          "scatterpolar": [
           {
            "marker": {
             "colorbar": {
              "outlinewidth": 0,
              "ticks": ""
             }
            },
            "type": "scatterpolar"
           }
          ],
          "scatterpolargl": [
           {
            "marker": {
             "colorbar": {
              "outlinewidth": 0,
              "ticks": ""
             }
            },
            "type": "scatterpolargl"
           }
          ],
          "scatterternary": [
           {
            "marker": {
             "colorbar": {
              "outlinewidth": 0,
              "ticks": ""
             }
            },
            "type": "scatterternary"
           }
          ],
          "surface": [
           {
            "colorbar": {
             "outlinewidth": 0,
             "ticks": ""
            },
            "colorscale": [
             [
              0,
              "#0d0887"
             ],
             [
              0.1111111111111111,
              "#46039f"
             ],
             [
              0.2222222222222222,
              "#7201a8"
             ],
             [
              0.3333333333333333,
              "#9c179e"
             ],
             [
              0.4444444444444444,
              "#bd3786"
             ],
             [
              0.5555555555555556,
              "#d8576b"
             ],
             [
              0.6666666666666666,
              "#ed7953"
             ],
             [
              0.7777777777777778,
              "#fb9f3a"
             ],
             [
              0.8888888888888888,
              "#fdca26"
             ],
             [
              1,
              "#f0f921"
             ]
            ],
            "type": "surface"
           }
          ],
          "table": [
           {
            "cells": {
             "fill": {
              "color": "#EBF0F8"
             },
             "line": {
              "color": "white"
             }
            },
            "header": {
             "fill": {
              "color": "#C8D4E3"
             },
             "line": {
              "color": "white"
             }
            },
            "type": "table"
           }
          ]
         },
         "layout": {
          "annotationdefaults": {
           "arrowcolor": "#2a3f5f",
           "arrowhead": 0,
           "arrowwidth": 1
          },
          "autotypenumbers": "strict",
          "coloraxis": {
           "colorbar": {
            "outlinewidth": 0,
            "ticks": ""
           }
          },
          "colorscale": {
           "diverging": [
            [
             0,
             "#8e0152"
            ],
            [
             0.1,
             "#c51b7d"
            ],
            [
             0.2,
             "#de77ae"
            ],
            [
             0.3,
             "#f1b6da"
            ],
            [
             0.4,
             "#fde0ef"
            ],
            [
             0.5,
             "#f7f7f7"
            ],
            [
             0.6,
             "#e6f5d0"
            ],
            [
             0.7,
             "#b8e186"
            ],
            [
             0.8,
             "#7fbc41"
            ],
            [
             0.9,
             "#4d9221"
            ],
            [
             1,
             "#276419"
            ]
           ],
           "sequential": [
            [
             0,
             "#0d0887"
            ],
            [
             0.1111111111111111,
             "#46039f"
            ],
            [
             0.2222222222222222,
             "#7201a8"
            ],
            [
             0.3333333333333333,
             "#9c179e"
            ],
            [
             0.4444444444444444,
             "#bd3786"
            ],
            [
             0.5555555555555556,
             "#d8576b"
            ],
            [
             0.6666666666666666,
             "#ed7953"
            ],
            [
             0.7777777777777778,
             "#fb9f3a"
            ],
            [
             0.8888888888888888,
             "#fdca26"
            ],
            [
             1,
             "#f0f921"
            ]
           ],
           "sequentialminus": [
            [
             0,
             "#0d0887"
            ],
            [
             0.1111111111111111,
             "#46039f"
            ],
            [
             0.2222222222222222,
             "#7201a8"
            ],
            [
             0.3333333333333333,
             "#9c179e"
            ],
            [
             0.4444444444444444,
             "#bd3786"
            ],
            [
             0.5555555555555556,
             "#d8576b"
            ],
            [
             0.6666666666666666,
             "#ed7953"
            ],
            [
             0.7777777777777778,
             "#fb9f3a"
            ],
            [
             0.8888888888888888,
             "#fdca26"
            ],
            [
             1,
             "#f0f921"
            ]
           ]
          },
          "colorway": [
           "#636efa",
           "#EF553B",
           "#00cc96",
           "#ab63fa",
           "#FFA15A",
           "#19d3f3",
           "#FF6692",
           "#B6E880",
           "#FF97FF",
           "#FECB52"
          ],
          "font": {
           "color": "#2a3f5f"
          },
          "geo": {
           "bgcolor": "white",
           "lakecolor": "white",
           "landcolor": "#E5ECF6",
           "showlakes": true,
           "showland": true,
           "subunitcolor": "white"
          },
          "hoverlabel": {
           "align": "left"
          },
          "hovermode": "closest",
          "mapbox": {
           "style": "light"
          },
          "paper_bgcolor": "white",
          "plot_bgcolor": "#E5ECF6",
          "polar": {
           "angularaxis": {
            "gridcolor": "white",
            "linecolor": "white",
            "ticks": ""
           },
           "bgcolor": "#E5ECF6",
           "radialaxis": {
            "gridcolor": "white",
            "linecolor": "white",
            "ticks": ""
           }
          },
          "scene": {
           "xaxis": {
            "backgroundcolor": "#E5ECF6",
            "gridcolor": "white",
            "gridwidth": 2,
            "linecolor": "white",
            "showbackground": true,
            "ticks": "",
            "zerolinecolor": "white"
           },
           "yaxis": {
            "backgroundcolor": "#E5ECF6",
            "gridcolor": "white",
            "gridwidth": 2,
            "linecolor": "white",
            "showbackground": true,
            "ticks": "",
            "zerolinecolor": "white"
           },
           "zaxis": {
            "backgroundcolor": "#E5ECF6",
            "gridcolor": "white",
            "gridwidth": 2,
            "linecolor": "white",
            "showbackground": true,
            "ticks": "",
            "zerolinecolor": "white"
           }
          },
          "shapedefaults": {
           "line": {
            "color": "#2a3f5f"
           }
          },
          "ternary": {
           "aaxis": {
            "gridcolor": "white",
            "linecolor": "white",
            "ticks": ""
           },
           "baxis": {
            "gridcolor": "white",
            "linecolor": "white",
            "ticks": ""
           },
           "bgcolor": "#E5ECF6",
           "caxis": {
            "gridcolor": "white",
            "linecolor": "white",
            "ticks": ""
           }
          },
          "title": {
           "x": 0.05
          },
          "xaxis": {
           "automargin": true,
           "gridcolor": "white",
           "linecolor": "white",
           "ticks": "",
           "title": {
            "standoff": 15
           },
           "zerolinecolor": "white",
           "zerolinewidth": 2
          },
          "yaxis": {
           "automargin": true,
           "gridcolor": "white",
           "linecolor": "white",
           "ticks": "",
           "title": {
            "standoff": 15
           },
           "zerolinecolor": "white",
           "zerolinewidth": 2
          }
         }
        },
        "title": {
         "text": "Regret for experiment 'exp_classic_cnn_orion'"
        },
        "xaxis": {
         "title": {
          "text": "Trials ordered by suggested time"
         }
        },
        "yaxis": {
         "title": {
          "text": "Objective 'dev_metric'"
         }
        }
       }
      },
      "text/html": [
       "<div>                            <div id=\"5c8b70ab-5575-454a-8b25-5ef4e7bc9b3f\" class=\"plotly-graph-div\" style=\"height:525px; width:100%;\"></div>            <script type=\"text/javascript\">                require([\"plotly\"], function(Plotly) {                    window.PLOTLYENV=window.PLOTLYENV || {};                                    if (document.getElementById(\"5c8b70ab-5575-454a-8b25-5ef4e7bc9b3f\")) {                    Plotly.newPlot(                        \"5c8b70ab-5575-454a-8b25-5ef4e7bc9b3f\",                        [{\"customdata\":[[\"b674caa51e0fef56ea9b212d6062e632\",\"2022-07-25T15:45:05.702704\",\"<br>  /lr: 4.301E-05<br>  /num_filters: 8\"],[\"c819db7c59e48ba36e3f465b9adaac6a\",\"2022-07-25T15:48:37.503147\",\"<br>  /lr: 0.02116<br>  /num_filters: 4\"],[\"16bb080df30a8e7331cb0ff09690bcf8\",\"2022-07-25T15:51:59.970431\",\"<br>  /lr: 0.005657<br>  /num_filters: 2\"],[\"fff62843681057422fd17ab2a5b6f428\",\"2022-07-25T15:55:27.984449\",\"<br>  /lr: 2.814E-05<br>  /num_filters: 4\"],[\"c186dd9891ccf6df0d66786891e3429f\",\"2022-07-25T15:59:09.289305\",\"<br>  /lr: 0.005024<br>  /num_filters: 8\"],[\"0eded8b512bb165ba8e18d41ba6300ff\",\"2022-07-25T16:03:07.225669\",\"<br>  /lr: 1.099E-05<br>  /num_filters: 4\"],[\"5c42721a18b30565424e0185a2cf6dcf\",\"2022-07-25T16:07:15.410520\",\"<br>  /lr: 0.7815<br>  /num_filters: 4\"],[\"61018f4fbb6ef2094c842dc7c9461797\",\"2022-07-25T16:11:32.994393\",\"<br>  /lr: 0.005309<br>  /num_filters: 2\"],[\"393de3640bafb09a9e95d6e3eb63db6f\",\"2022-07-25T16:15:54.594996\",\"<br>  /lr: 0.0001723<br>  /num_filters: 2\"],[\"16b05f786a837a9fbe3e81e6daa3d073\",\"2022-07-25T16:20:17.286969\",\"<br>  /lr: 0.3496<br>  /num_filters: 4\"],[\"a53ff7ab8492bd55901c45849a90cee7\",\"2022-07-25T16:24:50.958850\",\"<br>  /lr: 0.5985<br>  /num_filters: 8\"],[\"138cc4d8dc02e567082533ebdb5d00bc\",\"2022-07-25T16:30:01.087086\",\"<br>  /lr: 5.096E-05<br>  /num_filters: 2\"],[\"352c54b03dd2150c3760f585d3c5beb6\",\"2022-07-25T16:35:00.722032\",\"<br>  /lr: 1.608E-05<br>  /num_filters: 2\"],[\"fa727c2710870384e44ea12361b47a99\",\"2022-07-25T16:40:00.615824\",\"<br>  /lr: 7.797E-05<br>  /num_filters: 8\"],[\"f6dba64644b8933e8d6838a7693f836d\",\"2022-07-25T16:45:38.308488\",\"<br>  /lr: 0.02306<br>  /num_filters: 4\"],[\"1c17125c0009779f01c36a9fb1bc1461\",\"2022-07-25T16:51:12.949739\",\"<br>  /lr: 0.004133<br>  /num_filters: 4\"],[\"b2a2a11661b0f1a2a014034640e3b4a8\",\"2022-07-25T16:56:55.538512\",\"<br>  /lr: 0.001729<br>  /num_filters: 2\"],[\"4420a0179a6bb7851739a796aa765c95\",\"2022-07-25T17:02:42.657422\",\"<br>  /lr: 0.5666<br>  /num_filters: 2\"],[\"cf110fe0a4df5713d0dd4ab35c02d6bc\",\"2022-07-25T17:08:31.019694\",\"<br>  /lr: 0.1758<br>  /num_filters: 4\"],[\"dd880aa6a9c22ad69ed39b432a073a3e\",\"2022-07-25T17:14:31.816120\",\"<br>  /lr: 0.08176<br>  /num_filters: 2\"],[\"f3ec4df34faf4a9a2c2d046efe3bb9e9\",\"2022-07-25T17:20:35.366754\",\"<br>  /lr: 0.06836<br>  /num_filters: 2\"],[\"ad1c16261d371ea131353ff7839e4237\",\"2022-07-25T17:26:44.834001\",\"<br>  /lr: 0.9654<br>  /num_filters: 4\"],[\"843481dbbc4ad7c54f2765f1bb406d43\",\"2022-07-25T17:33:01.601221\",\"<br>  /lr: 0.0002697<br>  /num_filters: 8\"],[\"b981d775c5fac780e30f806012dbfc88\",\"2022-07-25T17:39:49.175007\",\"<br>  /lr: 7.63E-05<br>  /num_filters: 8\"],[\"5e31efaf2f7703c8db8da56599d96f91\",\"2022-07-25T17:46:51.785701\",\"<br>  /lr: 1.901E-05<br>  /num_filters: 8\"],[\"12a8f24d00341b565a925e224463615c\",\"2022-07-25T17:54:12.734599\",\"<br>  /lr: 0.002826<br>  /num_filters: 8\"],[\"8a33d662e67d03ef41e0dcf214ac53ef\",\"2022-07-25T18:01:42.475819\",\"<br>  /lr: 0.004121<br>  /num_filters: 4\"],[\"7f99879c108d68f8e9add9fcdd252a20\",\"2022-07-25T18:09:15.866322\",\"<br>  /lr: 0.0464<br>  /num_filters: 8\"],[\"f3999715dc5170944158d97497706671\",\"2022-07-25T18:17:10.786554\",\"<br>  /lr: 8.159E-05<br>  /num_filters: 8\"],[\"e0c2615441e21d518f8792c72585028c\",\"2022-07-25T18:25:35.552389\",\"<br>  /lr: 0.0001719<br>  /num_filters: 2\"]],\"hovertemplate\":\"<b>ID: %{customdata[0]}</b><br>value: %{y}<br>time: %{customdata[1]|%Y-%m-%d %H:%M:%S}<br>parameters: %{customdata[2]}<extra></extra>\",\"mode\":\"markers\",\"name\":\"trials\",\"y\":[-74.81263732910156,-108.33905792236328,-108.33506774902344,-84.13024139404297,-108.45990753173828,-91.21258544921875,-111.97390747070312,-107.91643524169922,-77.8935317993164,-109.75959777832031,-111.09058380126953,-84.24274444580078,-92.1225357055664,-72.17874145507812,-108.31692504882812,-107.44686889648438,-81.09728240966797,-111.29414367675781,-109.35459899902344,-108.93731689453125,-108.75981140136719,-112.1171875,-68.06244659423828,-72.02429962158203,-81.25581359863281,-108.46432495117188,-108.12129974365234,-108.5417251586914,-72.3463363647461,-77.20478820800781],\"type\":\"scatter\"},{\"customdata\":[[\"b674caa51e0fef56ea9b212d6062e632\",-74.81263732910156],[\"c819db7c59e48ba36e3f465b9adaac6a\",-108.33905792236328],[\"c819db7c59e48ba36e3f465b9adaac6a\",-108.33905792236328],[\"c819db7c59e48ba36e3f465b9adaac6a\",-108.33905792236328],[\"c186dd9891ccf6df0d66786891e3429f\",-108.45990753173828],[\"c186dd9891ccf6df0d66786891e3429f\",-108.45990753173828],[\"5c42721a18b30565424e0185a2cf6dcf\",-111.97390747070312],[\"5c42721a18b30565424e0185a2cf6dcf\",-111.97390747070312],[\"5c42721a18b30565424e0185a2cf6dcf\",-111.97390747070312],[\"5c42721a18b30565424e0185a2cf6dcf\",-111.97390747070312],[\"5c42721a18b30565424e0185a2cf6dcf\",-111.97390747070312],[\"5c42721a18b30565424e0185a2cf6dcf\",-111.97390747070312],[\"5c42721a18b30565424e0185a2cf6dcf\",-111.97390747070312],[\"5c42721a18b30565424e0185a2cf6dcf\",-111.97390747070312],[\"5c42721a18b30565424e0185a2cf6dcf\",-111.97390747070312],[\"5c42721a18b30565424e0185a2cf6dcf\",-111.97390747070312],[\"5c42721a18b30565424e0185a2cf6dcf\",-111.97390747070312],[\"5c42721a18b30565424e0185a2cf6dcf\",-111.97390747070312],[\"5c42721a18b30565424e0185a2cf6dcf\",-111.97390747070312],[\"5c42721a18b30565424e0185a2cf6dcf\",-111.97390747070312],[\"5c42721a18b30565424e0185a2cf6dcf\",-111.97390747070312],[\"ad1c16261d371ea131353ff7839e4237\",-112.1171875],[\"ad1c16261d371ea131353ff7839e4237\",-112.1171875],[\"ad1c16261d371ea131353ff7839e4237\",-112.1171875],[\"ad1c16261d371ea131353ff7839e4237\",-112.1171875],[\"ad1c16261d371ea131353ff7839e4237\",-112.1171875],[\"ad1c16261d371ea131353ff7839e4237\",-112.1171875],[\"ad1c16261d371ea131353ff7839e4237\",-112.1171875],[\"ad1c16261d371ea131353ff7839e4237\",-112.1171875],[\"ad1c16261d371ea131353ff7839e4237\",-112.1171875]],\"hovertemplate\":\"<b>Best ID: %{customdata[0]}</b><br>value: %{customdata[1]}<extra></extra>\",\"mode\":\"lines\",\"name\":\"best-to-date\",\"y\":[-74.81263732910156,-108.33905792236328,-108.33905792236328,-108.33905792236328,-108.45990753173828,-108.45990753173828,-111.97390747070312,-111.97390747070312,-111.97390747070312,-111.97390747070312,-111.97390747070312,-111.97390747070312,-111.97390747070312,-111.97390747070312,-111.97390747070312,-111.97390747070312,-111.97390747070312,-111.97390747070312,-111.97390747070312,-111.97390747070312,-111.97390747070312,-112.1171875,-112.1171875,-112.1171875,-112.1171875,-112.1171875,-112.1171875,-112.1171875,-112.1171875,-112.1171875],\"type\":\"scatter\"}],                        {\"template\":{\"data\":{\"histogram2dcontour\":[{\"type\":\"histogram2dcontour\",\"colorbar\":{\"outlinewidth\":0,\"ticks\":\"\"},\"colorscale\":[[0.0,\"#0d0887\"],[0.1111111111111111,\"#46039f\"],[0.2222222222222222,\"#7201a8\"],[0.3333333333333333,\"#9c179e\"],[0.4444444444444444,\"#bd3786\"],[0.5555555555555556,\"#d8576b\"],[0.6666666666666666,\"#ed7953\"],[0.7777777777777778,\"#fb9f3a\"],[0.8888888888888888,\"#fdca26\"],[1.0,\"#f0f921\"]]}],\"choropleth\":[{\"type\":\"choropleth\",\"colorbar\":{\"outlinewidth\":0,\"ticks\":\"\"}}],\"histogram2d\":[{\"type\":\"histogram2d\",\"colorbar\":{\"outlinewidth\":0,\"ticks\":\"\"},\"colorscale\":[[0.0,\"#0d0887\"],[0.1111111111111111,\"#46039f\"],[0.2222222222222222,\"#7201a8\"],[0.3333333333333333,\"#9c179e\"],[0.4444444444444444,\"#bd3786\"],[0.5555555555555556,\"#d8576b\"],[0.6666666666666666,\"#ed7953\"],[0.7777777777777778,\"#fb9f3a\"],[0.8888888888888888,\"#fdca26\"],[1.0,\"#f0f921\"]]}],\"heatmap\":[{\"type\":\"heatmap\",\"colorbar\":{\"outlinewidth\":0,\"ticks\":\"\"},\"colorscale\":[[0.0,\"#0d0887\"],[0.1111111111111111,\"#46039f\"],[0.2222222222222222,\"#7201a8\"],[0.3333333333333333,\"#9c179e\"],[0.4444444444444444,\"#bd3786\"],[0.5555555555555556,\"#d8576b\"],[0.6666666666666666,\"#ed7953\"],[0.7777777777777778,\"#fb9f3a\"],[0.8888888888888888,\"#fdca26\"],[1.0,\"#f0f921\"]]}],\"heatmapgl\":[{\"type\":\"heatmapgl\",\"colorbar\":{\"outlinewidth\":0,\"ticks\":\"\"},\"colorscale\":[[0.0,\"#0d0887\"],[0.1111111111111111,\"#46039f\"],[0.2222222222222222,\"#7201a8\"],[0.3333333333333333,\"#9c179e\"],[0.4444444444444444,\"#bd3786\"],[0.5555555555555556,\"#d8576b\"],[0.6666666666666666,\"#ed7953\"],[0.7777777777777778,\"#fb9f3a\"],[0.8888888888888888,\"#fdca26\"],[1.0,\"#f0f921\"]]}],\"contourcarpet\":[{\"type\":\"contourcarpet\",\"colorbar\":{\"outlinewidth\":0,\"ticks\":\"\"}}],\"contour\":[{\"type\":\"contour\",\"colorbar\":{\"outlinewidth\":0,\"ticks\":\"\"},\"colorscale\":[[0.0,\"#0d0887\"],[0.1111111111111111,\"#46039f\"],[0.2222222222222222,\"#7201a8\"],[0.3333333333333333,\"#9c179e\"],[0.4444444444444444,\"#bd3786\"],[0.5555555555555556,\"#d8576b\"],[0.6666666666666666,\"#ed7953\"],[0.7777777777777778,\"#fb9f3a\"],[0.8888888888888888,\"#fdca26\"],[1.0,\"#f0f921\"]]}],\"surface\":[{\"type\":\"surface\",\"colorbar\":{\"outlinewidth\":0,\"ticks\":\"\"},\"colorscale\":[[0.0,\"#0d0887\"],[0.1111111111111111,\"#46039f\"],[0.2222222222222222,\"#7201a8\"],[0.3333333333333333,\"#9c179e\"],[0.4444444444444444,\"#bd3786\"],[0.5555555555555556,\"#d8576b\"],[0.6666666666666666,\"#ed7953\"],[0.7777777777777778,\"#fb9f3a\"],[0.8888888888888888,\"#fdca26\"],[1.0,\"#f0f921\"]]}],\"mesh3d\":[{\"type\":\"mesh3d\",\"colorbar\":{\"outlinewidth\":0,\"ticks\":\"\"}}],\"scatter\":[{\"fillpattern\":{\"fillmode\":\"overlay\",\"size\":10,\"solidity\":0.2},\"type\":\"scatter\"}],\"parcoords\":[{\"type\":\"parcoords\",\"line\":{\"colorbar\":{\"outlinewidth\":0,\"ticks\":\"\"}}}],\"scatterpolargl\":[{\"type\":\"scatterpolargl\",\"marker\":{\"colorbar\":{\"outlinewidth\":0,\"ticks\":\"\"}}}],\"bar\":[{\"error_x\":{\"color\":\"#2a3f5f\"},\"error_y\":{\"color\":\"#2a3f5f\"},\"marker\":{\"line\":{\"color\":\"#E5ECF6\",\"width\":0.5},\"pattern\":{\"fillmode\":\"overlay\",\"size\":10,\"solidity\":0.2}},\"type\":\"bar\"}],\"scattergeo\":[{\"type\":\"scattergeo\",\"marker\":{\"colorbar\":{\"outlinewidth\":0,\"ticks\":\"\"}}}],\"scatterpolar\":[{\"type\":\"scatterpolar\",\"marker\":{\"colorbar\":{\"outlinewidth\":0,\"ticks\":\"\"}}}],\"histogram\":[{\"marker\":{\"pattern\":{\"fillmode\":\"overlay\",\"size\":10,\"solidity\":0.2}},\"type\":\"histogram\"}],\"scattergl\":[{\"type\":\"scattergl\",\"marker\":{\"colorbar\":{\"outlinewidth\":0,\"ticks\":\"\"}}}],\"scatter3d\":[{\"type\":\"scatter3d\",\"line\":{\"colorbar\":{\"outlinewidth\":0,\"ticks\":\"\"}},\"marker\":{\"colorbar\":{\"outlinewidth\":0,\"ticks\":\"\"}}}],\"scattermapbox\":[{\"type\":\"scattermapbox\",\"marker\":{\"colorbar\":{\"outlinewidth\":0,\"ticks\":\"\"}}}],\"scatterternary\":[{\"type\":\"scatterternary\",\"marker\":{\"colorbar\":{\"outlinewidth\":0,\"ticks\":\"\"}}}],\"scattercarpet\":[{\"type\":\"scattercarpet\",\"marker\":{\"colorbar\":{\"outlinewidth\":0,\"ticks\":\"\"}}}],\"carpet\":[{\"aaxis\":{\"endlinecolor\":\"#2a3f5f\",\"gridcolor\":\"white\",\"linecolor\":\"white\",\"minorgridcolor\":\"white\",\"startlinecolor\":\"#2a3f5f\"},\"baxis\":{\"endlinecolor\":\"#2a3f5f\",\"gridcolor\":\"white\",\"linecolor\":\"white\",\"minorgridcolor\":\"white\",\"startlinecolor\":\"#2a3f5f\"},\"type\":\"carpet\"}],\"table\":[{\"cells\":{\"fill\":{\"color\":\"#EBF0F8\"},\"line\":{\"color\":\"white\"}},\"header\":{\"fill\":{\"color\":\"#C8D4E3\"},\"line\":{\"color\":\"white\"}},\"type\":\"table\"}],\"barpolar\":[{\"marker\":{\"line\":{\"color\":\"#E5ECF6\",\"width\":0.5},\"pattern\":{\"fillmode\":\"overlay\",\"size\":10,\"solidity\":0.2}},\"type\":\"barpolar\"}],\"pie\":[{\"automargin\":true,\"type\":\"pie\"}]},\"layout\":{\"autotypenumbers\":\"strict\",\"colorway\":[\"#636efa\",\"#EF553B\",\"#00cc96\",\"#ab63fa\",\"#FFA15A\",\"#19d3f3\",\"#FF6692\",\"#B6E880\",\"#FF97FF\",\"#FECB52\"],\"font\":{\"color\":\"#2a3f5f\"},\"hovermode\":\"closest\",\"hoverlabel\":{\"align\":\"left\"},\"paper_bgcolor\":\"white\",\"plot_bgcolor\":\"#E5ECF6\",\"polar\":{\"bgcolor\":\"#E5ECF6\",\"angularaxis\":{\"gridcolor\":\"white\",\"linecolor\":\"white\",\"ticks\":\"\"},\"radialaxis\":{\"gridcolor\":\"white\",\"linecolor\":\"white\",\"ticks\":\"\"}},\"ternary\":{\"bgcolor\":\"#E5ECF6\",\"aaxis\":{\"gridcolor\":\"white\",\"linecolor\":\"white\",\"ticks\":\"\"},\"baxis\":{\"gridcolor\":\"white\",\"linecolor\":\"white\",\"ticks\":\"\"},\"caxis\":{\"gridcolor\":\"white\",\"linecolor\":\"white\",\"ticks\":\"\"}},\"coloraxis\":{\"colorbar\":{\"outlinewidth\":0,\"ticks\":\"\"}},\"colorscale\":{\"sequential\":[[0.0,\"#0d0887\"],[0.1111111111111111,\"#46039f\"],[0.2222222222222222,\"#7201a8\"],[0.3333333333333333,\"#9c179e\"],[0.4444444444444444,\"#bd3786\"],[0.5555555555555556,\"#d8576b\"],[0.6666666666666666,\"#ed7953\"],[0.7777777777777778,\"#fb9f3a\"],[0.8888888888888888,\"#fdca26\"],[1.0,\"#f0f921\"]],\"sequentialminus\":[[0.0,\"#0d0887\"],[0.1111111111111111,\"#46039f\"],[0.2222222222222222,\"#7201a8\"],[0.3333333333333333,\"#9c179e\"],[0.4444444444444444,\"#bd3786\"],[0.5555555555555556,\"#d8576b\"],[0.6666666666666666,\"#ed7953\"],[0.7777777777777778,\"#fb9f3a\"],[0.8888888888888888,\"#fdca26\"],[1.0,\"#f0f921\"]],\"diverging\":[[0,\"#8e0152\"],[0.1,\"#c51b7d\"],[0.2,\"#de77ae\"],[0.3,\"#f1b6da\"],[0.4,\"#fde0ef\"],[0.5,\"#f7f7f7\"],[0.6,\"#e6f5d0\"],[0.7,\"#b8e186\"],[0.8,\"#7fbc41\"],[0.9,\"#4d9221\"],[1,\"#276419\"]]},\"xaxis\":{\"gridcolor\":\"white\",\"linecolor\":\"white\",\"ticks\":\"\",\"title\":{\"standoff\":15},\"zerolinecolor\":\"white\",\"automargin\":true,\"zerolinewidth\":2},\"yaxis\":{\"gridcolor\":\"white\",\"linecolor\":\"white\",\"ticks\":\"\",\"title\":{\"standoff\":15},\"zerolinecolor\":\"white\",\"automargin\":true,\"zerolinewidth\":2},\"scene\":{\"xaxis\":{\"backgroundcolor\":\"#E5ECF6\",\"gridcolor\":\"white\",\"linecolor\":\"white\",\"showbackground\":true,\"ticks\":\"\",\"zerolinecolor\":\"white\",\"gridwidth\":2},\"yaxis\":{\"backgroundcolor\":\"#E5ECF6\",\"gridcolor\":\"white\",\"linecolor\":\"white\",\"showbackground\":true,\"ticks\":\"\",\"zerolinecolor\":\"white\",\"gridwidth\":2},\"zaxis\":{\"backgroundcolor\":\"#E5ECF6\",\"gridcolor\":\"white\",\"linecolor\":\"white\",\"showbackground\":true,\"ticks\":\"\",\"zerolinecolor\":\"white\",\"gridwidth\":2}},\"shapedefaults\":{\"line\":{\"color\":\"#2a3f5f\"}},\"annotationdefaults\":{\"arrowcolor\":\"#2a3f5f\",\"arrowhead\":0,\"arrowwidth\":1},\"geo\":{\"bgcolor\":\"white\",\"landcolor\":\"#E5ECF6\",\"subunitcolor\":\"white\",\"showland\":true,\"showlakes\":true,\"lakecolor\":\"white\"},\"title\":{\"x\":0.05},\"mapbox\":{\"style\":\"light\"}}},\"title\":{\"text\":\"Regret for experiment 'exp_classic_cnn_orion'\"},\"xaxis\":{\"title\":{\"text\":\"Trials ordered by suggested time\"}},\"yaxis\":{\"title\":{\"text\":\"Objective 'dev_metric'\"}}},                        {\"responsive\": true}                    ).then(function(){\n",
       "                            \n",
       "var gd = document.getElementById('5c8b70ab-5575-454a-8b25-5ef4e7bc9b3f');\n",
       "var x = new MutationObserver(function (mutations, observer) {{\n",
       "        var display = window.getComputedStyle(gd).display;\n",
       "        if (!display || display === 'none') {{\n",
       "            console.log([gd, 'removed!']);\n",
       "            Plotly.purge(gd);\n",
       "            observer.disconnect();\n",
       "        }}\n",
       "}});\n",
       "\n",
       "// Listen for the removal of the full notebook cells\n",
       "var notebookContainer = gd.closest('#notebook-container');\n",
       "if (notebookContainer) {{\n",
       "    x.observe(notebookContainer, {childList: true});\n",
       "}}\n",
       "\n",
       "// Listen for the clearing of the current output cell\n",
       "var outputEl = gd.closest('.output');\n",
       "if (outputEl) {{\n",
       "    x.observe(outputEl, {childList: true});\n",
       "}}\n",
       "\n",
       "                        })                };                });            </script>        </div>"
      ]
     },
     "metadata": {},
     "output_type": "display_data"
    }
   ],
   "source": [
    "storage = dict(type=\"legacy\", database=dict(type=\"pickleddb\", host=\"./examples/slurm_orion/orion_db.pkl\"))\n",
    "experiment = get_experiment(\"exp_classic_cnn_orion\", storage=storage)\n",
    "fig = experiment.plot.regret()\n",
    "fig"
   ]
  },
  {
   "cell_type": "code",
   "execution_count": 12,
   "metadata": {},
   "outputs": [
    {
     "data": {
      "application/vnd.plotly.v1+json": {
       "config": {
        "plotlyServerURL": "https://plot.ly"
       },
       "data": [
        {
         "dimensions": [
          {
           "label": "/lr",
           "range": [
            0.00001,
            1
           ],
           "values": [
            0.00004301,
            0.02116,
            0.005657,
            0.00002814,
            0.005024,
            0.00001099,
            0.7815,
            0.005309,
            0.0001723,
            0.3496,
            0.5985,
            0.00005096,
            0.00001608,
            0.00007797,
            0.02306,
            0.004133,
            0.001729,
            0.5666,
            0.1758,
            0.08176,
            0.06836,
            0.9654,
            0.0002697,
            0.0000763,
            0.00001901,
            0.002826,
            0.004121,
            0.0464,
            0.00008159,
            0.0001719
           ]
          },
          {
           "label": "/num_filters",
           "ticktext": [
            2,
            4,
            8
           ],
           "tickvals": [
            0,
            1,
            2
           ],
           "values": [
            2,
            1,
            0,
            1,
            2,
            1,
            1,
            0,
            0,
            1,
            2,
            0,
            0,
            2,
            1,
            1,
            0,
            0,
            1,
            0,
            0,
            1,
            2,
            2,
            2,
            2,
            1,
            2,
            2,
            0
           ]
          },
          {
           "label": "dev_metric",
           "range": [
            -112.1171875,
            -68.06244659423828
           ],
           "values": [
            -74.81263732910156,
            -108.33905792236328,
            -108.33506774902344,
            -84.13024139404297,
            -108.45990753173828,
            -91.21258544921875,
            -111.97390747070312,
            -107.91643524169922,
            -77.8935317993164,
            -109.75959777832031,
            -111.09058380126953,
            -84.24274444580078,
            -92.1225357055664,
            -72.17874145507812,
            -108.31692504882812,
            -107.44686889648438,
            -81.09728240966797,
            -111.29414367675781,
            -109.35459899902344,
            -108.93731689453125,
            -108.75981140136719,
            -112.1171875,
            -68.06244659423828,
            -72.02429962158203,
            -81.25581359863281,
            -108.46432495117188,
            -108.12129974365234,
            -108.5417251586914,
            -72.3463363647461,
            -77.20478820800781
           ]
          }
         ],
         "line": {
          "cmax": -68.06244659423828,
          "cmin": -112.1171875,
          "color": [
           -74.81263732910156,
           -108.33905792236328,
           -108.33506774902344,
           -84.13024139404297,
           -108.45990753173828,
           -91.21258544921875,
           -111.97390747070312,
           -107.91643524169922,
           -77.8935317993164,
           -109.75959777832031,
           -111.09058380126953,
           -84.24274444580078,
           -92.1225357055664,
           -72.17874145507812,
           -108.31692504882812,
           -107.44686889648438,
           -81.09728240966797,
           -111.29414367675781,
           -109.35459899902344,
           -108.93731689453125,
           -108.75981140136719,
           -112.1171875,
           -68.06244659423828,
           -72.02429962158203,
           -81.25581359863281,
           -108.46432495117188,
           -108.12129974365234,
           -108.5417251586914,
           -72.3463363647461,
           -77.20478820800781
          ],
          "colorbar": {
           "title": {
            "text": "dev_metric"
           }
          },
          "colorscale": [
           [
            0,
            "rgb(255,255,204)"
           ],
           [
            0.125,
            "rgb(255,237,160)"
           ],
           [
            0.25,
            "rgb(254,217,118)"
           ],
           [
            0.375,
            "rgb(254,178,76)"
           ],
           [
            0.5,
            "rgb(253,141,60)"
           ],
           [
            0.625,
            "rgb(252,78,42)"
           ],
           [
            0.75,
            "rgb(227,26,28)"
           ],
           [
            0.875,
            "rgb(189,0,38)"
           ],
           [
            1,
            "rgb(128,0,38)"
           ]
          ],
          "showscale": true
         },
         "type": "parcoords"
        }
       ],
       "layout": {
        "template": {
         "data": {
          "bar": [
           {
            "error_x": {
             "color": "#2a3f5f"
            },
            "error_y": {
             "color": "#2a3f5f"
            },
            "marker": {
             "line": {
              "color": "#E5ECF6",
              "width": 0.5
             },
             "pattern": {
              "fillmode": "overlay",
              "size": 10,
              "solidity": 0.2
             }
            },
            "type": "bar"
           }
          ],
          "barpolar": [
           {
            "marker": {
             "line": {
              "color": "#E5ECF6",
              "width": 0.5
             },
             "pattern": {
              "fillmode": "overlay",
              "size": 10,
              "solidity": 0.2
             }
            },
            "type": "barpolar"
           }
          ],
          "carpet": [
           {
            "aaxis": {
             "endlinecolor": "#2a3f5f",
             "gridcolor": "white",
             "linecolor": "white",
             "minorgridcolor": "white",
             "startlinecolor": "#2a3f5f"
            },
            "baxis": {
             "endlinecolor": "#2a3f5f",
             "gridcolor": "white",
             "linecolor": "white",
             "minorgridcolor": "white",
             "startlinecolor": "#2a3f5f"
            },
            "type": "carpet"
           }
          ],
          "choropleth": [
           {
            "colorbar": {
             "outlinewidth": 0,
             "ticks": ""
            },
            "type": "choropleth"
           }
          ],
          "contour": [
           {
            "colorbar": {
             "outlinewidth": 0,
             "ticks": ""
            },
            "colorscale": [
             [
              0,
              "#0d0887"
             ],
             [
              0.1111111111111111,
              "#46039f"
             ],
             [
              0.2222222222222222,
              "#7201a8"
             ],
             [
              0.3333333333333333,
              "#9c179e"
             ],
             [
              0.4444444444444444,
              "#bd3786"
             ],
             [
              0.5555555555555556,
              "#d8576b"
             ],
             [
              0.6666666666666666,
              "#ed7953"
             ],
             [
              0.7777777777777778,
              "#fb9f3a"
             ],
             [
              0.8888888888888888,
              "#fdca26"
             ],
             [
              1,
              "#f0f921"
             ]
            ],
            "type": "contour"
           }
          ],
          "contourcarpet": [
           {
            "colorbar": {
             "outlinewidth": 0,
             "ticks": ""
            },
            "type": "contourcarpet"
           }
          ],
          "heatmap": [
           {
            "colorbar": {
             "outlinewidth": 0,
             "ticks": ""
            },
            "colorscale": [
             [
              0,
              "#0d0887"
             ],
             [
              0.1111111111111111,
              "#46039f"
             ],
             [
              0.2222222222222222,
              "#7201a8"
             ],
             [
              0.3333333333333333,
              "#9c179e"
             ],
             [
              0.4444444444444444,
              "#bd3786"
             ],
             [
              0.5555555555555556,
              "#d8576b"
             ],
             [
              0.6666666666666666,
              "#ed7953"
             ],
             [
              0.7777777777777778,
              "#fb9f3a"
             ],
             [
              0.8888888888888888,
              "#fdca26"
             ],
             [
              1,
              "#f0f921"
             ]
            ],
            "type": "heatmap"
           }
          ],
          "heatmapgl": [
           {
            "colorbar": {
             "outlinewidth": 0,
             "ticks": ""
            },
            "colorscale": [
             [
              0,
              "#0d0887"
             ],
             [
              0.1111111111111111,
              "#46039f"
             ],
             [
              0.2222222222222222,
              "#7201a8"
             ],
             [
              0.3333333333333333,
              "#9c179e"
             ],
             [
              0.4444444444444444,
              "#bd3786"
             ],
             [
              0.5555555555555556,
              "#d8576b"
             ],
             [
              0.6666666666666666,
              "#ed7953"
             ],
             [
              0.7777777777777778,
              "#fb9f3a"
             ],
             [
              0.8888888888888888,
              "#fdca26"
             ],
             [
              1,
              "#f0f921"
             ]
            ],
            "type": "heatmapgl"
           }
          ],
          "histogram": [
           {
            "marker": {
             "pattern": {
              "fillmode": "overlay",
              "size": 10,
              "solidity": 0.2
             }
            },
            "type": "histogram"
           }
          ],
          "histogram2d": [
           {
            "colorbar": {
             "outlinewidth": 0,
             "ticks": ""
            },
            "colorscale": [
             [
              0,
              "#0d0887"
             ],
             [
              0.1111111111111111,
              "#46039f"
             ],
             [
              0.2222222222222222,
              "#7201a8"
             ],
             [
              0.3333333333333333,
              "#9c179e"
             ],
             [
              0.4444444444444444,
              "#bd3786"
             ],
             [
              0.5555555555555556,
              "#d8576b"
             ],
             [
              0.6666666666666666,
              "#ed7953"
             ],
             [
              0.7777777777777778,
              "#fb9f3a"
             ],
             [
              0.8888888888888888,
              "#fdca26"
             ],
             [
              1,
              "#f0f921"
             ]
            ],
            "type": "histogram2d"
           }
          ],
          "histogram2dcontour": [
           {
            "colorbar": {
             "outlinewidth": 0,
             "ticks": ""
            },
            "colorscale": [
             [
              0,
              "#0d0887"
             ],
             [
              0.1111111111111111,
              "#46039f"
             ],
             [
              0.2222222222222222,
              "#7201a8"
             ],
             [
              0.3333333333333333,
              "#9c179e"
             ],
             [
              0.4444444444444444,
              "#bd3786"
             ],
             [
              0.5555555555555556,
              "#d8576b"
             ],
             [
              0.6666666666666666,
              "#ed7953"
             ],
             [
              0.7777777777777778,
              "#fb9f3a"
             ],
             [
              0.8888888888888888,
              "#fdca26"
             ],
             [
              1,
              "#f0f921"
             ]
            ],
            "type": "histogram2dcontour"
           }
          ],
          "mesh3d": [
           {
            "colorbar": {
             "outlinewidth": 0,
             "ticks": ""
            },
            "type": "mesh3d"
           }
          ],
          "parcoords": [
           {
            "line": {
             "colorbar": {
              "outlinewidth": 0,
              "ticks": ""
             }
            },
            "type": "parcoords"
           }
          ],
          "pie": [
           {
            "automargin": true,
            "type": "pie"
           }
          ],
          "scatter": [
           {
            "fillpattern": {
             "fillmode": "overlay",
             "size": 10,
             "solidity": 0.2
            },
            "type": "scatter"
           }
          ],
          "scatter3d": [
           {
            "line": {
             "colorbar": {
              "outlinewidth": 0,
              "ticks": ""
             }
            },
            "marker": {
             "colorbar": {
              "outlinewidth": 0,
              "ticks": ""
             }
            },
            "type": "scatter3d"
           }
          ],
          "scattercarpet": [
           {
            "marker": {
             "colorbar": {
              "outlinewidth": 0,
              "ticks": ""
             }
            },
            "type": "scattercarpet"
           }
          ],
          "scattergeo": [
           {
            "marker": {
             "colorbar": {
              "outlinewidth": 0,
              "ticks": ""
             }
            },
            "type": "scattergeo"
           }
          ],
          "scattergl": [
           {
            "marker": {
             "colorbar": {
              "outlinewidth": 0,
              "ticks": ""
             }
            },
            "type": "scattergl"
           }
          ],
          "scattermapbox": [
           {
            "marker": {
             "colorbar": {
              "outlinewidth": 0,
              "ticks": ""
             }
            },
            "type": "scattermapbox"
           }
          ],
          "scatterpolar": [
           {
            "marker": {
             "colorbar": {
              "outlinewidth": 0,
              "ticks": ""
             }
            },
            "type": "scatterpolar"
           }
          ],
          "scatterpolargl": [
           {
            "marker": {
             "colorbar": {
              "outlinewidth": 0,
              "ticks": ""
             }
            },
            "type": "scatterpolargl"
           }
          ],
          "scatterternary": [
           {
            "marker": {
             "colorbar": {
              "outlinewidth": 0,
              "ticks": ""
             }
            },
            "type": "scatterternary"
           }
          ],
          "surface": [
           {
            "colorbar": {
             "outlinewidth": 0,
             "ticks": ""
            },
            "colorscale": [
             [
              0,
              "#0d0887"
             ],
             [
              0.1111111111111111,
              "#46039f"
             ],
             [
              0.2222222222222222,
              "#7201a8"
             ],
             [
              0.3333333333333333,
              "#9c179e"
             ],
             [
              0.4444444444444444,
              "#bd3786"
             ],
             [
              0.5555555555555556,
              "#d8576b"
             ],
             [
              0.6666666666666666,
              "#ed7953"
             ],
             [
              0.7777777777777778,
              "#fb9f3a"
             ],
             [
              0.8888888888888888,
              "#fdca26"
             ],
             [
              1,
              "#f0f921"
             ]
            ],
            "type": "surface"
           }
          ],
          "table": [
           {
            "cells": {
             "fill": {
              "color": "#EBF0F8"
             },
             "line": {
              "color": "white"
             }
            },
            "header": {
             "fill": {
              "color": "#C8D4E3"
             },
             "line": {
              "color": "white"
             }
            },
            "type": "table"
           }
          ]
         },
         "layout": {
          "annotationdefaults": {
           "arrowcolor": "#2a3f5f",
           "arrowhead": 0,
           "arrowwidth": 1
          },
          "autotypenumbers": "strict",
          "coloraxis": {
           "colorbar": {
            "outlinewidth": 0,
            "ticks": ""
           }
          },
          "colorscale": {
           "diverging": [
            [
             0,
             "#8e0152"
            ],
            [
             0.1,
             "#c51b7d"
            ],
            [
             0.2,
             "#de77ae"
            ],
            [
             0.3,
             "#f1b6da"
            ],
            [
             0.4,
             "#fde0ef"
            ],
            [
             0.5,
             "#f7f7f7"
            ],
            [
             0.6,
             "#e6f5d0"
            ],
            [
             0.7,
             "#b8e186"
            ],
            [
             0.8,
             "#7fbc41"
            ],
            [
             0.9,
             "#4d9221"
            ],
            [
             1,
             "#276419"
            ]
           ],
           "sequential": [
            [
             0,
             "#0d0887"
            ],
            [
             0.1111111111111111,
             "#46039f"
            ],
            [
             0.2222222222222222,
             "#7201a8"
            ],
            [
             0.3333333333333333,
             "#9c179e"
            ],
            [
             0.4444444444444444,
             "#bd3786"
            ],
            [
             0.5555555555555556,
             "#d8576b"
            ],
            [
             0.6666666666666666,
             "#ed7953"
            ],
            [
             0.7777777777777778,
             "#fb9f3a"
            ],
            [
             0.8888888888888888,
             "#fdca26"
            ],
            [
             1,
             "#f0f921"
            ]
           ],
           "sequentialminus": [
            [
             0,
             "#0d0887"
            ],
            [
             0.1111111111111111,
             "#46039f"
            ],
            [
             0.2222222222222222,
             "#7201a8"
            ],
            [
             0.3333333333333333,
             "#9c179e"
            ],
            [
             0.4444444444444444,
             "#bd3786"
            ],
            [
             0.5555555555555556,
             "#d8576b"
            ],
            [
             0.6666666666666666,
             "#ed7953"
            ],
            [
             0.7777777777777778,
             "#fb9f3a"
            ],
            [
             0.8888888888888888,
             "#fdca26"
            ],
            [
             1,
             "#f0f921"
            ]
           ]
          },
          "colorway": [
           "#636efa",
           "#EF553B",
           "#00cc96",
           "#ab63fa",
           "#FFA15A",
           "#19d3f3",
           "#FF6692",
           "#B6E880",
           "#FF97FF",
           "#FECB52"
          ],
          "font": {
           "color": "#2a3f5f"
          },
          "geo": {
           "bgcolor": "white",
           "lakecolor": "white",
           "landcolor": "#E5ECF6",
           "showlakes": true,
           "showland": true,
           "subunitcolor": "white"
          },
          "hoverlabel": {
           "align": "left"
          },
          "hovermode": "closest",
          "mapbox": {
           "style": "light"
          },
          "paper_bgcolor": "white",
          "plot_bgcolor": "#E5ECF6",
          "polar": {
           "angularaxis": {
            "gridcolor": "white",
            "linecolor": "white",
            "ticks": ""
           },
           "bgcolor": "#E5ECF6",
           "radialaxis": {
            "gridcolor": "white",
            "linecolor": "white",
            "ticks": ""
           }
          },
          "scene": {
           "xaxis": {
            "backgroundcolor": "#E5ECF6",
            "gridcolor": "white",
            "gridwidth": 2,
            "linecolor": "white",
            "showbackground": true,
            "ticks": "",
            "zerolinecolor": "white"
           },
           "yaxis": {
            "backgroundcolor": "#E5ECF6",
            "gridcolor": "white",
            "gridwidth": 2,
            "linecolor": "white",
            "showbackground": true,
            "ticks": "",
            "zerolinecolor": "white"
           },
           "zaxis": {
            "backgroundcolor": "#E5ECF6",
            "gridcolor": "white",
            "gridwidth": 2,
            "linecolor": "white",
            "showbackground": true,
            "ticks": "",
            "zerolinecolor": "white"
           }
          },
          "shapedefaults": {
           "line": {
            "color": "#2a3f5f"
           }
          },
          "ternary": {
           "aaxis": {
            "gridcolor": "white",
            "linecolor": "white",
            "ticks": ""
           },
           "baxis": {
            "gridcolor": "white",
            "linecolor": "white",
            "ticks": ""
           },
           "bgcolor": "#E5ECF6",
           "caxis": {
            "gridcolor": "white",
            "linecolor": "white",
            "ticks": ""
           }
          },
          "title": {
           "x": 0.05
          },
          "xaxis": {
           "automargin": true,
           "gridcolor": "white",
           "linecolor": "white",
           "ticks": "",
           "title": {
            "standoff": 15
           },
           "zerolinecolor": "white",
           "zerolinewidth": 2
          },
          "yaxis": {
           "automargin": true,
           "gridcolor": "white",
           "linecolor": "white",
           "ticks": "",
           "title": {
            "standoff": 15
           },
           "zerolinecolor": "white",
           "zerolinewidth": 2
          }
         }
        },
        "title": {
         "text": "Parallel Coordinates Plot for experiment 'exp_classic_cnn_orion'"
        }
       }
      },
      "text/html": [
       "<div>                            <div id=\"8153ef36-d380-430a-b0a1-493d57d7b0b2\" class=\"plotly-graph-div\" style=\"height:525px; width:100%;\"></div>            <script type=\"text/javascript\">                require([\"plotly\"], function(Plotly) {                    window.PLOTLYENV=window.PLOTLYENV || {};                                    if (document.getElementById(\"8153ef36-d380-430a-b0a1-493d57d7b0b2\")) {                    Plotly.newPlot(                        \"8153ef36-d380-430a-b0a1-493d57d7b0b2\",                        [{\"dimensions\":[{\"label\":\"/lr\",\"range\":[1e-05,1.0],\"values\":[4.301e-05,0.02116,0.005657,2.814e-05,0.005024,1.099e-05,0.7815,0.005309,0.0001723,0.3496,0.5985,5.096e-05,1.608e-05,7.797e-05,0.02306,0.004133,0.001729,0.5666,0.1758,0.08176,0.06836,0.9654,0.0002697,7.63e-05,1.901e-05,0.002826,0.004121,0.0464,8.159e-05,0.0001719]},{\"label\":\"/num_filters\",\"ticktext\":[2,4,8],\"tickvals\":[0,1,2],\"values\":[2,1,0,1,2,1,1,0,0,1,2,0,0,2,1,1,0,0,1,0,0,1,2,2,2,2,1,2,2,0]},{\"label\":\"dev_metric\",\"range\":[-112.1171875,-68.06244659423828],\"values\":[-74.81263732910156,-108.33905792236328,-108.33506774902344,-84.13024139404297,-108.45990753173828,-91.21258544921875,-111.97390747070312,-107.91643524169922,-77.8935317993164,-109.75959777832031,-111.09058380126953,-84.24274444580078,-92.1225357055664,-72.17874145507812,-108.31692504882812,-107.44686889648438,-81.09728240966797,-111.29414367675781,-109.35459899902344,-108.93731689453125,-108.75981140136719,-112.1171875,-68.06244659423828,-72.02429962158203,-81.25581359863281,-108.46432495117188,-108.12129974365234,-108.5417251586914,-72.3463363647461,-77.20478820800781]}],\"line\":{\"cmax\":-68.06244659423828,\"cmin\":-112.1171875,\"color\":[-74.81263732910156,-108.33905792236328,-108.33506774902344,-84.13024139404297,-108.45990753173828,-91.21258544921875,-111.97390747070312,-107.91643524169922,-77.8935317993164,-109.75959777832031,-111.09058380126953,-84.24274444580078,-92.1225357055664,-72.17874145507812,-108.31692504882812,-107.44686889648438,-81.09728240966797,-111.29414367675781,-109.35459899902344,-108.93731689453125,-108.75981140136719,-112.1171875,-68.06244659423828,-72.02429962158203,-81.25581359863281,-108.46432495117188,-108.12129974365234,-108.5417251586914,-72.3463363647461,-77.20478820800781],\"colorbar\":{\"title\":{\"text\":\"dev_metric\"}},\"colorscale\":[[0.0,\"rgb(255,255,204)\"],[0.125,\"rgb(255,237,160)\"],[0.25,\"rgb(254,217,118)\"],[0.375,\"rgb(254,178,76)\"],[0.5,\"rgb(253,141,60)\"],[0.625,\"rgb(252,78,42)\"],[0.75,\"rgb(227,26,28)\"],[0.875,\"rgb(189,0,38)\"],[1.0,\"rgb(128,0,38)\"]],\"showscale\":true},\"type\":\"parcoords\"}],                        {\"template\":{\"data\":{\"histogram2dcontour\":[{\"type\":\"histogram2dcontour\",\"colorbar\":{\"outlinewidth\":0,\"ticks\":\"\"},\"colorscale\":[[0.0,\"#0d0887\"],[0.1111111111111111,\"#46039f\"],[0.2222222222222222,\"#7201a8\"],[0.3333333333333333,\"#9c179e\"],[0.4444444444444444,\"#bd3786\"],[0.5555555555555556,\"#d8576b\"],[0.6666666666666666,\"#ed7953\"],[0.7777777777777778,\"#fb9f3a\"],[0.8888888888888888,\"#fdca26\"],[1.0,\"#f0f921\"]]}],\"choropleth\":[{\"type\":\"choropleth\",\"colorbar\":{\"outlinewidth\":0,\"ticks\":\"\"}}],\"histogram2d\":[{\"type\":\"histogram2d\",\"colorbar\":{\"outlinewidth\":0,\"ticks\":\"\"},\"colorscale\":[[0.0,\"#0d0887\"],[0.1111111111111111,\"#46039f\"],[0.2222222222222222,\"#7201a8\"],[0.3333333333333333,\"#9c179e\"],[0.4444444444444444,\"#bd3786\"],[0.5555555555555556,\"#d8576b\"],[0.6666666666666666,\"#ed7953\"],[0.7777777777777778,\"#fb9f3a\"],[0.8888888888888888,\"#fdca26\"],[1.0,\"#f0f921\"]]}],\"heatmap\":[{\"type\":\"heatmap\",\"colorbar\":{\"outlinewidth\":0,\"ticks\":\"\"},\"colorscale\":[[0.0,\"#0d0887\"],[0.1111111111111111,\"#46039f\"],[0.2222222222222222,\"#7201a8\"],[0.3333333333333333,\"#9c179e\"],[0.4444444444444444,\"#bd3786\"],[0.5555555555555556,\"#d8576b\"],[0.6666666666666666,\"#ed7953\"],[0.7777777777777778,\"#fb9f3a\"],[0.8888888888888888,\"#fdca26\"],[1.0,\"#f0f921\"]]}],\"heatmapgl\":[{\"type\":\"heatmapgl\",\"colorbar\":{\"outlinewidth\":0,\"ticks\":\"\"},\"colorscale\":[[0.0,\"#0d0887\"],[0.1111111111111111,\"#46039f\"],[0.2222222222222222,\"#7201a8\"],[0.3333333333333333,\"#9c179e\"],[0.4444444444444444,\"#bd3786\"],[0.5555555555555556,\"#d8576b\"],[0.6666666666666666,\"#ed7953\"],[0.7777777777777778,\"#fb9f3a\"],[0.8888888888888888,\"#fdca26\"],[1.0,\"#f0f921\"]]}],\"contourcarpet\":[{\"type\":\"contourcarpet\",\"colorbar\":{\"outlinewidth\":0,\"ticks\":\"\"}}],\"contour\":[{\"type\":\"contour\",\"colorbar\":{\"outlinewidth\":0,\"ticks\":\"\"},\"colorscale\":[[0.0,\"#0d0887\"],[0.1111111111111111,\"#46039f\"],[0.2222222222222222,\"#7201a8\"],[0.3333333333333333,\"#9c179e\"],[0.4444444444444444,\"#bd3786\"],[0.5555555555555556,\"#d8576b\"],[0.6666666666666666,\"#ed7953\"],[0.7777777777777778,\"#fb9f3a\"],[0.8888888888888888,\"#fdca26\"],[1.0,\"#f0f921\"]]}],\"surface\":[{\"type\":\"surface\",\"colorbar\":{\"outlinewidth\":0,\"ticks\":\"\"},\"colorscale\":[[0.0,\"#0d0887\"],[0.1111111111111111,\"#46039f\"],[0.2222222222222222,\"#7201a8\"],[0.3333333333333333,\"#9c179e\"],[0.4444444444444444,\"#bd3786\"],[0.5555555555555556,\"#d8576b\"],[0.6666666666666666,\"#ed7953\"],[0.7777777777777778,\"#fb9f3a\"],[0.8888888888888888,\"#fdca26\"],[1.0,\"#f0f921\"]]}],\"mesh3d\":[{\"type\":\"mesh3d\",\"colorbar\":{\"outlinewidth\":0,\"ticks\":\"\"}}],\"scatter\":[{\"fillpattern\":{\"fillmode\":\"overlay\",\"size\":10,\"solidity\":0.2},\"type\":\"scatter\"}],\"parcoords\":[{\"type\":\"parcoords\",\"line\":{\"colorbar\":{\"outlinewidth\":0,\"ticks\":\"\"}}}],\"scatterpolargl\":[{\"type\":\"scatterpolargl\",\"marker\":{\"colorbar\":{\"outlinewidth\":0,\"ticks\":\"\"}}}],\"bar\":[{\"error_x\":{\"color\":\"#2a3f5f\"},\"error_y\":{\"color\":\"#2a3f5f\"},\"marker\":{\"line\":{\"color\":\"#E5ECF6\",\"width\":0.5},\"pattern\":{\"fillmode\":\"overlay\",\"size\":10,\"solidity\":0.2}},\"type\":\"bar\"}],\"scattergeo\":[{\"type\":\"scattergeo\",\"marker\":{\"colorbar\":{\"outlinewidth\":0,\"ticks\":\"\"}}}],\"scatterpolar\":[{\"type\":\"scatterpolar\",\"marker\":{\"colorbar\":{\"outlinewidth\":0,\"ticks\":\"\"}}}],\"histogram\":[{\"marker\":{\"pattern\":{\"fillmode\":\"overlay\",\"size\":10,\"solidity\":0.2}},\"type\":\"histogram\"}],\"scattergl\":[{\"type\":\"scattergl\",\"marker\":{\"colorbar\":{\"outlinewidth\":0,\"ticks\":\"\"}}}],\"scatter3d\":[{\"type\":\"scatter3d\",\"line\":{\"colorbar\":{\"outlinewidth\":0,\"ticks\":\"\"}},\"marker\":{\"colorbar\":{\"outlinewidth\":0,\"ticks\":\"\"}}}],\"scattermapbox\":[{\"type\":\"scattermapbox\",\"marker\":{\"colorbar\":{\"outlinewidth\":0,\"ticks\":\"\"}}}],\"scatterternary\":[{\"type\":\"scatterternary\",\"marker\":{\"colorbar\":{\"outlinewidth\":0,\"ticks\":\"\"}}}],\"scattercarpet\":[{\"type\":\"scattercarpet\",\"marker\":{\"colorbar\":{\"outlinewidth\":0,\"ticks\":\"\"}}}],\"carpet\":[{\"aaxis\":{\"endlinecolor\":\"#2a3f5f\",\"gridcolor\":\"white\",\"linecolor\":\"white\",\"minorgridcolor\":\"white\",\"startlinecolor\":\"#2a3f5f\"},\"baxis\":{\"endlinecolor\":\"#2a3f5f\",\"gridcolor\":\"white\",\"linecolor\":\"white\",\"minorgridcolor\":\"white\",\"startlinecolor\":\"#2a3f5f\"},\"type\":\"carpet\"}],\"table\":[{\"cells\":{\"fill\":{\"color\":\"#EBF0F8\"},\"line\":{\"color\":\"white\"}},\"header\":{\"fill\":{\"color\":\"#C8D4E3\"},\"line\":{\"color\":\"white\"}},\"type\":\"table\"}],\"barpolar\":[{\"marker\":{\"line\":{\"color\":\"#E5ECF6\",\"width\":0.5},\"pattern\":{\"fillmode\":\"overlay\",\"size\":10,\"solidity\":0.2}},\"type\":\"barpolar\"}],\"pie\":[{\"automargin\":true,\"type\":\"pie\"}]},\"layout\":{\"autotypenumbers\":\"strict\",\"colorway\":[\"#636efa\",\"#EF553B\",\"#00cc96\",\"#ab63fa\",\"#FFA15A\",\"#19d3f3\",\"#FF6692\",\"#B6E880\",\"#FF97FF\",\"#FECB52\"],\"font\":{\"color\":\"#2a3f5f\"},\"hovermode\":\"closest\",\"hoverlabel\":{\"align\":\"left\"},\"paper_bgcolor\":\"white\",\"plot_bgcolor\":\"#E5ECF6\",\"polar\":{\"bgcolor\":\"#E5ECF6\",\"angularaxis\":{\"gridcolor\":\"white\",\"linecolor\":\"white\",\"ticks\":\"\"},\"radialaxis\":{\"gridcolor\":\"white\",\"linecolor\":\"white\",\"ticks\":\"\"}},\"ternary\":{\"bgcolor\":\"#E5ECF6\",\"aaxis\":{\"gridcolor\":\"white\",\"linecolor\":\"white\",\"ticks\":\"\"},\"baxis\":{\"gridcolor\":\"white\",\"linecolor\":\"white\",\"ticks\":\"\"},\"caxis\":{\"gridcolor\":\"white\",\"linecolor\":\"white\",\"ticks\":\"\"}},\"coloraxis\":{\"colorbar\":{\"outlinewidth\":0,\"ticks\":\"\"}},\"colorscale\":{\"sequential\":[[0.0,\"#0d0887\"],[0.1111111111111111,\"#46039f\"],[0.2222222222222222,\"#7201a8\"],[0.3333333333333333,\"#9c179e\"],[0.4444444444444444,\"#bd3786\"],[0.5555555555555556,\"#d8576b\"],[0.6666666666666666,\"#ed7953\"],[0.7777777777777778,\"#fb9f3a\"],[0.8888888888888888,\"#fdca26\"],[1.0,\"#f0f921\"]],\"sequentialminus\":[[0.0,\"#0d0887\"],[0.1111111111111111,\"#46039f\"],[0.2222222222222222,\"#7201a8\"],[0.3333333333333333,\"#9c179e\"],[0.4444444444444444,\"#bd3786\"],[0.5555555555555556,\"#d8576b\"],[0.6666666666666666,\"#ed7953\"],[0.7777777777777778,\"#fb9f3a\"],[0.8888888888888888,\"#fdca26\"],[1.0,\"#f0f921\"]],\"diverging\":[[0,\"#8e0152\"],[0.1,\"#c51b7d\"],[0.2,\"#de77ae\"],[0.3,\"#f1b6da\"],[0.4,\"#fde0ef\"],[0.5,\"#f7f7f7\"],[0.6,\"#e6f5d0\"],[0.7,\"#b8e186\"],[0.8,\"#7fbc41\"],[0.9,\"#4d9221\"],[1,\"#276419\"]]},\"xaxis\":{\"gridcolor\":\"white\",\"linecolor\":\"white\",\"ticks\":\"\",\"title\":{\"standoff\":15},\"zerolinecolor\":\"white\",\"automargin\":true,\"zerolinewidth\":2},\"yaxis\":{\"gridcolor\":\"white\",\"linecolor\":\"white\",\"ticks\":\"\",\"title\":{\"standoff\":15},\"zerolinecolor\":\"white\",\"automargin\":true,\"zerolinewidth\":2},\"scene\":{\"xaxis\":{\"backgroundcolor\":\"#E5ECF6\",\"gridcolor\":\"white\",\"linecolor\":\"white\",\"showbackground\":true,\"ticks\":\"\",\"zerolinecolor\":\"white\",\"gridwidth\":2},\"yaxis\":{\"backgroundcolor\":\"#E5ECF6\",\"gridcolor\":\"white\",\"linecolor\":\"white\",\"showbackground\":true,\"ticks\":\"\",\"zerolinecolor\":\"white\",\"gridwidth\":2},\"zaxis\":{\"backgroundcolor\":\"#E5ECF6\",\"gridcolor\":\"white\",\"linecolor\":\"white\",\"showbackground\":true,\"ticks\":\"\",\"zerolinecolor\":\"white\",\"gridwidth\":2}},\"shapedefaults\":{\"line\":{\"color\":\"#2a3f5f\"}},\"annotationdefaults\":{\"arrowcolor\":\"#2a3f5f\",\"arrowhead\":0,\"arrowwidth\":1},\"geo\":{\"bgcolor\":\"white\",\"landcolor\":\"#E5ECF6\",\"subunitcolor\":\"white\",\"showland\":true,\"showlakes\":true,\"lakecolor\":\"white\"},\"title\":{\"x\":0.05},\"mapbox\":{\"style\":\"light\"}}},\"title\":{\"text\":\"Parallel Coordinates Plot for experiment 'exp_classic_cnn_orion'\"}},                        {\"responsive\": true}                    ).then(function(){\n",
       "                            \n",
       "var gd = document.getElementById('8153ef36-d380-430a-b0a1-493d57d7b0b2');\n",
       "var x = new MutationObserver(function (mutations, observer) {{\n",
       "        var display = window.getComputedStyle(gd).display;\n",
       "        if (!display || display === 'none') {{\n",
       "            console.log([gd, 'removed!']);\n",
       "            Plotly.purge(gd);\n",
       "            observer.disconnect();\n",
       "        }}\n",
       "}});\n",
       "\n",
       "// Listen for the removal of the full notebook cells\n",
       "var notebookContainer = gd.closest('#notebook-container');\n",
       "if (notebookContainer) {{\n",
       "    x.observe(notebookContainer, {childList: true});\n",
       "}}\n",
       "\n",
       "// Listen for the clearing of the current output cell\n",
       "var outputEl = gd.closest('.output');\n",
       "if (outputEl) {{\n",
       "    x.observe(outputEl, {childList: true});\n",
       "}}\n",
       "\n",
       "                        })                };                });            </script>        </div>"
      ]
     },
     "metadata": {},
     "output_type": "display_data"
    }
   ],
   "source": [
    "fig = experiment.plot.parallel_coordinates()\n",
    "fig"
   ]
  },
  {
   "cell_type": "code",
   "execution_count": 9,
   "metadata": {},
   "outputs": [
    {
     "data": {
      "application/vnd.plotly.v1+json": {
       "config": {
        "plotlyServerURL": "https://plot.ly"
       },
       "data": [
        {
         "error_y": {
          "array": [
           0.0000043343741321796965,
           0.000004334374132207304
          ],
          "type": "data"
         },
         "type": "bar",
         "x": [
          "/lr",
          "/num_filters"
         ],
         "y": [
          0.9999876603507806,
          0.000012339649219365
         ]
        }
       ],
       "layout": {
        "template": {
         "data": {
          "bar": [
           {
            "error_x": {
             "color": "#2a3f5f"
            },
            "error_y": {
             "color": "#2a3f5f"
            },
            "marker": {
             "line": {
              "color": "#E5ECF6",
              "width": 0.5
             },
             "pattern": {
              "fillmode": "overlay",
              "size": 10,
              "solidity": 0.2
             }
            },
            "type": "bar"
           }
          ],
          "barpolar": [
           {
            "marker": {
             "line": {
              "color": "#E5ECF6",
              "width": 0.5
             },
             "pattern": {
              "fillmode": "overlay",
              "size": 10,
              "solidity": 0.2
             }
            },
            "type": "barpolar"
           }
          ],
          "carpet": [
           {
            "aaxis": {
             "endlinecolor": "#2a3f5f",
             "gridcolor": "white",
             "linecolor": "white",
             "minorgridcolor": "white",
             "startlinecolor": "#2a3f5f"
            },
            "baxis": {
             "endlinecolor": "#2a3f5f",
             "gridcolor": "white",
             "linecolor": "white",
             "minorgridcolor": "white",
             "startlinecolor": "#2a3f5f"
            },
            "type": "carpet"
           }
          ],
          "choropleth": [
           {
            "colorbar": {
             "outlinewidth": 0,
             "ticks": ""
            },
            "type": "choropleth"
           }
          ],
          "contour": [
           {
            "colorbar": {
             "outlinewidth": 0,
             "ticks": ""
            },
            "colorscale": [
             [
              0,
              "#0d0887"
             ],
             [
              0.1111111111111111,
              "#46039f"
             ],
             [
              0.2222222222222222,
              "#7201a8"
             ],
             [
              0.3333333333333333,
              "#9c179e"
             ],
             [
              0.4444444444444444,
              "#bd3786"
             ],
             [
              0.5555555555555556,
              "#d8576b"
             ],
             [
              0.6666666666666666,
              "#ed7953"
             ],
             [
              0.7777777777777778,
              "#fb9f3a"
             ],
             [
              0.8888888888888888,
              "#fdca26"
             ],
             [
              1,
              "#f0f921"
             ]
            ],
            "type": "contour"
           }
          ],
          "contourcarpet": [
           {
            "colorbar": {
             "outlinewidth": 0,
             "ticks": ""
            },
            "type": "contourcarpet"
           }
          ],
          "heatmap": [
           {
            "colorbar": {
             "outlinewidth": 0,
             "ticks": ""
            },
            "colorscale": [
             [
              0,
              "#0d0887"
             ],
             [
              0.1111111111111111,
              "#46039f"
             ],
             [
              0.2222222222222222,
              "#7201a8"
             ],
             [
              0.3333333333333333,
              "#9c179e"
             ],
             [
              0.4444444444444444,
              "#bd3786"
             ],
             [
              0.5555555555555556,
              "#d8576b"
             ],
             [
              0.6666666666666666,
              "#ed7953"
             ],
             [
              0.7777777777777778,
              "#fb9f3a"
             ],
             [
              0.8888888888888888,
              "#fdca26"
             ],
             [
              1,
              "#f0f921"
             ]
            ],
            "type": "heatmap"
           }
          ],
          "heatmapgl": [
           {
            "colorbar": {
             "outlinewidth": 0,
             "ticks": ""
            },
            "colorscale": [
             [
              0,
              "#0d0887"
             ],
             [
              0.1111111111111111,
              "#46039f"
             ],
             [
              0.2222222222222222,
              "#7201a8"
             ],
             [
              0.3333333333333333,
              "#9c179e"
             ],
             [
              0.4444444444444444,
              "#bd3786"
             ],
             [
              0.5555555555555556,
              "#d8576b"
             ],
             [
              0.6666666666666666,
              "#ed7953"
             ],
             [
              0.7777777777777778,
              "#fb9f3a"
             ],
             [
              0.8888888888888888,
              "#fdca26"
             ],
             [
              1,
              "#f0f921"
             ]
            ],
            "type": "heatmapgl"
           }
          ],
          "histogram": [
           {
            "marker": {
             "pattern": {
              "fillmode": "overlay",
              "size": 10,
              "solidity": 0.2
             }
            },
            "type": "histogram"
           }
          ],
          "histogram2d": [
           {
            "colorbar": {
             "outlinewidth": 0,
             "ticks": ""
            },
            "colorscale": [
             [
              0,
              "#0d0887"
             ],
             [
              0.1111111111111111,
              "#46039f"
             ],
             [
              0.2222222222222222,
              "#7201a8"
             ],
             [
              0.3333333333333333,
              "#9c179e"
             ],
             [
              0.4444444444444444,
              "#bd3786"
             ],
             [
              0.5555555555555556,
              "#d8576b"
             ],
             [
              0.6666666666666666,
              "#ed7953"
             ],
             [
              0.7777777777777778,
              "#fb9f3a"
             ],
             [
              0.8888888888888888,
              "#fdca26"
             ],
             [
              1,
              "#f0f921"
             ]
            ],
            "type": "histogram2d"
           }
          ],
          "histogram2dcontour": [
           {
            "colorbar": {
             "outlinewidth": 0,
             "ticks": ""
            },
            "colorscale": [
             [
              0,
              "#0d0887"
             ],
             [
              0.1111111111111111,
              "#46039f"
             ],
             [
              0.2222222222222222,
              "#7201a8"
             ],
             [
              0.3333333333333333,
              "#9c179e"
             ],
             [
              0.4444444444444444,
              "#bd3786"
             ],
             [
              0.5555555555555556,
              "#d8576b"
             ],
             [
              0.6666666666666666,
              "#ed7953"
             ],
             [
              0.7777777777777778,
              "#fb9f3a"
             ],
             [
              0.8888888888888888,
              "#fdca26"
             ],
             [
              1,
              "#f0f921"
             ]
            ],
            "type": "histogram2dcontour"
           }
          ],
          "mesh3d": [
           {
            "colorbar": {
             "outlinewidth": 0,
             "ticks": ""
            },
            "type": "mesh3d"
           }
          ],
          "parcoords": [
           {
            "line": {
             "colorbar": {
              "outlinewidth": 0,
              "ticks": ""
             }
            },
            "type": "parcoords"
           }
          ],
          "pie": [
           {
            "automargin": true,
            "type": "pie"
           }
          ],
          "scatter": [
           {
            "fillpattern": {
             "fillmode": "overlay",
             "size": 10,
             "solidity": 0.2
            },
            "type": "scatter"
           }
          ],
          "scatter3d": [
           {
            "line": {
             "colorbar": {
              "outlinewidth": 0,
              "ticks": ""
             }
            },
            "marker": {
             "colorbar": {
              "outlinewidth": 0,
              "ticks": ""
             }
            },
            "type": "scatter3d"
           }
          ],
          "scattercarpet": [
           {
            "marker": {
             "colorbar": {
              "outlinewidth": 0,
              "ticks": ""
             }
            },
            "type": "scattercarpet"
           }
          ],
          "scattergeo": [
           {
            "marker": {
             "colorbar": {
              "outlinewidth": 0,
              "ticks": ""
             }
            },
            "type": "scattergeo"
           }
          ],
          "scattergl": [
           {
            "marker": {
             "colorbar": {
              "outlinewidth": 0,
              "ticks": ""
             }
            },
            "type": "scattergl"
           }
          ],
          "scattermapbox": [
           {
            "marker": {
             "colorbar": {
              "outlinewidth": 0,
              "ticks": ""
             }
            },
            "type": "scattermapbox"
           }
          ],
          "scatterpolar": [
           {
            "marker": {
             "colorbar": {
              "outlinewidth": 0,
              "ticks": ""
             }
            },
            "type": "scatterpolar"
           }
          ],
          "scatterpolargl": [
           {
            "marker": {
             "colorbar": {
              "outlinewidth": 0,
              "ticks": ""
             }
            },
            "type": "scatterpolargl"
           }
          ],
          "scatterternary": [
           {
            "marker": {
             "colorbar": {
              "outlinewidth": 0,
              "ticks": ""
             }
            },
            "type": "scatterternary"
           }
          ],
          "surface": [
           {
            "colorbar": {
             "outlinewidth": 0,
             "ticks": ""
            },
            "colorscale": [
             [
              0,
              "#0d0887"
             ],
             [
              0.1111111111111111,
              "#46039f"
             ],
             [
              0.2222222222222222,
              "#7201a8"
             ],
             [
              0.3333333333333333,
              "#9c179e"
             ],
             [
              0.4444444444444444,
              "#bd3786"
             ],
             [
              0.5555555555555556,
              "#d8576b"
             ],
             [
              0.6666666666666666,
              "#ed7953"
             ],
             [
              0.7777777777777778,
              "#fb9f3a"
             ],
             [
              0.8888888888888888,
              "#fdca26"
             ],
             [
              1,
              "#f0f921"
             ]
            ],
            "type": "surface"
           }
          ],
          "table": [
           {
            "cells": {
             "fill": {
              "color": "#EBF0F8"
             },
             "line": {
              "color": "white"
             }
            },
            "header": {
             "fill": {
              "color": "#C8D4E3"
             },
             "line": {
              "color": "white"
             }
            },
            "type": "table"
           }
          ]
         },
         "layout": {
          "annotationdefaults": {
           "arrowcolor": "#2a3f5f",
           "arrowhead": 0,
           "arrowwidth": 1
          },
          "autotypenumbers": "strict",
          "coloraxis": {
           "colorbar": {
            "outlinewidth": 0,
            "ticks": ""
           }
          },
          "colorscale": {
           "diverging": [
            [
             0,
             "#8e0152"
            ],
            [
             0.1,
             "#c51b7d"
            ],
            [
             0.2,
             "#de77ae"
            ],
            [
             0.3,
             "#f1b6da"
            ],
            [
             0.4,
             "#fde0ef"
            ],
            [
             0.5,
             "#f7f7f7"
            ],
            [
             0.6,
             "#e6f5d0"
            ],
            [
             0.7,
             "#b8e186"
            ],
            [
             0.8,
             "#7fbc41"
            ],
            [
             0.9,
             "#4d9221"
            ],
            [
             1,
             "#276419"
            ]
           ],
           "sequential": [
            [
             0,
             "#0d0887"
            ],
            [
             0.1111111111111111,
             "#46039f"
            ],
            [
             0.2222222222222222,
             "#7201a8"
            ],
            [
             0.3333333333333333,
             "#9c179e"
            ],
            [
             0.4444444444444444,
             "#bd3786"
            ],
            [
             0.5555555555555556,
             "#d8576b"
            ],
            [
             0.6666666666666666,
             "#ed7953"
            ],
            [
             0.7777777777777778,
             "#fb9f3a"
            ],
            [
             0.8888888888888888,
             "#fdca26"
            ],
            [
             1,
             "#f0f921"
            ]
           ],
           "sequentialminus": [
            [
             0,
             "#0d0887"
            ],
            [
             0.1111111111111111,
             "#46039f"
            ],
            [
             0.2222222222222222,
             "#7201a8"
            ],
            [
             0.3333333333333333,
             "#9c179e"
            ],
            [
             0.4444444444444444,
             "#bd3786"
            ],
            [
             0.5555555555555556,
             "#d8576b"
            ],
            [
             0.6666666666666666,
             "#ed7953"
            ],
            [
             0.7777777777777778,
             "#fb9f3a"
            ],
            [
             0.8888888888888888,
             "#fdca26"
            ],
            [
             1,
             "#f0f921"
            ]
           ]
          },
          "colorway": [
           "#636efa",
           "#EF553B",
           "#00cc96",
           "#ab63fa",
           "#FFA15A",
           "#19d3f3",
           "#FF6692",
           "#B6E880",
           "#FF97FF",
           "#FECB52"
          ],
          "font": {
           "color": "#2a3f5f"
          },
          "geo": {
           "bgcolor": "white",
           "lakecolor": "white",
           "landcolor": "#E5ECF6",
           "showlakes": true,
           "showland": true,
           "subunitcolor": "white"
          },
          "hoverlabel": {
           "align": "left"
          },
          "hovermode": "closest",
          "mapbox": {
           "style": "light"
          },
          "paper_bgcolor": "white",
          "plot_bgcolor": "#E5ECF6",
          "polar": {
           "angularaxis": {
            "gridcolor": "white",
            "linecolor": "white",
            "ticks": ""
           },
           "bgcolor": "#E5ECF6",
           "radialaxis": {
            "gridcolor": "white",
            "linecolor": "white",
            "ticks": ""
           }
          },
          "scene": {
           "xaxis": {
            "backgroundcolor": "#E5ECF6",
            "gridcolor": "white",
            "gridwidth": 2,
            "linecolor": "white",
            "showbackground": true,
            "ticks": "",
            "zerolinecolor": "white"
           },
           "yaxis": {
            "backgroundcolor": "#E5ECF6",
            "gridcolor": "white",
            "gridwidth": 2,
            "linecolor": "white",
            "showbackground": true,
            "ticks": "",
            "zerolinecolor": "white"
           },
           "zaxis": {
            "backgroundcolor": "#E5ECF6",
            "gridcolor": "white",
            "gridwidth": 2,
            "linecolor": "white",
            "showbackground": true,
            "ticks": "",
            "zerolinecolor": "white"
           }
          },
          "shapedefaults": {
           "line": {
            "color": "#2a3f5f"
           }
          },
          "ternary": {
           "aaxis": {
            "gridcolor": "white",
            "linecolor": "white",
            "ticks": ""
           },
           "baxis": {
            "gridcolor": "white",
            "linecolor": "white",
            "ticks": ""
           },
           "bgcolor": "#E5ECF6",
           "caxis": {
            "gridcolor": "white",
            "linecolor": "white",
            "ticks": ""
           }
          },
          "title": {
           "x": 0.05
          },
          "xaxis": {
           "automargin": true,
           "gridcolor": "white",
           "linecolor": "white",
           "ticks": "",
           "title": {
            "standoff": 15
           },
           "zerolinecolor": "white",
           "zerolinewidth": 2
          },
          "yaxis": {
           "automargin": true,
           "gridcolor": "white",
           "linecolor": "white",
           "ticks": "",
           "title": {
            "standoff": 15
           },
           "zerolinecolor": "white",
           "zerolinewidth": 2
          }
         }
        },
        "title": {
         "text": "LPI for experiment 'exp_classic_cnn_orion'"
        },
        "xaxis": {
         "title": {
          "text": "Hyperparameters"
         }
        },
        "yaxis": {
         "title": {
          "text": "Local Parameter Importance (LPI)"
         }
        }
       }
      },
      "text/html": [
       "<div>                            <div id=\"7940ff82-a864-459d-90db-641a561160df\" class=\"plotly-graph-div\" style=\"height:525px; width:100%;\"></div>            <script type=\"text/javascript\">                require([\"plotly\"], function(Plotly) {                    window.PLOTLYENV=window.PLOTLYENV || {};                                    if (document.getElementById(\"7940ff82-a864-459d-90db-641a561160df\")) {                    Plotly.newPlot(                        \"7940ff82-a864-459d-90db-641a561160df\",                        [{\"error_y\":{\"array\":[4.3343741321796965e-06,4.334374132207304e-06],\"type\":\"data\"},\"x\":[\"/lr\",\"/num_filters\"],\"y\":[0.9999876603507806,1.2339649219365e-05],\"type\":\"bar\"}],                        {\"template\":{\"data\":{\"histogram2dcontour\":[{\"type\":\"histogram2dcontour\",\"colorbar\":{\"outlinewidth\":0,\"ticks\":\"\"},\"colorscale\":[[0.0,\"#0d0887\"],[0.1111111111111111,\"#46039f\"],[0.2222222222222222,\"#7201a8\"],[0.3333333333333333,\"#9c179e\"],[0.4444444444444444,\"#bd3786\"],[0.5555555555555556,\"#d8576b\"],[0.6666666666666666,\"#ed7953\"],[0.7777777777777778,\"#fb9f3a\"],[0.8888888888888888,\"#fdca26\"],[1.0,\"#f0f921\"]]}],\"choropleth\":[{\"type\":\"choropleth\",\"colorbar\":{\"outlinewidth\":0,\"ticks\":\"\"}}],\"histogram2d\":[{\"type\":\"histogram2d\",\"colorbar\":{\"outlinewidth\":0,\"ticks\":\"\"},\"colorscale\":[[0.0,\"#0d0887\"],[0.1111111111111111,\"#46039f\"],[0.2222222222222222,\"#7201a8\"],[0.3333333333333333,\"#9c179e\"],[0.4444444444444444,\"#bd3786\"],[0.5555555555555556,\"#d8576b\"],[0.6666666666666666,\"#ed7953\"],[0.7777777777777778,\"#fb9f3a\"],[0.8888888888888888,\"#fdca26\"],[1.0,\"#f0f921\"]]}],\"heatmap\":[{\"type\":\"heatmap\",\"colorbar\":{\"outlinewidth\":0,\"ticks\":\"\"},\"colorscale\":[[0.0,\"#0d0887\"],[0.1111111111111111,\"#46039f\"],[0.2222222222222222,\"#7201a8\"],[0.3333333333333333,\"#9c179e\"],[0.4444444444444444,\"#bd3786\"],[0.5555555555555556,\"#d8576b\"],[0.6666666666666666,\"#ed7953\"],[0.7777777777777778,\"#fb9f3a\"],[0.8888888888888888,\"#fdca26\"],[1.0,\"#f0f921\"]]}],\"heatmapgl\":[{\"type\":\"heatmapgl\",\"colorbar\":{\"outlinewidth\":0,\"ticks\":\"\"},\"colorscale\":[[0.0,\"#0d0887\"],[0.1111111111111111,\"#46039f\"],[0.2222222222222222,\"#7201a8\"],[0.3333333333333333,\"#9c179e\"],[0.4444444444444444,\"#bd3786\"],[0.5555555555555556,\"#d8576b\"],[0.6666666666666666,\"#ed7953\"],[0.7777777777777778,\"#fb9f3a\"],[0.8888888888888888,\"#fdca26\"],[1.0,\"#f0f921\"]]}],\"contourcarpet\":[{\"type\":\"contourcarpet\",\"colorbar\":{\"outlinewidth\":0,\"ticks\":\"\"}}],\"contour\":[{\"type\":\"contour\",\"colorbar\":{\"outlinewidth\":0,\"ticks\":\"\"},\"colorscale\":[[0.0,\"#0d0887\"],[0.1111111111111111,\"#46039f\"],[0.2222222222222222,\"#7201a8\"],[0.3333333333333333,\"#9c179e\"],[0.4444444444444444,\"#bd3786\"],[0.5555555555555556,\"#d8576b\"],[0.6666666666666666,\"#ed7953\"],[0.7777777777777778,\"#fb9f3a\"],[0.8888888888888888,\"#fdca26\"],[1.0,\"#f0f921\"]]}],\"surface\":[{\"type\":\"surface\",\"colorbar\":{\"outlinewidth\":0,\"ticks\":\"\"},\"colorscale\":[[0.0,\"#0d0887\"],[0.1111111111111111,\"#46039f\"],[0.2222222222222222,\"#7201a8\"],[0.3333333333333333,\"#9c179e\"],[0.4444444444444444,\"#bd3786\"],[0.5555555555555556,\"#d8576b\"],[0.6666666666666666,\"#ed7953\"],[0.7777777777777778,\"#fb9f3a\"],[0.8888888888888888,\"#fdca26\"],[1.0,\"#f0f921\"]]}],\"mesh3d\":[{\"type\":\"mesh3d\",\"colorbar\":{\"outlinewidth\":0,\"ticks\":\"\"}}],\"scatter\":[{\"fillpattern\":{\"fillmode\":\"overlay\",\"size\":10,\"solidity\":0.2},\"type\":\"scatter\"}],\"parcoords\":[{\"type\":\"parcoords\",\"line\":{\"colorbar\":{\"outlinewidth\":0,\"ticks\":\"\"}}}],\"scatterpolargl\":[{\"type\":\"scatterpolargl\",\"marker\":{\"colorbar\":{\"outlinewidth\":0,\"ticks\":\"\"}}}],\"bar\":[{\"error_x\":{\"color\":\"#2a3f5f\"},\"error_y\":{\"color\":\"#2a3f5f\"},\"marker\":{\"line\":{\"color\":\"#E5ECF6\",\"width\":0.5},\"pattern\":{\"fillmode\":\"overlay\",\"size\":10,\"solidity\":0.2}},\"type\":\"bar\"}],\"scattergeo\":[{\"type\":\"scattergeo\",\"marker\":{\"colorbar\":{\"outlinewidth\":0,\"ticks\":\"\"}}}],\"scatterpolar\":[{\"type\":\"scatterpolar\",\"marker\":{\"colorbar\":{\"outlinewidth\":0,\"ticks\":\"\"}}}],\"histogram\":[{\"marker\":{\"pattern\":{\"fillmode\":\"overlay\",\"size\":10,\"solidity\":0.2}},\"type\":\"histogram\"}],\"scattergl\":[{\"type\":\"scattergl\",\"marker\":{\"colorbar\":{\"outlinewidth\":0,\"ticks\":\"\"}}}],\"scatter3d\":[{\"type\":\"scatter3d\",\"line\":{\"colorbar\":{\"outlinewidth\":0,\"ticks\":\"\"}},\"marker\":{\"colorbar\":{\"outlinewidth\":0,\"ticks\":\"\"}}}],\"scattermapbox\":[{\"type\":\"scattermapbox\",\"marker\":{\"colorbar\":{\"outlinewidth\":0,\"ticks\":\"\"}}}],\"scatterternary\":[{\"type\":\"scatterternary\",\"marker\":{\"colorbar\":{\"outlinewidth\":0,\"ticks\":\"\"}}}],\"scattercarpet\":[{\"type\":\"scattercarpet\",\"marker\":{\"colorbar\":{\"outlinewidth\":0,\"ticks\":\"\"}}}],\"carpet\":[{\"aaxis\":{\"endlinecolor\":\"#2a3f5f\",\"gridcolor\":\"white\",\"linecolor\":\"white\",\"minorgridcolor\":\"white\",\"startlinecolor\":\"#2a3f5f\"},\"baxis\":{\"endlinecolor\":\"#2a3f5f\",\"gridcolor\":\"white\",\"linecolor\":\"white\",\"minorgridcolor\":\"white\",\"startlinecolor\":\"#2a3f5f\"},\"type\":\"carpet\"}],\"table\":[{\"cells\":{\"fill\":{\"color\":\"#EBF0F8\"},\"line\":{\"color\":\"white\"}},\"header\":{\"fill\":{\"color\":\"#C8D4E3\"},\"line\":{\"color\":\"white\"}},\"type\":\"table\"}],\"barpolar\":[{\"marker\":{\"line\":{\"color\":\"#E5ECF6\",\"width\":0.5},\"pattern\":{\"fillmode\":\"overlay\",\"size\":10,\"solidity\":0.2}},\"type\":\"barpolar\"}],\"pie\":[{\"automargin\":true,\"type\":\"pie\"}]},\"layout\":{\"autotypenumbers\":\"strict\",\"colorway\":[\"#636efa\",\"#EF553B\",\"#00cc96\",\"#ab63fa\",\"#FFA15A\",\"#19d3f3\",\"#FF6692\",\"#B6E880\",\"#FF97FF\",\"#FECB52\"],\"font\":{\"color\":\"#2a3f5f\"},\"hovermode\":\"closest\",\"hoverlabel\":{\"align\":\"left\"},\"paper_bgcolor\":\"white\",\"plot_bgcolor\":\"#E5ECF6\",\"polar\":{\"bgcolor\":\"#E5ECF6\",\"angularaxis\":{\"gridcolor\":\"white\",\"linecolor\":\"white\",\"ticks\":\"\"},\"radialaxis\":{\"gridcolor\":\"white\",\"linecolor\":\"white\",\"ticks\":\"\"}},\"ternary\":{\"bgcolor\":\"#E5ECF6\",\"aaxis\":{\"gridcolor\":\"white\",\"linecolor\":\"white\",\"ticks\":\"\"},\"baxis\":{\"gridcolor\":\"white\",\"linecolor\":\"white\",\"ticks\":\"\"},\"caxis\":{\"gridcolor\":\"white\",\"linecolor\":\"white\",\"ticks\":\"\"}},\"coloraxis\":{\"colorbar\":{\"outlinewidth\":0,\"ticks\":\"\"}},\"colorscale\":{\"sequential\":[[0.0,\"#0d0887\"],[0.1111111111111111,\"#46039f\"],[0.2222222222222222,\"#7201a8\"],[0.3333333333333333,\"#9c179e\"],[0.4444444444444444,\"#bd3786\"],[0.5555555555555556,\"#d8576b\"],[0.6666666666666666,\"#ed7953\"],[0.7777777777777778,\"#fb9f3a\"],[0.8888888888888888,\"#fdca26\"],[1.0,\"#f0f921\"]],\"sequentialminus\":[[0.0,\"#0d0887\"],[0.1111111111111111,\"#46039f\"],[0.2222222222222222,\"#7201a8\"],[0.3333333333333333,\"#9c179e\"],[0.4444444444444444,\"#bd3786\"],[0.5555555555555556,\"#d8576b\"],[0.6666666666666666,\"#ed7953\"],[0.7777777777777778,\"#fb9f3a\"],[0.8888888888888888,\"#fdca26\"],[1.0,\"#f0f921\"]],\"diverging\":[[0,\"#8e0152\"],[0.1,\"#c51b7d\"],[0.2,\"#de77ae\"],[0.3,\"#f1b6da\"],[0.4,\"#fde0ef\"],[0.5,\"#f7f7f7\"],[0.6,\"#e6f5d0\"],[0.7,\"#b8e186\"],[0.8,\"#7fbc41\"],[0.9,\"#4d9221\"],[1,\"#276419\"]]},\"xaxis\":{\"gridcolor\":\"white\",\"linecolor\":\"white\",\"ticks\":\"\",\"title\":{\"standoff\":15},\"zerolinecolor\":\"white\",\"automargin\":true,\"zerolinewidth\":2},\"yaxis\":{\"gridcolor\":\"white\",\"linecolor\":\"white\",\"ticks\":\"\",\"title\":{\"standoff\":15},\"zerolinecolor\":\"white\",\"automargin\":true,\"zerolinewidth\":2},\"scene\":{\"xaxis\":{\"backgroundcolor\":\"#E5ECF6\",\"gridcolor\":\"white\",\"linecolor\":\"white\",\"showbackground\":true,\"ticks\":\"\",\"zerolinecolor\":\"white\",\"gridwidth\":2},\"yaxis\":{\"backgroundcolor\":\"#E5ECF6\",\"gridcolor\":\"white\",\"linecolor\":\"white\",\"showbackground\":true,\"ticks\":\"\",\"zerolinecolor\":\"white\",\"gridwidth\":2},\"zaxis\":{\"backgroundcolor\":\"#E5ECF6\",\"gridcolor\":\"white\",\"linecolor\":\"white\",\"showbackground\":true,\"ticks\":\"\",\"zerolinecolor\":\"white\",\"gridwidth\":2}},\"shapedefaults\":{\"line\":{\"color\":\"#2a3f5f\"}},\"annotationdefaults\":{\"arrowcolor\":\"#2a3f5f\",\"arrowhead\":0,\"arrowwidth\":1},\"geo\":{\"bgcolor\":\"white\",\"landcolor\":\"#E5ECF6\",\"subunitcolor\":\"white\",\"showland\":true,\"showlakes\":true,\"lakecolor\":\"white\"},\"title\":{\"x\":0.05},\"mapbox\":{\"style\":\"light\"}}},\"title\":{\"text\":\"LPI for experiment 'exp_classic_cnn_orion'\"},\"xaxis\":{\"title\":{\"text\":\"Hyperparameters\"}},\"yaxis\":{\"title\":{\"text\":\"Local Parameter Importance (LPI)\"}}},                        {\"responsive\": true}                    ).then(function(){\n",
       "                            \n",
       "var gd = document.getElementById('7940ff82-a864-459d-90db-641a561160df');\n",
       "var x = new MutationObserver(function (mutations, observer) {{\n",
       "        var display = window.getComputedStyle(gd).display;\n",
       "        if (!display || display === 'none') {{\n",
       "            console.log([gd, 'removed!']);\n",
       "            Plotly.purge(gd);\n",
       "            observer.disconnect();\n",
       "        }}\n",
       "}});\n",
       "\n",
       "// Listen for the removal of the full notebook cells\n",
       "var notebookContainer = gd.closest('#notebook-container');\n",
       "if (notebookContainer) {{\n",
       "    x.observe(notebookContainer, {childList: true});\n",
       "}}\n",
       "\n",
       "// Listen for the clearing of the current output cell\n",
       "var outputEl = gd.closest('.output');\n",
       "if (outputEl) {{\n",
       "    x.observe(outputEl, {childList: true});\n",
       "}}\n",
       "\n",
       "                        })                };                });            </script>        </div>"
      ]
     },
     "metadata": {},
     "output_type": "display_data"
    }
   ],
   "source": [
    "fig = experiment.plot.lpi()\n",
    "fig"
   ]
  },
  {
   "cell_type": "code",
   "execution_count": 10,
   "metadata": {},
   "outputs": [
    {
     "data": {
      "application/vnd.plotly.v1+json": {
       "config": {
        "plotlyServerURL": "https://plot.ly"
       },
       "data": [
        {
         "line": {
          "color": "#1F77B4"
         },
         "mode": "lines",
         "showlegend": false,
         "type": "scatter",
         "x": [
          0.00001,
          0.00003594,
          0.0001292,
          0.0004642,
          0.001668,
          0.005995,
          0.02154,
          0.07743,
          0.2783,
          1
         ],
         "xaxis": "x",
         "y": [
          -89.87355041198731,
          -80.31770657196043,
          -76.38175732421875,
          -75.31925057830811,
          -89.58537234649658,
          -108.27900401763917,
          -108.37722116088868,
          -108.93135542755128,
          -109.89493761749267,
          -111.83370223236084
         ],
         "yaxis": "y"
        },
        {
         "fill": "toself",
         "line": {
          "color": "#1F77B4",
          "width": 0
         },
         "mode": "lines",
         "showlegend": false,
         "type": "scatter",
         "x": [
          0.00001,
          0.00003594,
          0.0001292,
          0.0004642,
          0.001668,
          0.005995,
          0.02154,
          0.07743,
          0.2783,
          1,
          1,
          0.2783,
          0.07743,
          0.02154,
          0.005995,
          0.001668,
          0.0004642,
          0.0001292,
          0.00003594,
          0.00001
         ],
         "xaxis": "x",
         "y": [
          -91.3495073562512,
          -82.50218130125663,
          -78.55667324965626,
          -78.59427422345732,
          -92.21242435725901,
          -108.36201706005461,
          -108.45340680263156,
          -108.99431129865388,
          -109.96919915734618,
          -111.86606454855692,
          -111.80133991616475,
          -109.82067607763916,
          -108.86839955644868,
          -108.3010355191458,
          -108.19599097522372,
          -86.95832033573416,
          -72.04422693315891,
          -74.20684139878125,
          -78.13323184266423,
          -88.39759346772342
         ],
         "yaxis": "y"
        },
        {
         "customdata": [
          [
           "b674caa51e0fef56ea9b212d6062e632",
           "2022-07-25T15:45:05.702704",
           "<br>  /lr: 4.301E-05<br>  /num_filters: 8"
          ],
          [
           "c819db7c59e48ba36e3f465b9adaac6a",
           "2022-07-25T15:48:37.503147",
           "<br>  /lr: 0.02116<br>  /num_filters: 4"
          ],
          [
           "16bb080df30a8e7331cb0ff09690bcf8",
           "2022-07-25T15:51:59.970431",
           "<br>  /lr: 0.005657<br>  /num_filters: 2"
          ],
          [
           "fff62843681057422fd17ab2a5b6f428",
           "2022-07-25T15:55:27.984449",
           "<br>  /lr: 2.814E-05<br>  /num_filters: 4"
          ],
          [
           "c186dd9891ccf6df0d66786891e3429f",
           "2022-07-25T15:59:09.289305",
           "<br>  /lr: 0.005024<br>  /num_filters: 8"
          ],
          [
           "0eded8b512bb165ba8e18d41ba6300ff",
           "2022-07-25T16:03:07.225669",
           "<br>  /lr: 1.099E-05<br>  /num_filters: 4"
          ],
          [
           "5c42721a18b30565424e0185a2cf6dcf",
           "2022-07-25T16:07:15.410520",
           "<br>  /lr: 0.7815<br>  /num_filters: 4"
          ],
          [
           "61018f4fbb6ef2094c842dc7c9461797",
           "2022-07-25T16:11:32.994393",
           "<br>  /lr: 0.005309<br>  /num_filters: 2"
          ],
          [
           "393de3640bafb09a9e95d6e3eb63db6f",
           "2022-07-25T16:15:54.594996",
           "<br>  /lr: 0.0001723<br>  /num_filters: 2"
          ],
          [
           "16b05f786a837a9fbe3e81e6daa3d073",
           "2022-07-25T16:20:17.286969",
           "<br>  /lr: 0.3496<br>  /num_filters: 4"
          ],
          [
           "a53ff7ab8492bd55901c45849a90cee7",
           "2022-07-25T16:24:50.958850",
           "<br>  /lr: 0.5985<br>  /num_filters: 8"
          ],
          [
           "138cc4d8dc02e567082533ebdb5d00bc",
           "2022-07-25T16:30:01.087086",
           "<br>  /lr: 5.096E-05<br>  /num_filters: 2"
          ],
          [
           "352c54b03dd2150c3760f585d3c5beb6",
           "2022-07-25T16:35:00.722032",
           "<br>  /lr: 1.608E-05<br>  /num_filters: 2"
          ],
          [
           "fa727c2710870384e44ea12361b47a99",
           "2022-07-25T16:40:00.615824",
           "<br>  /lr: 7.797E-05<br>  /num_filters: 8"
          ],
          [
           "f6dba64644b8933e8d6838a7693f836d",
           "2022-07-25T16:45:38.308488",
           "<br>  /lr: 0.02306<br>  /num_filters: 4"
          ],
          [
           "1c17125c0009779f01c36a9fb1bc1461",
           "2022-07-25T16:51:12.949739",
           "<br>  /lr: 0.004133<br>  /num_filters: 4"
          ],
          [
           "b2a2a11661b0f1a2a014034640e3b4a8",
           "2022-07-25T16:56:55.538512",
           "<br>  /lr: 0.001729<br>  /num_filters: 2"
          ],
          [
           "4420a0179a6bb7851739a796aa765c95",
           "2022-07-25T17:02:42.657422",
           "<br>  /lr: 0.5666<br>  /num_filters: 2"
          ],
          [
           "cf110fe0a4df5713d0dd4ab35c02d6bc",
           "2022-07-25T17:08:31.019694",
           "<br>  /lr: 0.1758<br>  /num_filters: 4"
          ],
          [
           "dd880aa6a9c22ad69ed39b432a073a3e",
           "2022-07-25T17:14:31.816120",
           "<br>  /lr: 0.08176<br>  /num_filters: 2"
          ],
          [
           "f3ec4df34faf4a9a2c2d046efe3bb9e9",
           "2022-07-25T17:20:35.366754",
           "<br>  /lr: 0.06836<br>  /num_filters: 2"
          ],
          [
           "ad1c16261d371ea131353ff7839e4237",
           "2022-07-25T17:26:44.834001",
           "<br>  /lr: 0.9654<br>  /num_filters: 4"
          ],
          [
           "843481dbbc4ad7c54f2765f1bb406d43",
           "2022-07-25T17:33:01.601221",
           "<br>  /lr: 0.0002697<br>  /num_filters: 8"
          ],
          [
           "b981d775c5fac780e30f806012dbfc88",
           "2022-07-25T17:39:49.175007",
           "<br>  /lr: 7.63E-05<br>  /num_filters: 8"
          ],
          [
           "5e31efaf2f7703c8db8da56599d96f91",
           "2022-07-25T17:46:51.785701",
           "<br>  /lr: 1.901E-05<br>  /num_filters: 8"
          ],
          [
           "12a8f24d00341b565a925e224463615c",
           "2022-07-25T17:54:12.734599",
           "<br>  /lr: 0.002826<br>  /num_filters: 8"
          ],
          [
           "8a33d662e67d03ef41e0dcf214ac53ef",
           "2022-07-25T18:01:42.475819",
           "<br>  /lr: 0.004121<br>  /num_filters: 4"
          ],
          [
           "7f99879c108d68f8e9add9fcdd252a20",
           "2022-07-25T18:09:15.866322",
           "<br>  /lr: 0.0464<br>  /num_filters: 8"
          ],
          [
           "f3999715dc5170944158d97497706671",
           "2022-07-25T18:17:10.786554",
           "<br>  /lr: 8.159E-05<br>  /num_filters: 8"
          ],
          [
           "e0c2615441e21d518f8792c72585028c",
           "2022-07-25T18:25:35.552389",
           "<br>  /lr: 0.0001719<br>  /num_filters: 2"
          ]
         ],
         "hovertemplate": "<b>ID: %{customdata[0]}</b><br>value: %{y}<br>time: %{customdata[1]|%Y-%m-%d %H:%M:%S}<br>parameters: %{customdata[2]}<extra></extra>",
         "marker": {
          "color": "black",
          "line": {
           "color": "Grey",
           "width": 0.5
          },
          "size": 5
         },
         "mode": "markers",
         "opacity": 0.5,
         "showlegend": false,
         "type": "scatter",
         "x": [
          0.00004301,
          0.02116,
          0.005657,
          0.00002814,
          0.005024,
          0.00001099,
          0.7815,
          0.005309,
          0.0001723,
          0.3496,
          0.5985,
          0.00005096,
          0.00001608,
          0.00007797,
          0.02306,
          0.004133,
          0.001729,
          0.5666,
          0.1758,
          0.08176,
          0.06836,
          0.9654,
          0.0002697,
          0.0000763,
          0.00001901,
          0.002826,
          0.004121,
          0.0464,
          0.00008159,
          0.0001719
         ],
         "xaxis": "x",
         "y": [
          -74.81263732910156,
          -108.33905792236328,
          -108.33506774902344,
          -84.13024139404297,
          -108.45990753173828,
          -91.21258544921875,
          -111.97390747070312,
          -107.91643524169922,
          -77.8935317993164,
          -109.75959777832031,
          -111.09058380126953,
          -84.24274444580078,
          -92.1225357055664,
          -72.17874145507812,
          -108.31692504882812,
          -107.44686889648438,
          -81.09728240966797,
          -111.29414367675781,
          -109.35459899902344,
          -108.93731689453125,
          -108.75981140136719,
          -112.1171875,
          -68.06244659423828,
          -72.02429962158203,
          -81.25581359863281,
          -108.46432495117188,
          -108.12129974365234,
          -108.5417251586914,
          -72.3463363647461,
          -77.20478820800781
         ],
         "yaxis": "y"
        },
        {
         "coloraxis": "coloraxis",
         "connectgaps": true,
         "contours": {
          "coloring": "heatmap",
          "labelfont": {
           "color": "white",
           "size": 12
          },
          "showlabels": true
         },
         "line": {
          "smoothing": 0.85
         },
         "type": "contour",
         "x": [
          0.00001,
          0.00003594,
          0.0001292,
          0.0004642,
          0.001668,
          0.005995,
          0.02154,
          0.07743,
          0.2783,
          1
         ],
         "xaxis": "x3",
         "y": [
          2,
          4,
          8
         ],
         "yaxis": "y3",
         "z": [
          [
           -90.98995651245119,
           -81.76074180603027,
           -77.80766258239746,
           -77.4640924835205,
           -91.30187843322751,
           -108.22170761108397,
           -108.31484245300291,
           -108.86033927917481,
           -109.81116088867189,
           -111.80681503295898
          ],
          [
           -90.5682536315918,
           -81.7257666015625,
           -77.80203742980956,
           -77.46184242248535,
           -91.31076721191407,
           -108.229766998291,
           -108.3510004425049,
           -108.98582725524902,
           -109.96141830444334,
           -111.88625381469724
          ],
          [
           -87.63407867431643,
           -76.98093620300291,
           -73.05952018737793,
           -70.31656951904296,
           -85.5724878692627,
           -108.40571083068849,
           -108.49143455505369,
           -108.98830352783202,
           -109.96019355773926,
           -111.827592086792
          ]
         ]
        },
        {
         "customdata": [
          [
           "b674caa51e0fef56ea9b212d6062e632",
           "2022-07-25T15:45:05.702704",
           "<br>  /lr: 4.301E-05<br>  /num_filters: 8"
          ],
          [
           "c819db7c59e48ba36e3f465b9adaac6a",
           "2022-07-25T15:48:37.503147",
           "<br>  /lr: 0.02116<br>  /num_filters: 4"
          ],
          [
           "16bb080df30a8e7331cb0ff09690bcf8",
           "2022-07-25T15:51:59.970431",
           "<br>  /lr: 0.005657<br>  /num_filters: 2"
          ],
          [
           "fff62843681057422fd17ab2a5b6f428",
           "2022-07-25T15:55:27.984449",
           "<br>  /lr: 2.814E-05<br>  /num_filters: 4"
          ],
          [
           "c186dd9891ccf6df0d66786891e3429f",
           "2022-07-25T15:59:09.289305",
           "<br>  /lr: 0.005024<br>  /num_filters: 8"
          ],
          [
           "0eded8b512bb165ba8e18d41ba6300ff",
           "2022-07-25T16:03:07.225669",
           "<br>  /lr: 1.099E-05<br>  /num_filters: 4"
          ],
          [
           "5c42721a18b30565424e0185a2cf6dcf",
           "2022-07-25T16:07:15.410520",
           "<br>  /lr: 0.7815<br>  /num_filters: 4"
          ],
          [
           "61018f4fbb6ef2094c842dc7c9461797",
           "2022-07-25T16:11:32.994393",
           "<br>  /lr: 0.005309<br>  /num_filters: 2"
          ],
          [
           "393de3640bafb09a9e95d6e3eb63db6f",
           "2022-07-25T16:15:54.594996",
           "<br>  /lr: 0.0001723<br>  /num_filters: 2"
          ],
          [
           "16b05f786a837a9fbe3e81e6daa3d073",
           "2022-07-25T16:20:17.286969",
           "<br>  /lr: 0.3496<br>  /num_filters: 4"
          ],
          [
           "a53ff7ab8492bd55901c45849a90cee7",
           "2022-07-25T16:24:50.958850",
           "<br>  /lr: 0.5985<br>  /num_filters: 8"
          ],
          [
           "138cc4d8dc02e567082533ebdb5d00bc",
           "2022-07-25T16:30:01.087086",
           "<br>  /lr: 5.096E-05<br>  /num_filters: 2"
          ],
          [
           "352c54b03dd2150c3760f585d3c5beb6",
           "2022-07-25T16:35:00.722032",
           "<br>  /lr: 1.608E-05<br>  /num_filters: 2"
          ],
          [
           "fa727c2710870384e44ea12361b47a99",
           "2022-07-25T16:40:00.615824",
           "<br>  /lr: 7.797E-05<br>  /num_filters: 8"
          ],
          [
           "f6dba64644b8933e8d6838a7693f836d",
           "2022-07-25T16:45:38.308488",
           "<br>  /lr: 0.02306<br>  /num_filters: 4"
          ],
          [
           "1c17125c0009779f01c36a9fb1bc1461",
           "2022-07-25T16:51:12.949739",
           "<br>  /lr: 0.004133<br>  /num_filters: 4"
          ],
          [
           "b2a2a11661b0f1a2a014034640e3b4a8",
           "2022-07-25T16:56:55.538512",
           "<br>  /lr: 0.001729<br>  /num_filters: 2"
          ],
          [
           "4420a0179a6bb7851739a796aa765c95",
           "2022-07-25T17:02:42.657422",
           "<br>  /lr: 0.5666<br>  /num_filters: 2"
          ],
          [
           "cf110fe0a4df5713d0dd4ab35c02d6bc",
           "2022-07-25T17:08:31.019694",
           "<br>  /lr: 0.1758<br>  /num_filters: 4"
          ],
          [
           "dd880aa6a9c22ad69ed39b432a073a3e",
           "2022-07-25T17:14:31.816120",
           "<br>  /lr: 0.08176<br>  /num_filters: 2"
          ],
          [
           "f3ec4df34faf4a9a2c2d046efe3bb9e9",
           "2022-07-25T17:20:35.366754",
           "<br>  /lr: 0.06836<br>  /num_filters: 2"
          ],
          [
           "ad1c16261d371ea131353ff7839e4237",
           "2022-07-25T17:26:44.834001",
           "<br>  /lr: 0.9654<br>  /num_filters: 4"
          ],
          [
           "843481dbbc4ad7c54f2765f1bb406d43",
           "2022-07-25T17:33:01.601221",
           "<br>  /lr: 0.0002697<br>  /num_filters: 8"
          ],
          [
           "b981d775c5fac780e30f806012dbfc88",
           "2022-07-25T17:39:49.175007",
           "<br>  /lr: 7.63E-05<br>  /num_filters: 8"
          ],
          [
           "5e31efaf2f7703c8db8da56599d96f91",
           "2022-07-25T17:46:51.785701",
           "<br>  /lr: 1.901E-05<br>  /num_filters: 8"
          ],
          [
           "12a8f24d00341b565a925e224463615c",
           "2022-07-25T17:54:12.734599",
           "<br>  /lr: 0.002826<br>  /num_filters: 8"
          ],
          [
           "8a33d662e67d03ef41e0dcf214ac53ef",
           "2022-07-25T18:01:42.475819",
           "<br>  /lr: 0.004121<br>  /num_filters: 4"
          ],
          [
           "7f99879c108d68f8e9add9fcdd252a20",
           "2022-07-25T18:09:15.866322",
           "<br>  /lr: 0.0464<br>  /num_filters: 8"
          ],
          [
           "f3999715dc5170944158d97497706671",
           "2022-07-25T18:17:10.786554",
           "<br>  /lr: 8.159E-05<br>  /num_filters: 8"
          ],
          [
           "e0c2615441e21d518f8792c72585028c",
           "2022-07-25T18:25:35.552389",
           "<br>  /lr: 0.0001719<br>  /num_filters: 2"
          ]
         ],
         "hovertemplate": "<b>ID: %{customdata[0]}</b><br>value: %{y}<br>time: %{customdata[1]|%Y-%m-%d %H:%M:%S}<br>parameters: %{customdata[2]}<extra></extra>",
         "marker": {
          "color": "black",
          "line": {
           "color": "Grey",
           "width": 0.5
          },
          "size": 5
         },
         "mode": "markers",
         "opacity": 0.5,
         "showlegend": false,
         "type": "scatter",
         "x": [
          0.00004301,
          0.02116,
          0.005657,
          0.00002814,
          0.005024,
          0.00001099,
          0.7815,
          0.005309,
          0.0001723,
          0.3496,
          0.5985,
          0.00005096,
          0.00001608,
          0.00007797,
          0.02306,
          0.004133,
          0.001729,
          0.5666,
          0.1758,
          0.08176,
          0.06836,
          0.9654,
          0.0002697,
          0.0000763,
          0.00001901,
          0.002826,
          0.004121,
          0.0464,
          0.00008159,
          0.0001719
         ],
         "xaxis": "x3",
         "y": [
          8,
          4,
          2,
          4,
          8,
          4,
          4,
          2,
          2,
          4,
          8,
          2,
          2,
          8,
          4,
          4,
          2,
          2,
          4,
          2,
          2,
          4,
          8,
          8,
          8,
          8,
          4,
          8,
          8,
          2
         ],
         "yaxis": "y3"
        },
        {
         "line": {
          "color": "#1F77B4"
         },
         "mode": "lines",
         "showlegend": false,
         "type": "scatter",
         "x": [
          2,
          4,
          8
         ],
         "xaxis": "x4",
         "y": [
          -95.94126710205079,
          -95.92417539672851,
          -93.20881929473877
         ],
         "yaxis": "y4"
        },
        {
         "fill": "toself",
         "line": {
          "color": "#1F77B4",
          "width": 0
         },
         "mode": "lines",
         "showlegend": false,
         "type": "scatter",
         "x": [
          2,
          4,
          8,
          8,
          4,
          2
         ],
         "xaxis": "x4",
         "y": [
          -109.64144097882462,
          -109.68052274084256,
          -109.92658995465574,
          -76.49104863482181,
          -82.16782805261447,
          -82.24109322527696
         ],
         "yaxis": "y4"
        },
        {
         "customdata": [
          [
           "b674caa51e0fef56ea9b212d6062e632",
           "2022-07-25T15:45:05.702704",
           "<br>  /lr: 4.301E-05<br>  /num_filters: 8"
          ],
          [
           "c819db7c59e48ba36e3f465b9adaac6a",
           "2022-07-25T15:48:37.503147",
           "<br>  /lr: 0.02116<br>  /num_filters: 4"
          ],
          [
           "16bb080df30a8e7331cb0ff09690bcf8",
           "2022-07-25T15:51:59.970431",
           "<br>  /lr: 0.005657<br>  /num_filters: 2"
          ],
          [
           "fff62843681057422fd17ab2a5b6f428",
           "2022-07-25T15:55:27.984449",
           "<br>  /lr: 2.814E-05<br>  /num_filters: 4"
          ],
          [
           "c186dd9891ccf6df0d66786891e3429f",
           "2022-07-25T15:59:09.289305",
           "<br>  /lr: 0.005024<br>  /num_filters: 8"
          ],
          [
           "0eded8b512bb165ba8e18d41ba6300ff",
           "2022-07-25T16:03:07.225669",
           "<br>  /lr: 1.099E-05<br>  /num_filters: 4"
          ],
          [
           "5c42721a18b30565424e0185a2cf6dcf",
           "2022-07-25T16:07:15.410520",
           "<br>  /lr: 0.7815<br>  /num_filters: 4"
          ],
          [
           "61018f4fbb6ef2094c842dc7c9461797",
           "2022-07-25T16:11:32.994393",
           "<br>  /lr: 0.005309<br>  /num_filters: 2"
          ],
          [
           "393de3640bafb09a9e95d6e3eb63db6f",
           "2022-07-25T16:15:54.594996",
           "<br>  /lr: 0.0001723<br>  /num_filters: 2"
          ],
          [
           "16b05f786a837a9fbe3e81e6daa3d073",
           "2022-07-25T16:20:17.286969",
           "<br>  /lr: 0.3496<br>  /num_filters: 4"
          ],
          [
           "a53ff7ab8492bd55901c45849a90cee7",
           "2022-07-25T16:24:50.958850",
           "<br>  /lr: 0.5985<br>  /num_filters: 8"
          ],
          [
           "138cc4d8dc02e567082533ebdb5d00bc",
           "2022-07-25T16:30:01.087086",
           "<br>  /lr: 5.096E-05<br>  /num_filters: 2"
          ],
          [
           "352c54b03dd2150c3760f585d3c5beb6",
           "2022-07-25T16:35:00.722032",
           "<br>  /lr: 1.608E-05<br>  /num_filters: 2"
          ],
          [
           "fa727c2710870384e44ea12361b47a99",
           "2022-07-25T16:40:00.615824",
           "<br>  /lr: 7.797E-05<br>  /num_filters: 8"
          ],
          [
           "f6dba64644b8933e8d6838a7693f836d",
           "2022-07-25T16:45:38.308488",
           "<br>  /lr: 0.02306<br>  /num_filters: 4"
          ],
          [
           "1c17125c0009779f01c36a9fb1bc1461",
           "2022-07-25T16:51:12.949739",
           "<br>  /lr: 0.004133<br>  /num_filters: 4"
          ],
          [
           "b2a2a11661b0f1a2a014034640e3b4a8",
           "2022-07-25T16:56:55.538512",
           "<br>  /lr: 0.001729<br>  /num_filters: 2"
          ],
          [
           "4420a0179a6bb7851739a796aa765c95",
           "2022-07-25T17:02:42.657422",
           "<br>  /lr: 0.5666<br>  /num_filters: 2"
          ],
          [
           "cf110fe0a4df5713d0dd4ab35c02d6bc",
           "2022-07-25T17:08:31.019694",
           "<br>  /lr: 0.1758<br>  /num_filters: 4"
          ],
          [
           "dd880aa6a9c22ad69ed39b432a073a3e",
           "2022-07-25T17:14:31.816120",
           "<br>  /lr: 0.08176<br>  /num_filters: 2"
          ],
          [
           "f3ec4df34faf4a9a2c2d046efe3bb9e9",
           "2022-07-25T17:20:35.366754",
           "<br>  /lr: 0.06836<br>  /num_filters: 2"
          ],
          [
           "ad1c16261d371ea131353ff7839e4237",
           "2022-07-25T17:26:44.834001",
           "<br>  /lr: 0.9654<br>  /num_filters: 4"
          ],
          [
           "843481dbbc4ad7c54f2765f1bb406d43",
           "2022-07-25T17:33:01.601221",
           "<br>  /lr: 0.0002697<br>  /num_filters: 8"
          ],
          [
           "b981d775c5fac780e30f806012dbfc88",
           "2022-07-25T17:39:49.175007",
           "<br>  /lr: 7.63E-05<br>  /num_filters: 8"
          ],
          [
           "5e31efaf2f7703c8db8da56599d96f91",
           "2022-07-25T17:46:51.785701",
           "<br>  /lr: 1.901E-05<br>  /num_filters: 8"
          ],
          [
           "12a8f24d00341b565a925e224463615c",
           "2022-07-25T17:54:12.734599",
           "<br>  /lr: 0.002826<br>  /num_filters: 8"
          ],
          [
           "8a33d662e67d03ef41e0dcf214ac53ef",
           "2022-07-25T18:01:42.475819",
           "<br>  /lr: 0.004121<br>  /num_filters: 4"
          ],
          [
           "7f99879c108d68f8e9add9fcdd252a20",
           "2022-07-25T18:09:15.866322",
           "<br>  /lr: 0.0464<br>  /num_filters: 8"
          ],
          [
           "f3999715dc5170944158d97497706671",
           "2022-07-25T18:17:10.786554",
           "<br>  /lr: 8.159E-05<br>  /num_filters: 8"
          ],
          [
           "e0c2615441e21d518f8792c72585028c",
           "2022-07-25T18:25:35.552389",
           "<br>  /lr: 0.0001719<br>  /num_filters: 2"
          ]
         ],
         "hovertemplate": "<b>ID: %{customdata[0]}</b><br>value: %{y}<br>time: %{customdata[1]|%Y-%m-%d %H:%M:%S}<br>parameters: %{customdata[2]}<extra></extra>",
         "marker": {
          "color": "black",
          "line": {
           "color": "Grey",
           "width": 0.5
          },
          "size": 5
         },
         "mode": "markers",
         "opacity": 0.5,
         "showlegend": false,
         "type": "scatter",
         "x": [
          8,
          4,
          2,
          4,
          8,
          4,
          4,
          2,
          2,
          4,
          8,
          2,
          2,
          8,
          4,
          4,
          2,
          2,
          4,
          2,
          2,
          4,
          8,
          8,
          8,
          8,
          4,
          8,
          8,
          2
         ],
         "xaxis": "x4",
         "y": [
          -74.81263732910156,
          -108.33905792236328,
          -108.33506774902344,
          -84.13024139404297,
          -108.45990753173828,
          -91.21258544921875,
          -111.97390747070312,
          -107.91643524169922,
          -77.8935317993164,
          -109.75959777832031,
          -111.09058380126953,
          -84.24274444580078,
          -92.1225357055664,
          -72.17874145507812,
          -108.31692504882812,
          -107.44686889648438,
          -81.09728240966797,
          -111.29414367675781,
          -109.35459899902344,
          -108.93731689453125,
          -108.75981140136719,
          -112.1171875,
          -68.06244659423828,
          -72.02429962158203,
          -81.25581359863281,
          -108.46432495117188,
          -108.12129974365234,
          -108.5417251586914,
          -72.3463363647461,
          -77.20478820800781
         ],
         "yaxis": "y4"
        }
       ],
       "layout": {
        "coloraxis": {
         "colorbar": {
          "title": {
           "text": "Objective"
          }
         },
         "colorscale": [
          [
           0,
           "rgb(247,251,255)"
          ],
          [
           0.125,
           "rgb(222,235,247)"
          ],
          [
           0.25,
           "rgb(198,219,239)"
          ],
          [
           0.375,
           "rgb(158,202,225)"
          ],
          [
           0.5,
           "rgb(107,174,214)"
          ],
          [
           0.625,
           "rgb(66,146,198)"
          ],
          [
           0.75,
           "rgb(33,113,181)"
          ],
          [
           0.875,
           "rgb(8,81,156)"
          ],
          [
           1,
           "rgb(8,48,107)"
          ]
         ]
        },
        "paper_bgcolor": "rgba(0,0,0,0)",
        "plot_bgcolor": "rgba(0,0,0,0)",
        "showlegend": false,
        "template": {
         "data": {
          "bar": [
           {
            "error_x": {
             "color": "#2a3f5f"
            },
            "error_y": {
             "color": "#2a3f5f"
            },
            "marker": {
             "line": {
              "color": "#E5ECF6",
              "width": 0.5
             },
             "pattern": {
              "fillmode": "overlay",
              "size": 10,
              "solidity": 0.2
             }
            },
            "type": "bar"
           }
          ],
          "barpolar": [
           {
            "marker": {
             "line": {
              "color": "#E5ECF6",
              "width": 0.5
             },
             "pattern": {
              "fillmode": "overlay",
              "size": 10,
              "solidity": 0.2
             }
            },
            "type": "barpolar"
           }
          ],
          "carpet": [
           {
            "aaxis": {
             "endlinecolor": "#2a3f5f",
             "gridcolor": "white",
             "linecolor": "white",
             "minorgridcolor": "white",
             "startlinecolor": "#2a3f5f"
            },
            "baxis": {
             "endlinecolor": "#2a3f5f",
             "gridcolor": "white",
             "linecolor": "white",
             "minorgridcolor": "white",
             "startlinecolor": "#2a3f5f"
            },
            "type": "carpet"
           }
          ],
          "choropleth": [
           {
            "colorbar": {
             "outlinewidth": 0,
             "ticks": ""
            },
            "type": "choropleth"
           }
          ],
          "contour": [
           {
            "colorbar": {
             "outlinewidth": 0,
             "ticks": ""
            },
            "colorscale": [
             [
              0,
              "#0d0887"
             ],
             [
              0.1111111111111111,
              "#46039f"
             ],
             [
              0.2222222222222222,
              "#7201a8"
             ],
             [
              0.3333333333333333,
              "#9c179e"
             ],
             [
              0.4444444444444444,
              "#bd3786"
             ],
             [
              0.5555555555555556,
              "#d8576b"
             ],
             [
              0.6666666666666666,
              "#ed7953"
             ],
             [
              0.7777777777777778,
              "#fb9f3a"
             ],
             [
              0.8888888888888888,
              "#fdca26"
             ],
             [
              1,
              "#f0f921"
             ]
            ],
            "type": "contour"
           }
          ],
          "contourcarpet": [
           {
            "colorbar": {
             "outlinewidth": 0,
             "ticks": ""
            },
            "type": "contourcarpet"
           }
          ],
          "heatmap": [
           {
            "colorbar": {
             "outlinewidth": 0,
             "ticks": ""
            },
            "colorscale": [
             [
              0,
              "#0d0887"
             ],
             [
              0.1111111111111111,
              "#46039f"
             ],
             [
              0.2222222222222222,
              "#7201a8"
             ],
             [
              0.3333333333333333,
              "#9c179e"
             ],
             [
              0.4444444444444444,
              "#bd3786"
             ],
             [
              0.5555555555555556,
              "#d8576b"
             ],
             [
              0.6666666666666666,
              "#ed7953"
             ],
             [
              0.7777777777777778,
              "#fb9f3a"
             ],
             [
              0.8888888888888888,
              "#fdca26"
             ],
             [
              1,
              "#f0f921"
             ]
            ],
            "type": "heatmap"
           }
          ],
          "heatmapgl": [
           {
            "colorbar": {
             "outlinewidth": 0,
             "ticks": ""
            },
            "colorscale": [
             [
              0,
              "#0d0887"
             ],
             [
              0.1111111111111111,
              "#46039f"
             ],
             [
              0.2222222222222222,
              "#7201a8"
             ],
             [
              0.3333333333333333,
              "#9c179e"
             ],
             [
              0.4444444444444444,
              "#bd3786"
             ],
             [
              0.5555555555555556,
              "#d8576b"
             ],
             [
              0.6666666666666666,
              "#ed7953"
             ],
             [
              0.7777777777777778,
              "#fb9f3a"
             ],
             [
              0.8888888888888888,
              "#fdca26"
             ],
             [
              1,
              "#f0f921"
             ]
            ],
            "type": "heatmapgl"
           }
          ],
          "histogram": [
           {
            "marker": {
             "pattern": {
              "fillmode": "overlay",
              "size": 10,
              "solidity": 0.2
             }
            },
            "type": "histogram"
           }
          ],
          "histogram2d": [
           {
            "colorbar": {
             "outlinewidth": 0,
             "ticks": ""
            },
            "colorscale": [
             [
              0,
              "#0d0887"
             ],
             [
              0.1111111111111111,
              "#46039f"
             ],
             [
              0.2222222222222222,
              "#7201a8"
             ],
             [
              0.3333333333333333,
              "#9c179e"
             ],
             [
              0.4444444444444444,
              "#bd3786"
             ],
             [
              0.5555555555555556,
              "#d8576b"
             ],
             [
              0.6666666666666666,
              "#ed7953"
             ],
             [
              0.7777777777777778,
              "#fb9f3a"
             ],
             [
              0.8888888888888888,
              "#fdca26"
             ],
             [
              1,
              "#f0f921"
             ]
            ],
            "type": "histogram2d"
           }
          ],
          "histogram2dcontour": [
           {
            "colorbar": {
             "outlinewidth": 0,
             "ticks": ""
            },
            "colorscale": [
             [
              0,
              "#0d0887"
             ],
             [
              0.1111111111111111,
              "#46039f"
             ],
             [
              0.2222222222222222,
              "#7201a8"
             ],
             [
              0.3333333333333333,
              "#9c179e"
             ],
             [
              0.4444444444444444,
              "#bd3786"
             ],
             [
              0.5555555555555556,
              "#d8576b"
             ],
             [
              0.6666666666666666,
              "#ed7953"
             ],
             [
              0.7777777777777778,
              "#fb9f3a"
             ],
             [
              0.8888888888888888,
              "#fdca26"
             ],
             [
              1,
              "#f0f921"
             ]
            ],
            "type": "histogram2dcontour"
           }
          ],
          "mesh3d": [
           {
            "colorbar": {
             "outlinewidth": 0,
             "ticks": ""
            },
            "type": "mesh3d"
           }
          ],
          "parcoords": [
           {
            "line": {
             "colorbar": {
              "outlinewidth": 0,
              "ticks": ""
             }
            },
            "type": "parcoords"
           }
          ],
          "pie": [
           {
            "automargin": true,
            "type": "pie"
           }
          ],
          "scatter": [
           {
            "fillpattern": {
             "fillmode": "overlay",
             "size": 10,
             "solidity": 0.2
            },
            "type": "scatter"
           }
          ],
          "scatter3d": [
           {
            "line": {
             "colorbar": {
              "outlinewidth": 0,
              "ticks": ""
             }
            },
            "marker": {
             "colorbar": {
              "outlinewidth": 0,
              "ticks": ""
             }
            },
            "type": "scatter3d"
           }
          ],
          "scattercarpet": [
           {
            "marker": {
             "colorbar": {
              "outlinewidth": 0,
              "ticks": ""
             }
            },
            "type": "scattercarpet"
           }
          ],
          "scattergeo": [
           {
            "marker": {
             "colorbar": {
              "outlinewidth": 0,
              "ticks": ""
             }
            },
            "type": "scattergeo"
           }
          ],
          "scattergl": [
           {
            "marker": {
             "colorbar": {
              "outlinewidth": 0,
              "ticks": ""
             }
            },
            "type": "scattergl"
           }
          ],
          "scattermapbox": [
           {
            "marker": {
             "colorbar": {
              "outlinewidth": 0,
              "ticks": ""
             }
            },
            "type": "scattermapbox"
           }
          ],
          "scatterpolar": [
           {
            "marker": {
             "colorbar": {
              "outlinewidth": 0,
              "ticks": ""
             }
            },
            "type": "scatterpolar"
           }
          ],
          "scatterpolargl": [
           {
            "marker": {
             "colorbar": {
              "outlinewidth": 0,
              "ticks": ""
             }
            },
            "type": "scatterpolargl"
           }
          ],
          "scatterternary": [
           {
            "marker": {
             "colorbar": {
              "outlinewidth": 0,
              "ticks": ""
             }
            },
            "type": "scatterternary"
           }
          ],
          "surface": [
           {
            "colorbar": {
             "outlinewidth": 0,
             "ticks": ""
            },
            "colorscale": [
             [
              0,
              "#0d0887"
             ],
             [
              0.1111111111111111,
              "#46039f"
             ],
             [
              0.2222222222222222,
              "#7201a8"
             ],
             [
              0.3333333333333333,
              "#9c179e"
             ],
             [
              0.4444444444444444,
              "#bd3786"
             ],
             [
              0.5555555555555556,
              "#d8576b"
             ],
             [
              0.6666666666666666,
              "#ed7953"
             ],
             [
              0.7777777777777778,
              "#fb9f3a"
             ],
             [
              0.8888888888888888,
              "#fdca26"
             ],
             [
              1,
              "#f0f921"
             ]
            ],
            "type": "surface"
           }
          ],
          "table": [
           {
            "cells": {
             "fill": {
              "color": "#EBF0F8"
             },
             "line": {
              "color": "white"
             }
            },
            "header": {
             "fill": {
              "color": "#C8D4E3"
             },
             "line": {
              "color": "white"
             }
            },
            "type": "table"
           }
          ]
         },
         "layout": {
          "annotationdefaults": {
           "arrowcolor": "#2a3f5f",
           "arrowhead": 0,
           "arrowwidth": 1
          },
          "autotypenumbers": "strict",
          "coloraxis": {
           "colorbar": {
            "outlinewidth": 0,
            "ticks": ""
           }
          },
          "colorscale": {
           "diverging": [
            [
             0,
             "#8e0152"
            ],
            [
             0.1,
             "#c51b7d"
            ],
            [
             0.2,
             "#de77ae"
            ],
            [
             0.3,
             "#f1b6da"
            ],
            [
             0.4,
             "#fde0ef"
            ],
            [
             0.5,
             "#f7f7f7"
            ],
            [
             0.6,
             "#e6f5d0"
            ],
            [
             0.7,
             "#b8e186"
            ],
            [
             0.8,
             "#7fbc41"
            ],
            [
             0.9,
             "#4d9221"
            ],
            [
             1,
             "#276419"
            ]
           ],
           "sequential": [
            [
             0,
             "#0d0887"
            ],
            [
             0.1111111111111111,
             "#46039f"
            ],
            [
             0.2222222222222222,
             "#7201a8"
            ],
            [
             0.3333333333333333,
             "#9c179e"
            ],
            [
             0.4444444444444444,
             "#bd3786"
            ],
            [
             0.5555555555555556,
             "#d8576b"
            ],
            [
             0.6666666666666666,
             "#ed7953"
            ],
            [
             0.7777777777777778,
             "#fb9f3a"
            ],
            [
             0.8888888888888888,
             "#fdca26"
            ],
            [
             1,
             "#f0f921"
            ]
           ],
           "sequentialminus": [
            [
             0,
             "#0d0887"
            ],
            [
             0.1111111111111111,
             "#46039f"
            ],
            [
             0.2222222222222222,
             "#7201a8"
            ],
            [
             0.3333333333333333,
             "#9c179e"
            ],
            [
             0.4444444444444444,
             "#bd3786"
            ],
            [
             0.5555555555555556,
             "#d8576b"
            ],
            [
             0.6666666666666666,
             "#ed7953"
            ],
            [
             0.7777777777777778,
             "#fb9f3a"
            ],
            [
             0.8888888888888888,
             "#fdca26"
            ],
            [
             1,
             "#f0f921"
            ]
           ]
          },
          "colorway": [
           "#636efa",
           "#EF553B",
           "#00cc96",
           "#ab63fa",
           "#FFA15A",
           "#19d3f3",
           "#FF6692",
           "#B6E880",
           "#FF97FF",
           "#FECB52"
          ],
          "font": {
           "color": "#2a3f5f"
          },
          "geo": {
           "bgcolor": "white",
           "lakecolor": "white",
           "landcolor": "#E5ECF6",
           "showlakes": true,
           "showland": true,
           "subunitcolor": "white"
          },
          "hoverlabel": {
           "align": "left"
          },
          "hovermode": "closest",
          "mapbox": {
           "style": "light"
          },
          "paper_bgcolor": "white",
          "plot_bgcolor": "#E5ECF6",
          "polar": {
           "angularaxis": {
            "gridcolor": "white",
            "linecolor": "white",
            "ticks": ""
           },
           "bgcolor": "#E5ECF6",
           "radialaxis": {
            "gridcolor": "white",
            "linecolor": "white",
            "ticks": ""
           }
          },
          "scene": {
           "xaxis": {
            "backgroundcolor": "#E5ECF6",
            "gridcolor": "white",
            "gridwidth": 2,
            "linecolor": "white",
            "showbackground": true,
            "ticks": "",
            "zerolinecolor": "white"
           },
           "yaxis": {
            "backgroundcolor": "#E5ECF6",
            "gridcolor": "white",
            "gridwidth": 2,
            "linecolor": "white",
            "showbackground": true,
            "ticks": "",
            "zerolinecolor": "white"
           },
           "zaxis": {
            "backgroundcolor": "#E5ECF6",
            "gridcolor": "white",
            "gridwidth": 2,
            "linecolor": "white",
            "showbackground": true,
            "ticks": "",
            "zerolinecolor": "white"
           }
          },
          "shapedefaults": {
           "line": {
            "color": "#2a3f5f"
           }
          },
          "ternary": {
           "aaxis": {
            "gridcolor": "white",
            "linecolor": "white",
            "ticks": ""
           },
           "baxis": {
            "gridcolor": "white",
            "linecolor": "white",
            "ticks": ""
           },
           "bgcolor": "#E5ECF6",
           "caxis": {
            "gridcolor": "white",
            "linecolor": "white",
            "ticks": ""
           }
          },
          "title": {
           "x": 0.05
          },
          "xaxis": {
           "automargin": true,
           "gridcolor": "white",
           "linecolor": "white",
           "ticks": "",
           "title": {
            "standoff": 15
           },
           "zerolinecolor": "white",
           "zerolinewidth": 2
          },
          "yaxis": {
           "automargin": true,
           "gridcolor": "white",
           "linecolor": "white",
           "ticks": "",
           "title": {
            "standoff": 15
           },
           "zerolinecolor": "white",
           "zerolinewidth": 2
          }
         }
        },
        "title": {
         "text": "Partial dependencies for experiment 'exp_classic_cnn_orion'"
        },
        "xaxis": {
         "anchor": "y",
         "domain": [
          0,
          0.45
         ],
         "matches": "x3",
         "showticklabels": false,
         "type": "log"
        },
        "xaxis2": {
         "anchor": "y2",
         "domain": [
          0.55,
          1
         ],
         "matches": "x4",
         "showticklabels": false
        },
        "xaxis3": {
         "anchor": "y3",
         "domain": [
          0,
          0.45
         ],
         "title": {
          "text": "/lr"
         },
         "type": "log"
        },
        "xaxis4": {
         "anchor": "y4",
         "domain": [
          0.55,
          1
         ],
         "title": {
          "text": "/num_filters"
         }
        },
        "yaxis": {
         "anchor": "x",
         "domain": [
          0.575,
          1
         ],
         "range": [
          -111.88625381469724,
          -70.31656951904296
         ],
         "title": {
          "text": "Objective"
         }
        },
        "yaxis2": {
         "anchor": "x2",
         "domain": [
          0.575,
          1
         ]
        },
        "yaxis3": {
         "anchor": "x3",
         "domain": [
          0,
          0.425
         ],
         "title": {
          "text": "/num_filters"
         }
        },
        "yaxis4": {
         "anchor": "x4",
         "domain": [
          0,
          0.425
         ],
         "range": [
          -111.88625381469724,
          -70.31656951904296
         ]
        }
       }
      },
      "text/html": [
       "<div>                            <div id=\"665dc626-6176-4d4c-a6fd-a603ec5fa2c4\" class=\"plotly-graph-div\" style=\"height:525px; width:100%;\"></div>            <script type=\"text/javascript\">                require([\"plotly\"], function(Plotly) {                    window.PLOTLYENV=window.PLOTLYENV || {};                                    if (document.getElementById(\"665dc626-6176-4d4c-a6fd-a603ec5fa2c4\")) {                    Plotly.newPlot(                        \"665dc626-6176-4d4c-a6fd-a603ec5fa2c4\",                        [{\"line\":{\"color\":\"#1F77B4\"},\"mode\":\"lines\",\"showlegend\":false,\"x\":[1e-05,3.594e-05,0.0001292,0.0004642,0.001668,0.005995,0.02154,0.07743,0.2783,1.0],\"y\":[-89.87355041198731,-80.31770657196043,-76.38175732421875,-75.31925057830811,-89.58537234649658,-108.27900401763917,-108.37722116088868,-108.93135542755128,-109.89493761749267,-111.83370223236084],\"type\":\"scatter\",\"xaxis\":\"x\",\"yaxis\":\"y\"},{\"fill\":\"toself\",\"line\":{\"color\":\"#1F77B4\",\"width\":0},\"mode\":\"lines\",\"showlegend\":false,\"x\":[1e-05,3.594e-05,0.0001292,0.0004642,0.001668,0.005995,0.02154,0.07743,0.2783,1.0,1.0,0.2783,0.07743,0.02154,0.005995,0.001668,0.0004642,0.0001292,3.594e-05,1e-05],\"y\":[-91.3495073562512,-82.50218130125663,-78.55667324965626,-78.59427422345732,-92.21242435725901,-108.36201706005461,-108.45340680263156,-108.99431129865388,-109.96919915734618,-111.86606454855692,-111.80133991616475,-109.82067607763916,-108.86839955644868,-108.3010355191458,-108.19599097522372,-86.95832033573416,-72.04422693315891,-74.20684139878125,-78.13323184266423,-88.39759346772342],\"type\":\"scatter\",\"xaxis\":\"x\",\"yaxis\":\"y\"},{\"customdata\":[[\"b674caa51e0fef56ea9b212d6062e632\",\"2022-07-25T15:45:05.702704\",\"<br>  /lr: 4.301E-05<br>  /num_filters: 8\"],[\"c819db7c59e48ba36e3f465b9adaac6a\",\"2022-07-25T15:48:37.503147\",\"<br>  /lr: 0.02116<br>  /num_filters: 4\"],[\"16bb080df30a8e7331cb0ff09690bcf8\",\"2022-07-25T15:51:59.970431\",\"<br>  /lr: 0.005657<br>  /num_filters: 2\"],[\"fff62843681057422fd17ab2a5b6f428\",\"2022-07-25T15:55:27.984449\",\"<br>  /lr: 2.814E-05<br>  /num_filters: 4\"],[\"c186dd9891ccf6df0d66786891e3429f\",\"2022-07-25T15:59:09.289305\",\"<br>  /lr: 0.005024<br>  /num_filters: 8\"],[\"0eded8b512bb165ba8e18d41ba6300ff\",\"2022-07-25T16:03:07.225669\",\"<br>  /lr: 1.099E-05<br>  /num_filters: 4\"],[\"5c42721a18b30565424e0185a2cf6dcf\",\"2022-07-25T16:07:15.410520\",\"<br>  /lr: 0.7815<br>  /num_filters: 4\"],[\"61018f4fbb6ef2094c842dc7c9461797\",\"2022-07-25T16:11:32.994393\",\"<br>  /lr: 0.005309<br>  /num_filters: 2\"],[\"393de3640bafb09a9e95d6e3eb63db6f\",\"2022-07-25T16:15:54.594996\",\"<br>  /lr: 0.0001723<br>  /num_filters: 2\"],[\"16b05f786a837a9fbe3e81e6daa3d073\",\"2022-07-25T16:20:17.286969\",\"<br>  /lr: 0.3496<br>  /num_filters: 4\"],[\"a53ff7ab8492bd55901c45849a90cee7\",\"2022-07-25T16:24:50.958850\",\"<br>  /lr: 0.5985<br>  /num_filters: 8\"],[\"138cc4d8dc02e567082533ebdb5d00bc\",\"2022-07-25T16:30:01.087086\",\"<br>  /lr: 5.096E-05<br>  /num_filters: 2\"],[\"352c54b03dd2150c3760f585d3c5beb6\",\"2022-07-25T16:35:00.722032\",\"<br>  /lr: 1.608E-05<br>  /num_filters: 2\"],[\"fa727c2710870384e44ea12361b47a99\",\"2022-07-25T16:40:00.615824\",\"<br>  /lr: 7.797E-05<br>  /num_filters: 8\"],[\"f6dba64644b8933e8d6838a7693f836d\",\"2022-07-25T16:45:38.308488\",\"<br>  /lr: 0.02306<br>  /num_filters: 4\"],[\"1c17125c0009779f01c36a9fb1bc1461\",\"2022-07-25T16:51:12.949739\",\"<br>  /lr: 0.004133<br>  /num_filters: 4\"],[\"b2a2a11661b0f1a2a014034640e3b4a8\",\"2022-07-25T16:56:55.538512\",\"<br>  /lr: 0.001729<br>  /num_filters: 2\"],[\"4420a0179a6bb7851739a796aa765c95\",\"2022-07-25T17:02:42.657422\",\"<br>  /lr: 0.5666<br>  /num_filters: 2\"],[\"cf110fe0a4df5713d0dd4ab35c02d6bc\",\"2022-07-25T17:08:31.019694\",\"<br>  /lr: 0.1758<br>  /num_filters: 4\"],[\"dd880aa6a9c22ad69ed39b432a073a3e\",\"2022-07-25T17:14:31.816120\",\"<br>  /lr: 0.08176<br>  /num_filters: 2\"],[\"f3ec4df34faf4a9a2c2d046efe3bb9e9\",\"2022-07-25T17:20:35.366754\",\"<br>  /lr: 0.06836<br>  /num_filters: 2\"],[\"ad1c16261d371ea131353ff7839e4237\",\"2022-07-25T17:26:44.834001\",\"<br>  /lr: 0.9654<br>  /num_filters: 4\"],[\"843481dbbc4ad7c54f2765f1bb406d43\",\"2022-07-25T17:33:01.601221\",\"<br>  /lr: 0.0002697<br>  /num_filters: 8\"],[\"b981d775c5fac780e30f806012dbfc88\",\"2022-07-25T17:39:49.175007\",\"<br>  /lr: 7.63E-05<br>  /num_filters: 8\"],[\"5e31efaf2f7703c8db8da56599d96f91\",\"2022-07-25T17:46:51.785701\",\"<br>  /lr: 1.901E-05<br>  /num_filters: 8\"],[\"12a8f24d00341b565a925e224463615c\",\"2022-07-25T17:54:12.734599\",\"<br>  /lr: 0.002826<br>  /num_filters: 8\"],[\"8a33d662e67d03ef41e0dcf214ac53ef\",\"2022-07-25T18:01:42.475819\",\"<br>  /lr: 0.004121<br>  /num_filters: 4\"],[\"7f99879c108d68f8e9add9fcdd252a20\",\"2022-07-25T18:09:15.866322\",\"<br>  /lr: 0.0464<br>  /num_filters: 8\"],[\"f3999715dc5170944158d97497706671\",\"2022-07-25T18:17:10.786554\",\"<br>  /lr: 8.159E-05<br>  /num_filters: 8\"],[\"e0c2615441e21d518f8792c72585028c\",\"2022-07-25T18:25:35.552389\",\"<br>  /lr: 0.0001719<br>  /num_filters: 2\"]],\"hovertemplate\":\"<b>ID: %{customdata[0]}</b><br>value: %{y}<br>time: %{customdata[1]|%Y-%m-%d %H:%M:%S}<br>parameters: %{customdata[2]}<extra></extra>\",\"marker\":{\"color\":\"black\",\"line\":{\"color\":\"Grey\",\"width\":0.5},\"size\":5},\"mode\":\"markers\",\"opacity\":0.5,\"showlegend\":false,\"x\":[4.301e-05,0.02116,0.005657,2.814e-05,0.005024,1.099e-05,0.7815,0.005309,0.0001723,0.3496,0.5985,5.096e-05,1.608e-05,7.797e-05,0.02306,0.004133,0.001729,0.5666,0.1758,0.08176,0.06836,0.9654,0.0002697,7.63e-05,1.901e-05,0.002826,0.004121,0.0464,8.159e-05,0.0001719],\"y\":[-74.81263732910156,-108.33905792236328,-108.33506774902344,-84.13024139404297,-108.45990753173828,-91.21258544921875,-111.97390747070312,-107.91643524169922,-77.8935317993164,-109.75959777832031,-111.09058380126953,-84.24274444580078,-92.1225357055664,-72.17874145507812,-108.31692504882812,-107.44686889648438,-81.09728240966797,-111.29414367675781,-109.35459899902344,-108.93731689453125,-108.75981140136719,-112.1171875,-68.06244659423828,-72.02429962158203,-81.25581359863281,-108.46432495117188,-108.12129974365234,-108.5417251586914,-72.3463363647461,-77.20478820800781],\"type\":\"scatter\",\"xaxis\":\"x\",\"yaxis\":\"y\"},{\"coloraxis\":\"coloraxis\",\"connectgaps\":true,\"contours\":{\"coloring\":\"heatmap\",\"labelfont\":{\"color\":\"white\",\"size\":12},\"showlabels\":true},\"line\":{\"smoothing\":0.85},\"x\":[1e-05,3.594e-05,0.0001292,0.0004642,0.001668,0.005995,0.02154,0.07743,0.2783,1.0],\"y\":[2,4,8],\"z\":[[-90.98995651245119,-81.76074180603027,-77.80766258239746,-77.4640924835205,-91.30187843322751,-108.22170761108397,-108.31484245300291,-108.86033927917481,-109.81116088867189,-111.80681503295898],[-90.5682536315918,-81.7257666015625,-77.80203742980956,-77.46184242248535,-91.31076721191407,-108.229766998291,-108.3510004425049,-108.98582725524902,-109.96141830444334,-111.88625381469724],[-87.63407867431643,-76.98093620300291,-73.05952018737793,-70.31656951904296,-85.5724878692627,-108.40571083068849,-108.49143455505369,-108.98830352783202,-109.96019355773926,-111.827592086792]],\"type\":\"contour\",\"xaxis\":\"x3\",\"yaxis\":\"y3\"},{\"customdata\":[[\"b674caa51e0fef56ea9b212d6062e632\",\"2022-07-25T15:45:05.702704\",\"<br>  /lr: 4.301E-05<br>  /num_filters: 8\"],[\"c819db7c59e48ba36e3f465b9adaac6a\",\"2022-07-25T15:48:37.503147\",\"<br>  /lr: 0.02116<br>  /num_filters: 4\"],[\"16bb080df30a8e7331cb0ff09690bcf8\",\"2022-07-25T15:51:59.970431\",\"<br>  /lr: 0.005657<br>  /num_filters: 2\"],[\"fff62843681057422fd17ab2a5b6f428\",\"2022-07-25T15:55:27.984449\",\"<br>  /lr: 2.814E-05<br>  /num_filters: 4\"],[\"c186dd9891ccf6df0d66786891e3429f\",\"2022-07-25T15:59:09.289305\",\"<br>  /lr: 0.005024<br>  /num_filters: 8\"],[\"0eded8b512bb165ba8e18d41ba6300ff\",\"2022-07-25T16:03:07.225669\",\"<br>  /lr: 1.099E-05<br>  /num_filters: 4\"],[\"5c42721a18b30565424e0185a2cf6dcf\",\"2022-07-25T16:07:15.410520\",\"<br>  /lr: 0.7815<br>  /num_filters: 4\"],[\"61018f4fbb6ef2094c842dc7c9461797\",\"2022-07-25T16:11:32.994393\",\"<br>  /lr: 0.005309<br>  /num_filters: 2\"],[\"393de3640bafb09a9e95d6e3eb63db6f\",\"2022-07-25T16:15:54.594996\",\"<br>  /lr: 0.0001723<br>  /num_filters: 2\"],[\"16b05f786a837a9fbe3e81e6daa3d073\",\"2022-07-25T16:20:17.286969\",\"<br>  /lr: 0.3496<br>  /num_filters: 4\"],[\"a53ff7ab8492bd55901c45849a90cee7\",\"2022-07-25T16:24:50.958850\",\"<br>  /lr: 0.5985<br>  /num_filters: 8\"],[\"138cc4d8dc02e567082533ebdb5d00bc\",\"2022-07-25T16:30:01.087086\",\"<br>  /lr: 5.096E-05<br>  /num_filters: 2\"],[\"352c54b03dd2150c3760f585d3c5beb6\",\"2022-07-25T16:35:00.722032\",\"<br>  /lr: 1.608E-05<br>  /num_filters: 2\"],[\"fa727c2710870384e44ea12361b47a99\",\"2022-07-25T16:40:00.615824\",\"<br>  /lr: 7.797E-05<br>  /num_filters: 8\"],[\"f6dba64644b8933e8d6838a7693f836d\",\"2022-07-25T16:45:38.308488\",\"<br>  /lr: 0.02306<br>  /num_filters: 4\"],[\"1c17125c0009779f01c36a9fb1bc1461\",\"2022-07-25T16:51:12.949739\",\"<br>  /lr: 0.004133<br>  /num_filters: 4\"],[\"b2a2a11661b0f1a2a014034640e3b4a8\",\"2022-07-25T16:56:55.538512\",\"<br>  /lr: 0.001729<br>  /num_filters: 2\"],[\"4420a0179a6bb7851739a796aa765c95\",\"2022-07-25T17:02:42.657422\",\"<br>  /lr: 0.5666<br>  /num_filters: 2\"],[\"cf110fe0a4df5713d0dd4ab35c02d6bc\",\"2022-07-25T17:08:31.019694\",\"<br>  /lr: 0.1758<br>  /num_filters: 4\"],[\"dd880aa6a9c22ad69ed39b432a073a3e\",\"2022-07-25T17:14:31.816120\",\"<br>  /lr: 0.08176<br>  /num_filters: 2\"],[\"f3ec4df34faf4a9a2c2d046efe3bb9e9\",\"2022-07-25T17:20:35.366754\",\"<br>  /lr: 0.06836<br>  /num_filters: 2\"],[\"ad1c16261d371ea131353ff7839e4237\",\"2022-07-25T17:26:44.834001\",\"<br>  /lr: 0.9654<br>  /num_filters: 4\"],[\"843481dbbc4ad7c54f2765f1bb406d43\",\"2022-07-25T17:33:01.601221\",\"<br>  /lr: 0.0002697<br>  /num_filters: 8\"],[\"b981d775c5fac780e30f806012dbfc88\",\"2022-07-25T17:39:49.175007\",\"<br>  /lr: 7.63E-05<br>  /num_filters: 8\"],[\"5e31efaf2f7703c8db8da56599d96f91\",\"2022-07-25T17:46:51.785701\",\"<br>  /lr: 1.901E-05<br>  /num_filters: 8\"],[\"12a8f24d00341b565a925e224463615c\",\"2022-07-25T17:54:12.734599\",\"<br>  /lr: 0.002826<br>  /num_filters: 8\"],[\"8a33d662e67d03ef41e0dcf214ac53ef\",\"2022-07-25T18:01:42.475819\",\"<br>  /lr: 0.004121<br>  /num_filters: 4\"],[\"7f99879c108d68f8e9add9fcdd252a20\",\"2022-07-25T18:09:15.866322\",\"<br>  /lr: 0.0464<br>  /num_filters: 8\"],[\"f3999715dc5170944158d97497706671\",\"2022-07-25T18:17:10.786554\",\"<br>  /lr: 8.159E-05<br>  /num_filters: 8\"],[\"e0c2615441e21d518f8792c72585028c\",\"2022-07-25T18:25:35.552389\",\"<br>  /lr: 0.0001719<br>  /num_filters: 2\"]],\"hovertemplate\":\"<b>ID: %{customdata[0]}</b><br>value: %{y}<br>time: %{customdata[1]|%Y-%m-%d %H:%M:%S}<br>parameters: %{customdata[2]}<extra></extra>\",\"marker\":{\"color\":\"black\",\"line\":{\"color\":\"Grey\",\"width\":0.5},\"size\":5},\"mode\":\"markers\",\"opacity\":0.5,\"showlegend\":false,\"x\":[4.301e-05,0.02116,0.005657,2.814e-05,0.005024,1.099e-05,0.7815,0.005309,0.0001723,0.3496,0.5985,5.096e-05,1.608e-05,7.797e-05,0.02306,0.004133,0.001729,0.5666,0.1758,0.08176,0.06836,0.9654,0.0002697,7.63e-05,1.901e-05,0.002826,0.004121,0.0464,8.159e-05,0.0001719],\"y\":[8,4,2,4,8,4,4,2,2,4,8,2,2,8,4,4,2,2,4,2,2,4,8,8,8,8,4,8,8,2],\"type\":\"scatter\",\"xaxis\":\"x3\",\"yaxis\":\"y3\"},{\"line\":{\"color\":\"#1F77B4\"},\"mode\":\"lines\",\"showlegend\":false,\"x\":[2,4,8],\"y\":[-95.94126710205079,-95.92417539672851,-93.20881929473877],\"type\":\"scatter\",\"xaxis\":\"x4\",\"yaxis\":\"y4\"},{\"fill\":\"toself\",\"line\":{\"color\":\"#1F77B4\",\"width\":0},\"mode\":\"lines\",\"showlegend\":false,\"x\":[2,4,8,8,4,2],\"y\":[-109.64144097882462,-109.68052274084256,-109.92658995465574,-76.49104863482181,-82.16782805261447,-82.24109322527696],\"type\":\"scatter\",\"xaxis\":\"x4\",\"yaxis\":\"y4\"},{\"customdata\":[[\"b674caa51e0fef56ea9b212d6062e632\",\"2022-07-25T15:45:05.702704\",\"<br>  /lr: 4.301E-05<br>  /num_filters: 8\"],[\"c819db7c59e48ba36e3f465b9adaac6a\",\"2022-07-25T15:48:37.503147\",\"<br>  /lr: 0.02116<br>  /num_filters: 4\"],[\"16bb080df30a8e7331cb0ff09690bcf8\",\"2022-07-25T15:51:59.970431\",\"<br>  /lr: 0.005657<br>  /num_filters: 2\"],[\"fff62843681057422fd17ab2a5b6f428\",\"2022-07-25T15:55:27.984449\",\"<br>  /lr: 2.814E-05<br>  /num_filters: 4\"],[\"c186dd9891ccf6df0d66786891e3429f\",\"2022-07-25T15:59:09.289305\",\"<br>  /lr: 0.005024<br>  /num_filters: 8\"],[\"0eded8b512bb165ba8e18d41ba6300ff\",\"2022-07-25T16:03:07.225669\",\"<br>  /lr: 1.099E-05<br>  /num_filters: 4\"],[\"5c42721a18b30565424e0185a2cf6dcf\",\"2022-07-25T16:07:15.410520\",\"<br>  /lr: 0.7815<br>  /num_filters: 4\"],[\"61018f4fbb6ef2094c842dc7c9461797\",\"2022-07-25T16:11:32.994393\",\"<br>  /lr: 0.005309<br>  /num_filters: 2\"],[\"393de3640bafb09a9e95d6e3eb63db6f\",\"2022-07-25T16:15:54.594996\",\"<br>  /lr: 0.0001723<br>  /num_filters: 2\"],[\"16b05f786a837a9fbe3e81e6daa3d073\",\"2022-07-25T16:20:17.286969\",\"<br>  /lr: 0.3496<br>  /num_filters: 4\"],[\"a53ff7ab8492bd55901c45849a90cee7\",\"2022-07-25T16:24:50.958850\",\"<br>  /lr: 0.5985<br>  /num_filters: 8\"],[\"138cc4d8dc02e567082533ebdb5d00bc\",\"2022-07-25T16:30:01.087086\",\"<br>  /lr: 5.096E-05<br>  /num_filters: 2\"],[\"352c54b03dd2150c3760f585d3c5beb6\",\"2022-07-25T16:35:00.722032\",\"<br>  /lr: 1.608E-05<br>  /num_filters: 2\"],[\"fa727c2710870384e44ea12361b47a99\",\"2022-07-25T16:40:00.615824\",\"<br>  /lr: 7.797E-05<br>  /num_filters: 8\"],[\"f6dba64644b8933e8d6838a7693f836d\",\"2022-07-25T16:45:38.308488\",\"<br>  /lr: 0.02306<br>  /num_filters: 4\"],[\"1c17125c0009779f01c36a9fb1bc1461\",\"2022-07-25T16:51:12.949739\",\"<br>  /lr: 0.004133<br>  /num_filters: 4\"],[\"b2a2a11661b0f1a2a014034640e3b4a8\",\"2022-07-25T16:56:55.538512\",\"<br>  /lr: 0.001729<br>  /num_filters: 2\"],[\"4420a0179a6bb7851739a796aa765c95\",\"2022-07-25T17:02:42.657422\",\"<br>  /lr: 0.5666<br>  /num_filters: 2\"],[\"cf110fe0a4df5713d0dd4ab35c02d6bc\",\"2022-07-25T17:08:31.019694\",\"<br>  /lr: 0.1758<br>  /num_filters: 4\"],[\"dd880aa6a9c22ad69ed39b432a073a3e\",\"2022-07-25T17:14:31.816120\",\"<br>  /lr: 0.08176<br>  /num_filters: 2\"],[\"f3ec4df34faf4a9a2c2d046efe3bb9e9\",\"2022-07-25T17:20:35.366754\",\"<br>  /lr: 0.06836<br>  /num_filters: 2\"],[\"ad1c16261d371ea131353ff7839e4237\",\"2022-07-25T17:26:44.834001\",\"<br>  /lr: 0.9654<br>  /num_filters: 4\"],[\"843481dbbc4ad7c54f2765f1bb406d43\",\"2022-07-25T17:33:01.601221\",\"<br>  /lr: 0.0002697<br>  /num_filters: 8\"],[\"b981d775c5fac780e30f806012dbfc88\",\"2022-07-25T17:39:49.175007\",\"<br>  /lr: 7.63E-05<br>  /num_filters: 8\"],[\"5e31efaf2f7703c8db8da56599d96f91\",\"2022-07-25T17:46:51.785701\",\"<br>  /lr: 1.901E-05<br>  /num_filters: 8\"],[\"12a8f24d00341b565a925e224463615c\",\"2022-07-25T17:54:12.734599\",\"<br>  /lr: 0.002826<br>  /num_filters: 8\"],[\"8a33d662e67d03ef41e0dcf214ac53ef\",\"2022-07-25T18:01:42.475819\",\"<br>  /lr: 0.004121<br>  /num_filters: 4\"],[\"7f99879c108d68f8e9add9fcdd252a20\",\"2022-07-25T18:09:15.866322\",\"<br>  /lr: 0.0464<br>  /num_filters: 8\"],[\"f3999715dc5170944158d97497706671\",\"2022-07-25T18:17:10.786554\",\"<br>  /lr: 8.159E-05<br>  /num_filters: 8\"],[\"e0c2615441e21d518f8792c72585028c\",\"2022-07-25T18:25:35.552389\",\"<br>  /lr: 0.0001719<br>  /num_filters: 2\"]],\"hovertemplate\":\"<b>ID: %{customdata[0]}</b><br>value: %{y}<br>time: %{customdata[1]|%Y-%m-%d %H:%M:%S}<br>parameters: %{customdata[2]}<extra></extra>\",\"marker\":{\"color\":\"black\",\"line\":{\"color\":\"Grey\",\"width\":0.5},\"size\":5},\"mode\":\"markers\",\"opacity\":0.5,\"showlegend\":false,\"x\":[8,4,2,4,8,4,4,2,2,4,8,2,2,8,4,4,2,2,4,2,2,4,8,8,8,8,4,8,8,2],\"y\":[-74.81263732910156,-108.33905792236328,-108.33506774902344,-84.13024139404297,-108.45990753173828,-91.21258544921875,-111.97390747070312,-107.91643524169922,-77.8935317993164,-109.75959777832031,-111.09058380126953,-84.24274444580078,-92.1225357055664,-72.17874145507812,-108.31692504882812,-107.44686889648438,-81.09728240966797,-111.29414367675781,-109.35459899902344,-108.93731689453125,-108.75981140136719,-112.1171875,-68.06244659423828,-72.02429962158203,-81.25581359863281,-108.46432495117188,-108.12129974365234,-108.5417251586914,-72.3463363647461,-77.20478820800781],\"type\":\"scatter\",\"xaxis\":\"x4\",\"yaxis\":\"y4\"}],                        {\"template\":{\"data\":{\"histogram2dcontour\":[{\"type\":\"histogram2dcontour\",\"colorbar\":{\"outlinewidth\":0,\"ticks\":\"\"},\"colorscale\":[[0.0,\"#0d0887\"],[0.1111111111111111,\"#46039f\"],[0.2222222222222222,\"#7201a8\"],[0.3333333333333333,\"#9c179e\"],[0.4444444444444444,\"#bd3786\"],[0.5555555555555556,\"#d8576b\"],[0.6666666666666666,\"#ed7953\"],[0.7777777777777778,\"#fb9f3a\"],[0.8888888888888888,\"#fdca26\"],[1.0,\"#f0f921\"]]}],\"choropleth\":[{\"type\":\"choropleth\",\"colorbar\":{\"outlinewidth\":0,\"ticks\":\"\"}}],\"histogram2d\":[{\"type\":\"histogram2d\",\"colorbar\":{\"outlinewidth\":0,\"ticks\":\"\"},\"colorscale\":[[0.0,\"#0d0887\"],[0.1111111111111111,\"#46039f\"],[0.2222222222222222,\"#7201a8\"],[0.3333333333333333,\"#9c179e\"],[0.4444444444444444,\"#bd3786\"],[0.5555555555555556,\"#d8576b\"],[0.6666666666666666,\"#ed7953\"],[0.7777777777777778,\"#fb9f3a\"],[0.8888888888888888,\"#fdca26\"],[1.0,\"#f0f921\"]]}],\"heatmap\":[{\"type\":\"heatmap\",\"colorbar\":{\"outlinewidth\":0,\"ticks\":\"\"},\"colorscale\":[[0.0,\"#0d0887\"],[0.1111111111111111,\"#46039f\"],[0.2222222222222222,\"#7201a8\"],[0.3333333333333333,\"#9c179e\"],[0.4444444444444444,\"#bd3786\"],[0.5555555555555556,\"#d8576b\"],[0.6666666666666666,\"#ed7953\"],[0.7777777777777778,\"#fb9f3a\"],[0.8888888888888888,\"#fdca26\"],[1.0,\"#f0f921\"]]}],\"heatmapgl\":[{\"type\":\"heatmapgl\",\"colorbar\":{\"outlinewidth\":0,\"ticks\":\"\"},\"colorscale\":[[0.0,\"#0d0887\"],[0.1111111111111111,\"#46039f\"],[0.2222222222222222,\"#7201a8\"],[0.3333333333333333,\"#9c179e\"],[0.4444444444444444,\"#bd3786\"],[0.5555555555555556,\"#d8576b\"],[0.6666666666666666,\"#ed7953\"],[0.7777777777777778,\"#fb9f3a\"],[0.8888888888888888,\"#fdca26\"],[1.0,\"#f0f921\"]]}],\"contourcarpet\":[{\"type\":\"contourcarpet\",\"colorbar\":{\"outlinewidth\":0,\"ticks\":\"\"}}],\"contour\":[{\"type\":\"contour\",\"colorbar\":{\"outlinewidth\":0,\"ticks\":\"\"},\"colorscale\":[[0.0,\"#0d0887\"],[0.1111111111111111,\"#46039f\"],[0.2222222222222222,\"#7201a8\"],[0.3333333333333333,\"#9c179e\"],[0.4444444444444444,\"#bd3786\"],[0.5555555555555556,\"#d8576b\"],[0.6666666666666666,\"#ed7953\"],[0.7777777777777778,\"#fb9f3a\"],[0.8888888888888888,\"#fdca26\"],[1.0,\"#f0f921\"]]}],\"surface\":[{\"type\":\"surface\",\"colorbar\":{\"outlinewidth\":0,\"ticks\":\"\"},\"colorscale\":[[0.0,\"#0d0887\"],[0.1111111111111111,\"#46039f\"],[0.2222222222222222,\"#7201a8\"],[0.3333333333333333,\"#9c179e\"],[0.4444444444444444,\"#bd3786\"],[0.5555555555555556,\"#d8576b\"],[0.6666666666666666,\"#ed7953\"],[0.7777777777777778,\"#fb9f3a\"],[0.8888888888888888,\"#fdca26\"],[1.0,\"#f0f921\"]]}],\"mesh3d\":[{\"type\":\"mesh3d\",\"colorbar\":{\"outlinewidth\":0,\"ticks\":\"\"}}],\"scatter\":[{\"fillpattern\":{\"fillmode\":\"overlay\",\"size\":10,\"solidity\":0.2},\"type\":\"scatter\"}],\"parcoords\":[{\"type\":\"parcoords\",\"line\":{\"colorbar\":{\"outlinewidth\":0,\"ticks\":\"\"}}}],\"scatterpolargl\":[{\"type\":\"scatterpolargl\",\"marker\":{\"colorbar\":{\"outlinewidth\":0,\"ticks\":\"\"}}}],\"bar\":[{\"error_x\":{\"color\":\"#2a3f5f\"},\"error_y\":{\"color\":\"#2a3f5f\"},\"marker\":{\"line\":{\"color\":\"#E5ECF6\",\"width\":0.5},\"pattern\":{\"fillmode\":\"overlay\",\"size\":10,\"solidity\":0.2}},\"type\":\"bar\"}],\"scattergeo\":[{\"type\":\"scattergeo\",\"marker\":{\"colorbar\":{\"outlinewidth\":0,\"ticks\":\"\"}}}],\"scatterpolar\":[{\"type\":\"scatterpolar\",\"marker\":{\"colorbar\":{\"outlinewidth\":0,\"ticks\":\"\"}}}],\"histogram\":[{\"marker\":{\"pattern\":{\"fillmode\":\"overlay\",\"size\":10,\"solidity\":0.2}},\"type\":\"histogram\"}],\"scattergl\":[{\"type\":\"scattergl\",\"marker\":{\"colorbar\":{\"outlinewidth\":0,\"ticks\":\"\"}}}],\"scatter3d\":[{\"type\":\"scatter3d\",\"line\":{\"colorbar\":{\"outlinewidth\":0,\"ticks\":\"\"}},\"marker\":{\"colorbar\":{\"outlinewidth\":0,\"ticks\":\"\"}}}],\"scattermapbox\":[{\"type\":\"scattermapbox\",\"marker\":{\"colorbar\":{\"outlinewidth\":0,\"ticks\":\"\"}}}],\"scatterternary\":[{\"type\":\"scatterternary\",\"marker\":{\"colorbar\":{\"outlinewidth\":0,\"ticks\":\"\"}}}],\"scattercarpet\":[{\"type\":\"scattercarpet\",\"marker\":{\"colorbar\":{\"outlinewidth\":0,\"ticks\":\"\"}}}],\"carpet\":[{\"aaxis\":{\"endlinecolor\":\"#2a3f5f\",\"gridcolor\":\"white\",\"linecolor\":\"white\",\"minorgridcolor\":\"white\",\"startlinecolor\":\"#2a3f5f\"},\"baxis\":{\"endlinecolor\":\"#2a3f5f\",\"gridcolor\":\"white\",\"linecolor\":\"white\",\"minorgridcolor\":\"white\",\"startlinecolor\":\"#2a3f5f\"},\"type\":\"carpet\"}],\"table\":[{\"cells\":{\"fill\":{\"color\":\"#EBF0F8\"},\"line\":{\"color\":\"white\"}},\"header\":{\"fill\":{\"color\":\"#C8D4E3\"},\"line\":{\"color\":\"white\"}},\"type\":\"table\"}],\"barpolar\":[{\"marker\":{\"line\":{\"color\":\"#E5ECF6\",\"width\":0.5},\"pattern\":{\"fillmode\":\"overlay\",\"size\":10,\"solidity\":0.2}},\"type\":\"barpolar\"}],\"pie\":[{\"automargin\":true,\"type\":\"pie\"}]},\"layout\":{\"autotypenumbers\":\"strict\",\"colorway\":[\"#636efa\",\"#EF553B\",\"#00cc96\",\"#ab63fa\",\"#FFA15A\",\"#19d3f3\",\"#FF6692\",\"#B6E880\",\"#FF97FF\",\"#FECB52\"],\"font\":{\"color\":\"#2a3f5f\"},\"hovermode\":\"closest\",\"hoverlabel\":{\"align\":\"left\"},\"paper_bgcolor\":\"white\",\"plot_bgcolor\":\"#E5ECF6\",\"polar\":{\"bgcolor\":\"#E5ECF6\",\"angularaxis\":{\"gridcolor\":\"white\",\"linecolor\":\"white\",\"ticks\":\"\"},\"radialaxis\":{\"gridcolor\":\"white\",\"linecolor\":\"white\",\"ticks\":\"\"}},\"ternary\":{\"bgcolor\":\"#E5ECF6\",\"aaxis\":{\"gridcolor\":\"white\",\"linecolor\":\"white\",\"ticks\":\"\"},\"baxis\":{\"gridcolor\":\"white\",\"linecolor\":\"white\",\"ticks\":\"\"},\"caxis\":{\"gridcolor\":\"white\",\"linecolor\":\"white\",\"ticks\":\"\"}},\"coloraxis\":{\"colorbar\":{\"outlinewidth\":0,\"ticks\":\"\"}},\"colorscale\":{\"sequential\":[[0.0,\"#0d0887\"],[0.1111111111111111,\"#46039f\"],[0.2222222222222222,\"#7201a8\"],[0.3333333333333333,\"#9c179e\"],[0.4444444444444444,\"#bd3786\"],[0.5555555555555556,\"#d8576b\"],[0.6666666666666666,\"#ed7953\"],[0.7777777777777778,\"#fb9f3a\"],[0.8888888888888888,\"#fdca26\"],[1.0,\"#f0f921\"]],\"sequentialminus\":[[0.0,\"#0d0887\"],[0.1111111111111111,\"#46039f\"],[0.2222222222222222,\"#7201a8\"],[0.3333333333333333,\"#9c179e\"],[0.4444444444444444,\"#bd3786\"],[0.5555555555555556,\"#d8576b\"],[0.6666666666666666,\"#ed7953\"],[0.7777777777777778,\"#fb9f3a\"],[0.8888888888888888,\"#fdca26\"],[1.0,\"#f0f921\"]],\"diverging\":[[0,\"#8e0152\"],[0.1,\"#c51b7d\"],[0.2,\"#de77ae\"],[0.3,\"#f1b6da\"],[0.4,\"#fde0ef\"],[0.5,\"#f7f7f7\"],[0.6,\"#e6f5d0\"],[0.7,\"#b8e186\"],[0.8,\"#7fbc41\"],[0.9,\"#4d9221\"],[1,\"#276419\"]]},\"xaxis\":{\"gridcolor\":\"white\",\"linecolor\":\"white\",\"ticks\":\"\",\"title\":{\"standoff\":15},\"zerolinecolor\":\"white\",\"automargin\":true,\"zerolinewidth\":2},\"yaxis\":{\"gridcolor\":\"white\",\"linecolor\":\"white\",\"ticks\":\"\",\"title\":{\"standoff\":15},\"zerolinecolor\":\"white\",\"automargin\":true,\"zerolinewidth\":2},\"scene\":{\"xaxis\":{\"backgroundcolor\":\"#E5ECF6\",\"gridcolor\":\"white\",\"linecolor\":\"white\",\"showbackground\":true,\"ticks\":\"\",\"zerolinecolor\":\"white\",\"gridwidth\":2},\"yaxis\":{\"backgroundcolor\":\"#E5ECF6\",\"gridcolor\":\"white\",\"linecolor\":\"white\",\"showbackground\":true,\"ticks\":\"\",\"zerolinecolor\":\"white\",\"gridwidth\":2},\"zaxis\":{\"backgroundcolor\":\"#E5ECF6\",\"gridcolor\":\"white\",\"linecolor\":\"white\",\"showbackground\":true,\"ticks\":\"\",\"zerolinecolor\":\"white\",\"gridwidth\":2}},\"shapedefaults\":{\"line\":{\"color\":\"#2a3f5f\"}},\"annotationdefaults\":{\"arrowcolor\":\"#2a3f5f\",\"arrowhead\":0,\"arrowwidth\":1},\"geo\":{\"bgcolor\":\"white\",\"landcolor\":\"#E5ECF6\",\"subunitcolor\":\"white\",\"showland\":true,\"showlakes\":true,\"lakecolor\":\"white\"},\"title\":{\"x\":0.05},\"mapbox\":{\"style\":\"light\"}}},\"xaxis\":{\"anchor\":\"y\",\"domain\":[0.0,0.45],\"matches\":\"x3\",\"showticklabels\":false,\"type\":\"log\"},\"yaxis\":{\"anchor\":\"x\",\"domain\":[0.575,1.0],\"title\":{\"text\":\"Objective\"},\"range\":[-111.88625381469724,-70.31656951904296]},\"xaxis2\":{\"anchor\":\"y2\",\"domain\":[0.55,1.0],\"matches\":\"x4\",\"showticklabels\":false},\"yaxis2\":{\"anchor\":\"x2\",\"domain\":[0.575,1.0]},\"xaxis3\":{\"anchor\":\"y3\",\"domain\":[0.0,0.45],\"title\":{\"text\":\"/lr\"},\"type\":\"log\"},\"yaxis3\":{\"anchor\":\"x3\",\"domain\":[0.0,0.425],\"title\":{\"text\":\"/num_filters\"}},\"xaxis4\":{\"anchor\":\"y4\",\"domain\":[0.55,1.0],\"title\":{\"text\":\"/num_filters\"}},\"yaxis4\":{\"anchor\":\"x4\",\"domain\":[0.0,0.425],\"range\":[-111.88625381469724,-70.31656951904296]},\"paper_bgcolor\":\"rgba(0,0,0,0)\",\"plot_bgcolor\":\"rgba(0,0,0,0)\",\"title\":{\"text\":\"Partial dependencies for experiment 'exp_classic_cnn_orion'\"},\"coloraxis\":{\"colorbar\":{\"title\":{\"text\":\"Objective\"}},\"colorscale\":[[0.0,\"rgb(247,251,255)\"],[0.125,\"rgb(222,235,247)\"],[0.25,\"rgb(198,219,239)\"],[0.375,\"rgb(158,202,225)\"],[0.5,\"rgb(107,174,214)\"],[0.625,\"rgb(66,146,198)\"],[0.75,\"rgb(33,113,181)\"],[0.875,\"rgb(8,81,156)\"],[1.0,\"rgb(8,48,107)\"]]},\"showlegend\":false},                        {\"responsive\": true}                    ).then(function(){\n",
       "                            \n",
       "var gd = document.getElementById('665dc626-6176-4d4c-a6fd-a603ec5fa2c4');\n",
       "var x = new MutationObserver(function (mutations, observer) {{\n",
       "        var display = window.getComputedStyle(gd).display;\n",
       "        if (!display || display === 'none') {{\n",
       "            console.log([gd, 'removed!']);\n",
       "            Plotly.purge(gd);\n",
       "            observer.disconnect();\n",
       "        }}\n",
       "}});\n",
       "\n",
       "// Listen for the removal of the full notebook cells\n",
       "var notebookContainer = gd.closest('#notebook-container');\n",
       "if (notebookContainer) {{\n",
       "    x.observe(notebookContainer, {childList: true});\n",
       "}}\n",
       "\n",
       "// Listen for the clearing of the current output cell\n",
       "var outputEl = gd.closest('.output');\n",
       "if (outputEl) {{\n",
       "    x.observe(outputEl, {childList: true});\n",
       "}}\n",
       "\n",
       "                        })                };                });            </script>        </div>"
      ]
     },
     "metadata": {},
     "output_type": "display_data"
    }
   ],
   "source": [
    "fig = experiment.plot.partial_dependencies()\n",
    "fig"
   ]
  }
 ],
 "metadata": {
  "kernelspec": {
   "display_name": "Python 3.8.13 64-bit ('simulation_venv')",
   "language": "python",
   "name": "python3"
  },
  "language_info": {
   "codemirror_mode": {
    "name": "ipython",
    "version": 3
   },
   "file_extension": ".py",
   "mimetype": "text/x-python",
   "name": "python",
   "nbconvert_exporter": "python",
   "pygments_lexer": "ipython3",
   "version": "3.8.13"
  },
  "orig_nbformat": 4,
  "vscode": {
   "interpreter": {
    "hash": "f7820d0c3e336b25721225174b0ba29c6d8a42a76b4d9dccbb128c7cc18acd10"
   }
  }
 },
 "nbformat": 4,
 "nbformat_minor": 2
}
