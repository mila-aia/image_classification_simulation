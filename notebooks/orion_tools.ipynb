{
 "cells": [
  {
   "cell_type": "code",
   "execution_count": null,
   "metadata": {},
   "outputs": [],
   "source": [
    "from orion.client import get_experiment\n",
    "storage = dict(type=\"legacy\", database=dict(type=\"pickleddb\", host=\"./examples/slurm_orion/orion_db.pkl\"))\n",
    "experiment = get_experiment(\"exp_classic_cnn_orion\", storage=storage)"
   ]
  },
  {
   "cell_type": "code",
   "execution_count": null,
   "metadata": {},
   "outputs": [],
   "source": [
    "# Regret plot\n",
    "fig = experiment.plot.regret()\n",
    "fig"
   ]
  },
  {
   "cell_type": "code",
   "execution_count": null,
   "metadata": {},
   "outputs": [],
   "source": [
    "# Parallel coordinates plot\n",
    "fig = experiment.plot.parallel_coordinates()\n",
    "fig"
   ]
  },
  {
   "cell_type": "code",
   "execution_count": null,
   "metadata": {},
   "outputs": [],
   "source": [
    "# local parameter importance plot\n",
    "fig = experiment.plot.lpi()\n",
    "fig"
   ]
  },
  {
   "cell_type": "code",
   "execution_count": null,
   "metadata": {},
   "outputs": [],
   "source": [
    "# Partial dependencies plot\n",
    "fig = experiment.plot.partial_dependencies()\n",
    "fig"
   ]
  }
 ],
 "metadata": {
  "kernelspec": {
   "display_name": "Python 3.8.13 64-bit ('simulation_venv')",
   "language": "python",
   "name": "python3"
  },
  "language_info": {
   "codemirror_mode": {
    "name": "ipython",
    "version": 3
   },
   "file_extension": ".py",
   "mimetype": "text/x-python",
   "name": "python",
   "nbconvert_exporter": "python",
   "pygments_lexer": "ipython3",
   "version": "3.8.13"
  },
  "orig_nbformat": 4,
  "vscode": {
   "interpreter": {
    "hash": "f7820d0c3e336b25721225174b0ba29c6d8a42a76b4d9dccbb128c7cc18acd10"
   }
  }
 },
 "nbformat": 4,
 "nbformat_minor": 2
}
