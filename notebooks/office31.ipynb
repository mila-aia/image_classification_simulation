{
 "cells": [
  {
   "cell_type": "code",
   "execution_count": 32,
   "metadata": {},
   "outputs": [],
   "source": [
    "import typing\n",
    "\n",
    "# import wget\n",
    "from torchvision import transforms\n",
    "from torchvision.datasets import ImageFolder\n",
    "from image_classification_simulation.data.data_loader import MyDataModule\n",
    "from torch.utils.data import DataLoader\n",
    "\n",
    "class Office31Loader(MyDataModule):  # pragma: no cover\n",
    "    \"\"\"Data module class that prepares dataset parsers and instantiates data loaders.\n",
    "    Parameters\n",
    "    ----------\n",
    "    MyDataModule : DataModule class\n",
    "        Template DataModule class\n",
    "    \"\"\"\n",
    "    # We are going to use the amazon data (most similar to a catalog of online products)\n",
    "\n",
    "    def __init__(\n",
    "        self,\n",
    "        data_dir: typing.AnyStr,\n",
    "        hyper_params: typing.Dict[typing.AnyStr, typing.Any],\n",
    "    ):\n",
    "        \"\"\"Validates the hyperparameter config dictionary and sets up internal attributes.\n",
    "        Parameters\n",
    "        ----------\n",
    "        data_dir : string\n",
    "            Directory path that the data will be downloaded and stored\n",
    "        hyper_params : dictionary\n",
    "            Hyperparameters relevant to the dataloader module.\n",
    "        \"\"\"\n",
    "        super().__init__(data_dir, hyper_params)\n",
    "        self.num_unique_labels = 31\n",
    "\n",
    "        if \"num_workers\" in hyper_params:\n",
    "            self.num_workers = hyper_params[\"num_workers\"]\n",
    "        else:\n",
    "            self.num_workers = 1\n",
    "            print(\"Number of workers set to:\", self.num_workers)\n",
    "\n",
    "        if \"image_size\" in hyper_params:\n",
    "            self.image_size = hyper_params[\"image_size\"]\n",
    "        else:\n",
    "            self.image_size = 300\n",
    "            print(\"image size set to:\", self.image_size)\n",
    "\n",
    "        self.train_set_transformation = transforms.Compose(\n",
    "            [\n",
    "                transforms.RandomHorizontalFlip(),\n",
    "                transforms.ToTensor(),\n",
    "            ]\n",
    "        )\n",
    "\n",
    "        self.test_set_transformation = transforms.Compose(\n",
    "            [\n",
    "                transforms.ToTensor(),\n",
    "            ]\n",
    "        )\n",
    "\n",
    "    def setup(self, stage: str = None):\n",
    "        \"\"\"Parses and splits all samples across the train/valid/test parsers.\n",
    "        Parameters\n",
    "        ----------\n",
    "        stage : string, optional\n",
    "            Stage of training (training, validation, testing), by default None\n",
    "        \"\"\"\n",
    "\n",
    "        # here, we will actually assign train/val datasets for use in dataloaders\n",
    "        if stage == \"fit\" or stage is None:\n",
    "\n",
    "            self.train_set = ImageFolder(\n",
    "                root=self.data_dir, transform=self.train_set_transformation\n",
    "            )\n",
    "\n",
    "            self.val_set = ImageFolder(\n",
    "                root=self.data_dir, transform=self.train_set_transformation\n",
    "            )\n",
    "\n",
    "        if stage == \"test\" or stage is None:\n",
    "\n",
    "            self.test_set = ImageFolder(\n",
    "                root=self.data_dir, transform=self.test_set_transformation\n",
    "            )\n",
    "\n",
    "    def train_dataloader(self) -> DataLoader:\n",
    "        \"\"\"Creates the training dataloader using the training data parser.\n",
    "        Returns\n",
    "        -------\n",
    "        DataLoader\n",
    "            returns a pytorch DataLoader class\n",
    "        \"\"\"\n",
    "        return DataLoader(\n",
    "            self.train_set,\n",
    "            batch_size=self.batch_size,\n",
    "            batch_sampler=None,\n",
    "            num_workers=self.num_workers,\n",
    "            pin_memory=True,\n",
    "            collate_fn=None,\n",
    "        )\n",
    "\n",
    "    def val_dataloader(self) -> DataLoader:\n",
    "        \"\"\"Creates the validation dataloader using the validation data parser.\n",
    "        Returns\n",
    "        -------\n",
    "        DataLoader\n",
    "            returns a pytorch DataLoader class\n",
    "        \"\"\"\n",
    "        return DataLoader(\n",
    "            self.val_set,\n",
    "            batch_size=self.batch_size,\n",
    "            batch_sampler=None,\n",
    "            num_workers=self.num_workers,\n",
    "            pin_memory=True,\n",
    "            collate_fn=None,\n",
    "        )\n",
    "\n",
    "    def test_dataloader(self) -> DataLoader:\n",
    "        \"\"\"Creates the testing dataloader using the testing data parser.\n",
    "        Returns\n",
    "        -------\n",
    "        DataLoader\n",
    "            returns a pytorch DataLoader class\n",
    "        \"\"\"\n",
    "        return DataLoader(\n",
    "            self.test_set,\n",
    "            batch_size=self.batch_size,\n",
    "            batch_sampler=None,\n",
    "            num_workers=self.num_workers,\n",
    "            pin_memory=True,\n",
    "            collate_fn=None,\n",
    "        )\n",
    "\n",
    "\n"
   ]
  },
  {
   "cell_type": "code",
   "execution_count": 37,
   "metadata": {},
   "outputs": [
    {
     "name": "stdout",
     "output_type": "stream",
     "text": [
      "Number of workers set to: 1\n"
     ]
    }
   ],
   "source": [
    "args_dict = {\"batch_size\": 32, \"image_size\": 300}\n",
    "office31_loader = Office31Loader(\"./data/domain_adaptation_images/amazon/images/\", args_dict)\n",
    "office31_loader.setup(stage=\"fit\")"
   ]
  },
  {
   "cell_type": "code",
   "execution_count": null,
   "metadata": {},
   "outputs": [],
   "source": []
  },
  {
   "cell_type": "code",
   "execution_count": null,
   "metadata": {},
   "outputs": [],
   "source": []
  },
  {
   "cell_type": "code",
   "execution_count": null,
   "metadata": {},
   "outputs": [],
   "source": []
  },
  {
   "cell_type": "code",
   "execution_count": 36,
   "metadata": {},
   "outputs": [
    {
     "ename": "TypeError",
     "evalue": "Invalid shape (3, 300, 300) for image data",
     "output_type": "error",
     "traceback": [
      "\u001b[0;31m---------------------------------------------------------------------------\u001b[0m",
      "\u001b[0;31mTypeError\u001b[0m                                 Traceback (most recent call last)",
      "\u001b[1;32m/Users/aldozaimi/Documents/image_classification_simulation/notebooks/office31.ipynb Cell 3'\u001b[0m in \u001b[0;36m<cell line: 1>\u001b[0;34m()\u001b[0m\n\u001b[0;32m----> <a href='vscode-notebook-cell:/Users/aldozaimi/Documents/image_classification_simulation/notebooks/office31.ipynb#ch0000049?line=0'>1</a>\u001b[0m plt\u001b[39m.\u001b[39;49mimshow(office31_loader\u001b[39m.\u001b[39;49mtrain_set[\u001b[39m0\u001b[39;49m][\u001b[39m0\u001b[39;49m])\n\u001b[1;32m      <a href='vscode-notebook-cell:/Users/aldozaimi/Documents/image_classification_simulation/notebooks/office31.ipynb#ch0000049?line=1'>2</a>\u001b[0m plt\u001b[39m.\u001b[39maxis(\u001b[39m'\u001b[39m\u001b[39moff\u001b[39m\u001b[39m'\u001b[39m)\n\u001b[1;32m      <a href='vscode-notebook-cell:/Users/aldozaimi/Documents/image_classification_simulation/notebooks/office31.ipynb#ch0000049?line=2'>3</a>\u001b[0m plt\u001b[39m.\u001b[39mshow()\n",
      "File \u001b[0;32m/opt/homebrew/Caskroom/miniforge/base/envs/simulation_venv/lib/python3.8/site-packages/matplotlib/_api/deprecation.py:459\u001b[0m, in \u001b[0;36mmake_keyword_only.<locals>.wrapper\u001b[0;34m(*args, **kwargs)\u001b[0m\n\u001b[1;32m    <a href='file:///opt/homebrew/Caskroom/miniforge/base/envs/simulation_venv/lib/python3.8/site-packages/matplotlib/_api/deprecation.py?line=452'>453</a>\u001b[0m \u001b[39mif\u001b[39;00m \u001b[39mlen\u001b[39m(args) \u001b[39m>\u001b[39m name_idx:\n\u001b[1;32m    <a href='file:///opt/homebrew/Caskroom/miniforge/base/envs/simulation_venv/lib/python3.8/site-packages/matplotlib/_api/deprecation.py?line=453'>454</a>\u001b[0m     warn_deprecated(\n\u001b[1;32m    <a href='file:///opt/homebrew/Caskroom/miniforge/base/envs/simulation_venv/lib/python3.8/site-packages/matplotlib/_api/deprecation.py?line=454'>455</a>\u001b[0m         since, message\u001b[39m=\u001b[39m\u001b[39m\"\u001b[39m\u001b[39mPassing the \u001b[39m\u001b[39m%(name)s\u001b[39;00m\u001b[39m \u001b[39m\u001b[39m%(obj_type)s\u001b[39;00m\u001b[39m \u001b[39m\u001b[39m\"\u001b[39m\n\u001b[1;32m    <a href='file:///opt/homebrew/Caskroom/miniforge/base/envs/simulation_venv/lib/python3.8/site-packages/matplotlib/_api/deprecation.py?line=455'>456</a>\u001b[0m         \u001b[39m\"\u001b[39m\u001b[39mpositionally is deprecated since Matplotlib \u001b[39m\u001b[39m%(since)s\u001b[39;00m\u001b[39m; the \u001b[39m\u001b[39m\"\u001b[39m\n\u001b[1;32m    <a href='file:///opt/homebrew/Caskroom/miniforge/base/envs/simulation_venv/lib/python3.8/site-packages/matplotlib/_api/deprecation.py?line=456'>457</a>\u001b[0m         \u001b[39m\"\u001b[39m\u001b[39mparameter will become keyword-only \u001b[39m\u001b[39m%(removal)s\u001b[39;00m\u001b[39m.\u001b[39m\u001b[39m\"\u001b[39m,\n\u001b[1;32m    <a href='file:///opt/homebrew/Caskroom/miniforge/base/envs/simulation_venv/lib/python3.8/site-packages/matplotlib/_api/deprecation.py?line=457'>458</a>\u001b[0m         name\u001b[39m=\u001b[39mname, obj_type\u001b[39m=\u001b[39m\u001b[39mf\u001b[39m\u001b[39m\"\u001b[39m\u001b[39mparameter of \u001b[39m\u001b[39m{\u001b[39;00mfunc\u001b[39m.\u001b[39m\u001b[39m__name__\u001b[39m\u001b[39m}\u001b[39;00m\u001b[39m()\u001b[39m\u001b[39m\"\u001b[39m)\n\u001b[0;32m--> <a href='file:///opt/homebrew/Caskroom/miniforge/base/envs/simulation_venv/lib/python3.8/site-packages/matplotlib/_api/deprecation.py?line=458'>459</a>\u001b[0m \u001b[39mreturn\u001b[39;00m func(\u001b[39m*\u001b[39;49margs, \u001b[39m*\u001b[39;49m\u001b[39m*\u001b[39;49mkwargs)\n",
      "File \u001b[0;32m/opt/homebrew/Caskroom/miniforge/base/envs/simulation_venv/lib/python3.8/site-packages/matplotlib/pyplot.py:2652\u001b[0m, in \u001b[0;36mimshow\u001b[0;34m(X, cmap, norm, aspect, interpolation, alpha, vmin, vmax, origin, extent, interpolation_stage, filternorm, filterrad, resample, url, data, **kwargs)\u001b[0m\n\u001b[1;32m   <a href='file:///opt/homebrew/Caskroom/miniforge/base/envs/simulation_venv/lib/python3.8/site-packages/matplotlib/pyplot.py?line=2645'>2646</a>\u001b[0m \u001b[39m@_copy_docstring_and_deprecators\u001b[39m(Axes\u001b[39m.\u001b[39mimshow)\n\u001b[1;32m   <a href='file:///opt/homebrew/Caskroom/miniforge/base/envs/simulation_venv/lib/python3.8/site-packages/matplotlib/pyplot.py?line=2646'>2647</a>\u001b[0m \u001b[39mdef\u001b[39;00m \u001b[39mimshow\u001b[39m(\n\u001b[1;32m   <a href='file:///opt/homebrew/Caskroom/miniforge/base/envs/simulation_venv/lib/python3.8/site-packages/matplotlib/pyplot.py?line=2647'>2648</a>\u001b[0m         X, cmap\u001b[39m=\u001b[39m\u001b[39mNone\u001b[39;00m, norm\u001b[39m=\u001b[39m\u001b[39mNone\u001b[39;00m, aspect\u001b[39m=\u001b[39m\u001b[39mNone\u001b[39;00m, interpolation\u001b[39m=\u001b[39m\u001b[39mNone\u001b[39;00m,\n\u001b[1;32m   <a href='file:///opt/homebrew/Caskroom/miniforge/base/envs/simulation_venv/lib/python3.8/site-packages/matplotlib/pyplot.py?line=2648'>2649</a>\u001b[0m         alpha\u001b[39m=\u001b[39m\u001b[39mNone\u001b[39;00m, vmin\u001b[39m=\u001b[39m\u001b[39mNone\u001b[39;00m, vmax\u001b[39m=\u001b[39m\u001b[39mNone\u001b[39;00m, origin\u001b[39m=\u001b[39m\u001b[39mNone\u001b[39;00m, extent\u001b[39m=\u001b[39m\u001b[39mNone\u001b[39;00m, \u001b[39m*\u001b[39m,\n\u001b[1;32m   <a href='file:///opt/homebrew/Caskroom/miniforge/base/envs/simulation_venv/lib/python3.8/site-packages/matplotlib/pyplot.py?line=2649'>2650</a>\u001b[0m         interpolation_stage\u001b[39m=\u001b[39m\u001b[39mNone\u001b[39;00m, filternorm\u001b[39m=\u001b[39m\u001b[39mTrue\u001b[39;00m, filterrad\u001b[39m=\u001b[39m\u001b[39m4.0\u001b[39m,\n\u001b[1;32m   <a href='file:///opt/homebrew/Caskroom/miniforge/base/envs/simulation_venv/lib/python3.8/site-packages/matplotlib/pyplot.py?line=2650'>2651</a>\u001b[0m         resample\u001b[39m=\u001b[39m\u001b[39mNone\u001b[39;00m, url\u001b[39m=\u001b[39m\u001b[39mNone\u001b[39;00m, data\u001b[39m=\u001b[39m\u001b[39mNone\u001b[39;00m, \u001b[39m*\u001b[39m\u001b[39m*\u001b[39mkwargs):\n\u001b[0;32m-> <a href='file:///opt/homebrew/Caskroom/miniforge/base/envs/simulation_venv/lib/python3.8/site-packages/matplotlib/pyplot.py?line=2651'>2652</a>\u001b[0m     __ret \u001b[39m=\u001b[39m gca()\u001b[39m.\u001b[39;49mimshow(\n\u001b[1;32m   <a href='file:///opt/homebrew/Caskroom/miniforge/base/envs/simulation_venv/lib/python3.8/site-packages/matplotlib/pyplot.py?line=2652'>2653</a>\u001b[0m         X, cmap\u001b[39m=\u001b[39;49mcmap, norm\u001b[39m=\u001b[39;49mnorm, aspect\u001b[39m=\u001b[39;49maspect,\n\u001b[1;32m   <a href='file:///opt/homebrew/Caskroom/miniforge/base/envs/simulation_venv/lib/python3.8/site-packages/matplotlib/pyplot.py?line=2653'>2654</a>\u001b[0m         interpolation\u001b[39m=\u001b[39;49minterpolation, alpha\u001b[39m=\u001b[39;49malpha, vmin\u001b[39m=\u001b[39;49mvmin,\n\u001b[1;32m   <a href='file:///opt/homebrew/Caskroom/miniforge/base/envs/simulation_venv/lib/python3.8/site-packages/matplotlib/pyplot.py?line=2654'>2655</a>\u001b[0m         vmax\u001b[39m=\u001b[39;49mvmax, origin\u001b[39m=\u001b[39;49morigin, extent\u001b[39m=\u001b[39;49mextent,\n\u001b[1;32m   <a href='file:///opt/homebrew/Caskroom/miniforge/base/envs/simulation_venv/lib/python3.8/site-packages/matplotlib/pyplot.py?line=2655'>2656</a>\u001b[0m         interpolation_stage\u001b[39m=\u001b[39;49minterpolation_stage,\n\u001b[1;32m   <a href='file:///opt/homebrew/Caskroom/miniforge/base/envs/simulation_venv/lib/python3.8/site-packages/matplotlib/pyplot.py?line=2656'>2657</a>\u001b[0m         filternorm\u001b[39m=\u001b[39;49mfilternorm, filterrad\u001b[39m=\u001b[39;49mfilterrad, resample\u001b[39m=\u001b[39;49mresample,\n\u001b[1;32m   <a href='file:///opt/homebrew/Caskroom/miniforge/base/envs/simulation_venv/lib/python3.8/site-packages/matplotlib/pyplot.py?line=2657'>2658</a>\u001b[0m         url\u001b[39m=\u001b[39;49murl, \u001b[39m*\u001b[39;49m\u001b[39m*\u001b[39;49m({\u001b[39m\"\u001b[39;49m\u001b[39mdata\u001b[39;49m\u001b[39m\"\u001b[39;49m: data} \u001b[39mif\u001b[39;49;00m data \u001b[39mis\u001b[39;49;00m \u001b[39mnot\u001b[39;49;00m \u001b[39mNone\u001b[39;49;00m \u001b[39melse\u001b[39;49;00m {}),\n\u001b[1;32m   <a href='file:///opt/homebrew/Caskroom/miniforge/base/envs/simulation_venv/lib/python3.8/site-packages/matplotlib/pyplot.py?line=2658'>2659</a>\u001b[0m         \u001b[39m*\u001b[39;49m\u001b[39m*\u001b[39;49mkwargs)\n\u001b[1;32m   <a href='file:///opt/homebrew/Caskroom/miniforge/base/envs/simulation_venv/lib/python3.8/site-packages/matplotlib/pyplot.py?line=2659'>2660</a>\u001b[0m     sci(__ret)\n\u001b[1;32m   <a href='file:///opt/homebrew/Caskroom/miniforge/base/envs/simulation_venv/lib/python3.8/site-packages/matplotlib/pyplot.py?line=2660'>2661</a>\u001b[0m     \u001b[39mreturn\u001b[39;00m __ret\n",
      "File \u001b[0;32m/opt/homebrew/Caskroom/miniforge/base/envs/simulation_venv/lib/python3.8/site-packages/matplotlib/_api/deprecation.py:459\u001b[0m, in \u001b[0;36mmake_keyword_only.<locals>.wrapper\u001b[0;34m(*args, **kwargs)\u001b[0m\n\u001b[1;32m    <a href='file:///opt/homebrew/Caskroom/miniforge/base/envs/simulation_venv/lib/python3.8/site-packages/matplotlib/_api/deprecation.py?line=452'>453</a>\u001b[0m \u001b[39mif\u001b[39;00m \u001b[39mlen\u001b[39m(args) \u001b[39m>\u001b[39m name_idx:\n\u001b[1;32m    <a href='file:///opt/homebrew/Caskroom/miniforge/base/envs/simulation_venv/lib/python3.8/site-packages/matplotlib/_api/deprecation.py?line=453'>454</a>\u001b[0m     warn_deprecated(\n\u001b[1;32m    <a href='file:///opt/homebrew/Caskroom/miniforge/base/envs/simulation_venv/lib/python3.8/site-packages/matplotlib/_api/deprecation.py?line=454'>455</a>\u001b[0m         since, message\u001b[39m=\u001b[39m\u001b[39m\"\u001b[39m\u001b[39mPassing the \u001b[39m\u001b[39m%(name)s\u001b[39;00m\u001b[39m \u001b[39m\u001b[39m%(obj_type)s\u001b[39;00m\u001b[39m \u001b[39m\u001b[39m\"\u001b[39m\n\u001b[1;32m    <a href='file:///opt/homebrew/Caskroom/miniforge/base/envs/simulation_venv/lib/python3.8/site-packages/matplotlib/_api/deprecation.py?line=455'>456</a>\u001b[0m         \u001b[39m\"\u001b[39m\u001b[39mpositionally is deprecated since Matplotlib \u001b[39m\u001b[39m%(since)s\u001b[39;00m\u001b[39m; the \u001b[39m\u001b[39m\"\u001b[39m\n\u001b[1;32m    <a href='file:///opt/homebrew/Caskroom/miniforge/base/envs/simulation_venv/lib/python3.8/site-packages/matplotlib/_api/deprecation.py?line=456'>457</a>\u001b[0m         \u001b[39m\"\u001b[39m\u001b[39mparameter will become keyword-only \u001b[39m\u001b[39m%(removal)s\u001b[39;00m\u001b[39m.\u001b[39m\u001b[39m\"\u001b[39m,\n\u001b[1;32m    <a href='file:///opt/homebrew/Caskroom/miniforge/base/envs/simulation_venv/lib/python3.8/site-packages/matplotlib/_api/deprecation.py?line=457'>458</a>\u001b[0m         name\u001b[39m=\u001b[39mname, obj_type\u001b[39m=\u001b[39m\u001b[39mf\u001b[39m\u001b[39m\"\u001b[39m\u001b[39mparameter of \u001b[39m\u001b[39m{\u001b[39;00mfunc\u001b[39m.\u001b[39m\u001b[39m__name__\u001b[39m\u001b[39m}\u001b[39;00m\u001b[39m()\u001b[39m\u001b[39m\"\u001b[39m)\n\u001b[0;32m--> <a href='file:///opt/homebrew/Caskroom/miniforge/base/envs/simulation_venv/lib/python3.8/site-packages/matplotlib/_api/deprecation.py?line=458'>459</a>\u001b[0m \u001b[39mreturn\u001b[39;00m func(\u001b[39m*\u001b[39;49margs, \u001b[39m*\u001b[39;49m\u001b[39m*\u001b[39;49mkwargs)\n",
      "File \u001b[0;32m/opt/homebrew/Caskroom/miniforge/base/envs/simulation_venv/lib/python3.8/site-packages/matplotlib/__init__.py:1412\u001b[0m, in \u001b[0;36m_preprocess_data.<locals>.inner\u001b[0;34m(ax, data, *args, **kwargs)\u001b[0m\n\u001b[1;32m   <a href='file:///opt/homebrew/Caskroom/miniforge/base/envs/simulation_venv/lib/python3.8/site-packages/matplotlib/__init__.py?line=1408'>1409</a>\u001b[0m \u001b[39m@functools\u001b[39m\u001b[39m.\u001b[39mwraps(func)\n\u001b[1;32m   <a href='file:///opt/homebrew/Caskroom/miniforge/base/envs/simulation_venv/lib/python3.8/site-packages/matplotlib/__init__.py?line=1409'>1410</a>\u001b[0m \u001b[39mdef\u001b[39;00m \u001b[39minner\u001b[39m(ax, \u001b[39m*\u001b[39margs, data\u001b[39m=\u001b[39m\u001b[39mNone\u001b[39;00m, \u001b[39m*\u001b[39m\u001b[39m*\u001b[39mkwargs):\n\u001b[1;32m   <a href='file:///opt/homebrew/Caskroom/miniforge/base/envs/simulation_venv/lib/python3.8/site-packages/matplotlib/__init__.py?line=1410'>1411</a>\u001b[0m     \u001b[39mif\u001b[39;00m data \u001b[39mis\u001b[39;00m \u001b[39mNone\u001b[39;00m:\n\u001b[0;32m-> <a href='file:///opt/homebrew/Caskroom/miniforge/base/envs/simulation_venv/lib/python3.8/site-packages/matplotlib/__init__.py?line=1411'>1412</a>\u001b[0m         \u001b[39mreturn\u001b[39;00m func(ax, \u001b[39m*\u001b[39;49m\u001b[39mmap\u001b[39;49m(sanitize_sequence, args), \u001b[39m*\u001b[39;49m\u001b[39m*\u001b[39;49mkwargs)\n\u001b[1;32m   <a href='file:///opt/homebrew/Caskroom/miniforge/base/envs/simulation_venv/lib/python3.8/site-packages/matplotlib/__init__.py?line=1413'>1414</a>\u001b[0m     bound \u001b[39m=\u001b[39m new_sig\u001b[39m.\u001b[39mbind(ax, \u001b[39m*\u001b[39margs, \u001b[39m*\u001b[39m\u001b[39m*\u001b[39mkwargs)\n\u001b[1;32m   <a href='file:///opt/homebrew/Caskroom/miniforge/base/envs/simulation_venv/lib/python3.8/site-packages/matplotlib/__init__.py?line=1414'>1415</a>\u001b[0m     auto_label \u001b[39m=\u001b[39m (bound\u001b[39m.\u001b[39marguments\u001b[39m.\u001b[39mget(label_namer)\n\u001b[1;32m   <a href='file:///opt/homebrew/Caskroom/miniforge/base/envs/simulation_venv/lib/python3.8/site-packages/matplotlib/__init__.py?line=1415'>1416</a>\u001b[0m                   \u001b[39mor\u001b[39;00m bound\u001b[39m.\u001b[39mkwargs\u001b[39m.\u001b[39mget(label_namer))\n",
      "File \u001b[0;32m/opt/homebrew/Caskroom/miniforge/base/envs/simulation_venv/lib/python3.8/site-packages/matplotlib/axes/_axes.py:5481\u001b[0m, in \u001b[0;36mAxes.imshow\u001b[0;34m(self, X, cmap, norm, aspect, interpolation, alpha, vmin, vmax, origin, extent, interpolation_stage, filternorm, filterrad, resample, url, **kwargs)\u001b[0m\n\u001b[1;32m   <a href='file:///opt/homebrew/Caskroom/miniforge/base/envs/simulation_venv/lib/python3.8/site-packages/matplotlib/axes/_axes.py?line=5473'>5474</a>\u001b[0m \u001b[39mself\u001b[39m\u001b[39m.\u001b[39mset_aspect(aspect)\n\u001b[1;32m   <a href='file:///opt/homebrew/Caskroom/miniforge/base/envs/simulation_venv/lib/python3.8/site-packages/matplotlib/axes/_axes.py?line=5474'>5475</a>\u001b[0m im \u001b[39m=\u001b[39m mimage\u001b[39m.\u001b[39mAxesImage(\u001b[39mself\u001b[39m, cmap, norm, interpolation,\n\u001b[1;32m   <a href='file:///opt/homebrew/Caskroom/miniforge/base/envs/simulation_venv/lib/python3.8/site-packages/matplotlib/axes/_axes.py?line=5475'>5476</a>\u001b[0m                       origin, extent, filternorm\u001b[39m=\u001b[39mfilternorm,\n\u001b[1;32m   <a href='file:///opt/homebrew/Caskroom/miniforge/base/envs/simulation_venv/lib/python3.8/site-packages/matplotlib/axes/_axes.py?line=5476'>5477</a>\u001b[0m                       filterrad\u001b[39m=\u001b[39mfilterrad, resample\u001b[39m=\u001b[39mresample,\n\u001b[1;32m   <a href='file:///opt/homebrew/Caskroom/miniforge/base/envs/simulation_venv/lib/python3.8/site-packages/matplotlib/axes/_axes.py?line=5477'>5478</a>\u001b[0m                       interpolation_stage\u001b[39m=\u001b[39minterpolation_stage,\n\u001b[1;32m   <a href='file:///opt/homebrew/Caskroom/miniforge/base/envs/simulation_venv/lib/python3.8/site-packages/matplotlib/axes/_axes.py?line=5478'>5479</a>\u001b[0m                       \u001b[39m*\u001b[39m\u001b[39m*\u001b[39mkwargs)\n\u001b[0;32m-> <a href='file:///opt/homebrew/Caskroom/miniforge/base/envs/simulation_venv/lib/python3.8/site-packages/matplotlib/axes/_axes.py?line=5480'>5481</a>\u001b[0m im\u001b[39m.\u001b[39;49mset_data(X)\n\u001b[1;32m   <a href='file:///opt/homebrew/Caskroom/miniforge/base/envs/simulation_venv/lib/python3.8/site-packages/matplotlib/axes/_axes.py?line=5481'>5482</a>\u001b[0m im\u001b[39m.\u001b[39mset_alpha(alpha)\n\u001b[1;32m   <a href='file:///opt/homebrew/Caskroom/miniforge/base/envs/simulation_venv/lib/python3.8/site-packages/matplotlib/axes/_axes.py?line=5482'>5483</a>\u001b[0m \u001b[39mif\u001b[39;00m im\u001b[39m.\u001b[39mget_clip_path() \u001b[39mis\u001b[39;00m \u001b[39mNone\u001b[39;00m:\n\u001b[1;32m   <a href='file:///opt/homebrew/Caskroom/miniforge/base/envs/simulation_venv/lib/python3.8/site-packages/matplotlib/axes/_axes.py?line=5483'>5484</a>\u001b[0m     \u001b[39m# image does not already have clipping set, clip to axes patch\u001b[39;00m\n",
      "File \u001b[0;32m/opt/homebrew/Caskroom/miniforge/base/envs/simulation_venv/lib/python3.8/site-packages/matplotlib/image.py:715\u001b[0m, in \u001b[0;36m_ImageBase.set_data\u001b[0;34m(self, A)\u001b[0m\n\u001b[1;32m    <a href='file:///opt/homebrew/Caskroom/miniforge/base/envs/simulation_venv/lib/python3.8/site-packages/matplotlib/image.py?line=710'>711</a>\u001b[0m     \u001b[39mself\u001b[39m\u001b[39m.\u001b[39m_A \u001b[39m=\u001b[39m \u001b[39mself\u001b[39m\u001b[39m.\u001b[39m_A[:, :, \u001b[39m0\u001b[39m]\n\u001b[1;32m    <a href='file:///opt/homebrew/Caskroom/miniforge/base/envs/simulation_venv/lib/python3.8/site-packages/matplotlib/image.py?line=712'>713</a>\u001b[0m \u001b[39mif\u001b[39;00m \u001b[39mnot\u001b[39;00m (\u001b[39mself\u001b[39m\u001b[39m.\u001b[39m_A\u001b[39m.\u001b[39mndim \u001b[39m==\u001b[39m \u001b[39m2\u001b[39m\n\u001b[1;32m    <a href='file:///opt/homebrew/Caskroom/miniforge/base/envs/simulation_venv/lib/python3.8/site-packages/matplotlib/image.py?line=713'>714</a>\u001b[0m         \u001b[39mor\u001b[39;00m \u001b[39mself\u001b[39m\u001b[39m.\u001b[39m_A\u001b[39m.\u001b[39mndim \u001b[39m==\u001b[39m \u001b[39m3\u001b[39m \u001b[39mand\u001b[39;00m \u001b[39mself\u001b[39m\u001b[39m.\u001b[39m_A\u001b[39m.\u001b[39mshape[\u001b[39m-\u001b[39m\u001b[39m1\u001b[39m] \u001b[39min\u001b[39;00m [\u001b[39m3\u001b[39m, \u001b[39m4\u001b[39m]):\n\u001b[0;32m--> <a href='file:///opt/homebrew/Caskroom/miniforge/base/envs/simulation_venv/lib/python3.8/site-packages/matplotlib/image.py?line=714'>715</a>\u001b[0m     \u001b[39mraise\u001b[39;00m \u001b[39mTypeError\u001b[39;00m(\u001b[39m\"\u001b[39m\u001b[39mInvalid shape \u001b[39m\u001b[39m{}\u001b[39;00m\u001b[39m for image data\u001b[39m\u001b[39m\"\u001b[39m\n\u001b[1;32m    <a href='file:///opt/homebrew/Caskroom/miniforge/base/envs/simulation_venv/lib/python3.8/site-packages/matplotlib/image.py?line=715'>716</a>\u001b[0m                     \u001b[39m.\u001b[39mformat(\u001b[39mself\u001b[39m\u001b[39m.\u001b[39m_A\u001b[39m.\u001b[39mshape))\n\u001b[1;32m    <a href='file:///opt/homebrew/Caskroom/miniforge/base/envs/simulation_venv/lib/python3.8/site-packages/matplotlib/image.py?line=717'>718</a>\u001b[0m \u001b[39mif\u001b[39;00m \u001b[39mself\u001b[39m\u001b[39m.\u001b[39m_A\u001b[39m.\u001b[39mndim \u001b[39m==\u001b[39m \u001b[39m3\u001b[39m:\n\u001b[1;32m    <a href='file:///opt/homebrew/Caskroom/miniforge/base/envs/simulation_venv/lib/python3.8/site-packages/matplotlib/image.py?line=718'>719</a>\u001b[0m     \u001b[39m# If the input data has values outside the valid range (after\u001b[39;00m\n\u001b[1;32m    <a href='file:///opt/homebrew/Caskroom/miniforge/base/envs/simulation_venv/lib/python3.8/site-packages/matplotlib/image.py?line=719'>720</a>\u001b[0m     \u001b[39m# normalisation), we issue a warning and then clip X to the bounds\u001b[39;00m\n\u001b[1;32m    <a href='file:///opt/homebrew/Caskroom/miniforge/base/envs/simulation_venv/lib/python3.8/site-packages/matplotlib/image.py?line=720'>721</a>\u001b[0m     \u001b[39m# - otherwise casting wraps extreme values, hiding outliers and\u001b[39;00m\n\u001b[1;32m    <a href='file:///opt/homebrew/Caskroom/miniforge/base/envs/simulation_venv/lib/python3.8/site-packages/matplotlib/image.py?line=721'>722</a>\u001b[0m     \u001b[39m# making reliable interpretation impossible.\u001b[39;00m\n\u001b[1;32m    <a href='file:///opt/homebrew/Caskroom/miniforge/base/envs/simulation_venv/lib/python3.8/site-packages/matplotlib/image.py?line=722'>723</a>\u001b[0m     high \u001b[39m=\u001b[39m \u001b[39m255\u001b[39m \u001b[39mif\u001b[39;00m np\u001b[39m.\u001b[39missubdtype(\u001b[39mself\u001b[39m\u001b[39m.\u001b[39m_A\u001b[39m.\u001b[39mdtype, np\u001b[39m.\u001b[39minteger) \u001b[39melse\u001b[39;00m \u001b[39m1\u001b[39m\n",
      "\u001b[0;31mTypeError\u001b[0m: Invalid shape (3, 300, 300) for image data"
     ]
    },
    {
     "data": {
      "image/png": "[encoded data removed]",
      "text/plain": [
       "<Figure size 432x288 with 1 Axes>"
      ]
     },
     "metadata": {
      "needs_background": "light"
     },
     "output_type": "display_data"
    }
   ],
   "source": [
    "\n",
    "\n",
    "\n",
    "plt.imshow(office31_loader.train_set[0][0])\n",
    "plt.axis('off')\n",
    "plt.show()"
   ]
  },
  {
   "cell_type": "code",
   "execution_count": null,
   "metadata": {},
   "outputs": [],
   "source": []
  },
  {
   "cell_type": "code",
   "execution_count": null,
   "metadata": {},
   "outputs": [],
   "source": []
  },
  {
   "cell_type": "code",
   "execution_count": null,
   "metadata": {},
   "outputs": [],
   "source": []
  },
  {
   "cell_type": "code",
   "execution_count": null,
   "metadata": {},
   "outputs": [],
   "source": []
  },
  {
   "cell_type": "code",
   "execution_count": 3,
   "metadata": {},
   "outputs": [
    {
     "ename": "ApplicationDefaultCredentialsError",
     "evalue": "The Application Default Credentials are not available. They are available if running in Google Compute Engine. Otherwise, the environment variable GOOGLE_APPLICATION_CREDENTIALS must be defined pointing to a file defining the credentials. See https://developers.google.com/accounts/docs/application-default-credentials for more information.",
     "output_type": "error",
     "traceback": [
      "\u001b[0;31m---------------------------------------------------------------------------\u001b[0m",
      "\u001b[0;31mApplicationDefaultCredentialsError\u001b[0m        Traceback (most recent call last)",
      "\u001b[1;32m/Users/aldozaimi/Documents/image_classification_simulation/notebooks/office31.ipynb Cell 5'\u001b[0m in \u001b[0;36m<cell line: 12>\u001b[0;34m()\u001b[0m\n\u001b[1;32m      <a href='vscode-notebook-cell:/Users/aldozaimi/Documents/image_classification_simulation/notebooks/office31.ipynb#ch0000004?line=7'>8</a>\u001b[0m \u001b[39m# Authenticate and create the PyDrive client.\u001b[39;00m\n\u001b[1;32m      <a href='vscode-notebook-cell:/Users/aldozaimi/Documents/image_classification_simulation/notebooks/office31.ipynb#ch0000004?line=8'>9</a>\u001b[0m \u001b[39m# This only needs to be done once per notebook.\u001b[39;00m\n\u001b[1;32m     <a href='vscode-notebook-cell:/Users/aldozaimi/Documents/image_classification_simulation/notebooks/office31.ipynb#ch0000004?line=9'>10</a>\u001b[0m \u001b[39m#auth.authenticate_user()\u001b[39;00m\n\u001b[1;32m     <a href='vscode-notebook-cell:/Users/aldozaimi/Documents/image_classification_simulation/notebooks/office31.ipynb#ch0000004?line=10'>11</a>\u001b[0m gauth \u001b[39m=\u001b[39m GoogleAuth()\n\u001b[0;32m---> <a href='vscode-notebook-cell:/Users/aldozaimi/Documents/image_classification_simulation/notebooks/office31.ipynb#ch0000004?line=11'>12</a>\u001b[0m gauth\u001b[39m.\u001b[39mcredentials \u001b[39m=\u001b[39m GoogleCredentials\u001b[39m.\u001b[39;49mget_application_default()\n\u001b[1;32m     <a href='vscode-notebook-cell:/Users/aldozaimi/Documents/image_classification_simulation/notebooks/office31.ipynb#ch0000004?line=12'>13</a>\u001b[0m drive \u001b[39m=\u001b[39m GoogleDrive(gauth)\n\u001b[1;32m     <a href='vscode-notebook-cell:/Users/aldozaimi/Documents/image_classification_simulation/notebooks/office31.ipynb#ch0000004?line=14'>15</a>\u001b[0m \u001b[39m# Download a file based on its file ID.\u001b[39;00m\n\u001b[1;32m     <a href='vscode-notebook-cell:/Users/aldozaimi/Documents/image_classification_simulation/notebooks/office31.ipynb#ch0000004?line=15'>16</a>\u001b[0m \u001b[39m#\u001b[39;00m\n\u001b[1;32m     <a href='vscode-notebook-cell:/Users/aldozaimi/Documents/image_classification_simulation/notebooks/office31.ipynb#ch0000004?line=16'>17</a>\u001b[0m \u001b[39m# A file ID looks like: laggVyWshwcyP6kEI-y_W3P8D26sz\u001b[39;00m\n",
      "File \u001b[0;32m/opt/homebrew/Caskroom/miniforge/base/envs/simulation_venv/lib/python3.8/site-packages/oauth2client/client.py:1271\u001b[0m, in \u001b[0;36mGoogleCredentials.get_application_default\u001b[0;34m()\u001b[0m\n\u001b[1;32m   <a href='file:///opt/homebrew/Caskroom/miniforge/base/envs/simulation_venv/lib/python3.8/site-packages/oauth2client/client.py?line=1262'>1263</a>\u001b[0m \u001b[39m@staticmethod\u001b[39m\n\u001b[1;32m   <a href='file:///opt/homebrew/Caskroom/miniforge/base/envs/simulation_venv/lib/python3.8/site-packages/oauth2client/client.py?line=1263'>1264</a>\u001b[0m \u001b[39mdef\u001b[39;00m \u001b[39mget_application_default\u001b[39m():\n\u001b[1;32m   <a href='file:///opt/homebrew/Caskroom/miniforge/base/envs/simulation_venv/lib/python3.8/site-packages/oauth2client/client.py?line=1264'>1265</a>\u001b[0m     \u001b[39m\"\"\"Get the Application Default Credentials for the current environment.\u001b[39;00m\n\u001b[1;32m   <a href='file:///opt/homebrew/Caskroom/miniforge/base/envs/simulation_venv/lib/python3.8/site-packages/oauth2client/client.py?line=1265'>1266</a>\u001b[0m \n\u001b[1;32m   <a href='file:///opt/homebrew/Caskroom/miniforge/base/envs/simulation_venv/lib/python3.8/site-packages/oauth2client/client.py?line=1266'>1267</a>\u001b[0m \u001b[39m    Raises:\u001b[39;00m\n\u001b[1;32m   <a href='file:///opt/homebrew/Caskroom/miniforge/base/envs/simulation_venv/lib/python3.8/site-packages/oauth2client/client.py?line=1267'>1268</a>\u001b[0m \u001b[39m        ApplicationDefaultCredentialsError: raised when the credentials\u001b[39;00m\n\u001b[1;32m   <a href='file:///opt/homebrew/Caskroom/miniforge/base/envs/simulation_venv/lib/python3.8/site-packages/oauth2client/client.py?line=1268'>1269</a>\u001b[0m \u001b[39m                                            fail to be retrieved.\u001b[39;00m\n\u001b[1;32m   <a href='file:///opt/homebrew/Caskroom/miniforge/base/envs/simulation_venv/lib/python3.8/site-packages/oauth2client/client.py?line=1269'>1270</a>\u001b[0m \u001b[39m    \"\"\"\u001b[39;00m\n\u001b[0;32m-> <a href='file:///opt/homebrew/Caskroom/miniforge/base/envs/simulation_venv/lib/python3.8/site-packages/oauth2client/client.py?line=1270'>1271</a>\u001b[0m     \u001b[39mreturn\u001b[39;00m GoogleCredentials\u001b[39m.\u001b[39;49m_get_implicit_credentials()\n",
      "File \u001b[0;32m/opt/homebrew/Caskroom/miniforge/base/envs/simulation_venv/lib/python3.8/site-packages/oauth2client/client.py:1261\u001b[0m, in \u001b[0;36mGoogleCredentials._get_implicit_credentials\u001b[0;34m(cls)\u001b[0m\n\u001b[1;32m   <a href='file:///opt/homebrew/Caskroom/miniforge/base/envs/simulation_venv/lib/python3.8/site-packages/oauth2client/client.py?line=1257'>1258</a>\u001b[0m         \u001b[39mreturn\u001b[39;00m credentials\n\u001b[1;32m   <a href='file:///opt/homebrew/Caskroom/miniforge/base/envs/simulation_venv/lib/python3.8/site-packages/oauth2client/client.py?line=1259'>1260</a>\u001b[0m \u001b[39m# If no credentials, fail.\u001b[39;00m\n\u001b[0;32m-> <a href='file:///opt/homebrew/Caskroom/miniforge/base/envs/simulation_venv/lib/python3.8/site-packages/oauth2client/client.py?line=1260'>1261</a>\u001b[0m \u001b[39mraise\u001b[39;00m ApplicationDefaultCredentialsError(ADC_HELP_MSG)\n",
      "\u001b[0;31mApplicationDefaultCredentialsError\u001b[0m: The Application Default Credentials are not available. They are available if running in Google Compute Engine. Otherwise, the environment variable GOOGLE_APPLICATION_CREDENTIALS must be defined pointing to a file defining the credentials. See https://developers.google.com/accounts/docs/application-default-credentials for more information."
     ]
    }
   ],
   "source": [
    "# Import PyDrive and associated libraries.\n",
    "# This only needs to be done once per notebook.\n",
    "from pydrive.auth import GoogleAuth\n",
    "from pydrive.drive import GoogleDrive\n",
    "#from google.colab import auth\n",
    "from oauth2client.client import GoogleCredentials\n",
    "\n",
    "# Authenticate and create the PyDrive client.\n",
    "# This only needs to be done once per notebook.\n",
    "#auth.authenticate_user()\n",
    "gauth = GoogleAuth()\n",
    "gauth.credentials = GoogleCredentials.get_application_default()\n",
    "drive = GoogleDrive(gauth)\n",
    "\n",
    "# Download a file based on its file ID.\n",
    "#\n",
    "# A file ID looks like: laggVyWshwcyP6kEI-y_W3P8D26sz\n",
    "file_id = '0B4IapRTv9pJ1WGZVd1VDMmhwdlE'\n",
    "downloaded = drive.CreateFile({'id': file_id})\n",
    "print('Downloaded content \"{}\"'.format(downloaded.GetContentString()))"
   ]
  },
  {
   "cell_type": "code",
   "execution_count": null,
   "metadata": {},
   "outputs": [],
   "source": []
  },
  {
   "cell_type": "code",
   "execution_count": null,
   "metadata": {},
   "outputs": [],
   "source": []
  },
  {
   "cell_type": "code",
   "execution_count": null,
   "metadata": {},
   "outputs": [],
   "source": []
  },
  {
   "cell_type": "code",
   "execution_count": 28,
   "metadata": {},
   "outputs": [],
   "source": [
    "import os\n",
    "import typing\n",
    "\n",
    "import numpy as np\n",
    "import pytorch_lightning as pl\n",
    "from torch.utils.data import Dataset, DataLoader\n",
    "# __TODO__ change the dataloader to suit your needs...\n",
    "\n",
    "\n",
    "def get_data(\n",
    "    data_folder: typing.AnyStr,\n",
    "    prefix: typing.AnyStr\n",
    ") -> typing.Tuple[np.ndarray, np.ndarray]:  # pragma: no cover\n",
    "    \"\"\"Function to load data into memory.\n",
    "\n",
    "    Args:\n",
    "        data_folder (str): Path of the folder where the data lives.\n",
    "        prefix (str): The data split to target, i.e. \"train\" or \"dev.\n",
    "\n",
    "    Returns:\n",
    "        in_data (np.array): Input data.\n",
    "        tar_data (np.array): Target data.\n",
    "    \"\"\"\n",
    "    inputs = []\n",
    "    with open(os.path.join(data_folder, '{}.input'.format(prefix))) as in_stream:\n",
    "        for line in in_stream:\n",
    "            inputs.append([float(x) for x in line.split()])\n",
    "    in_data = np.array(inputs, dtype=np.float32)\n",
    "    targets = []\n",
    "    with open(os.path.join(data_folder, '{}.target'.format(prefix))) as in_stream:\n",
    "        for line in in_stream:\n",
    "            targets.append(float(line))\n",
    "    tar_data = np.array(targets, dtype=np.float32)\n",
    "    return in_data, tar_data\n",
    "\n",
    "\n",
    "class Office31(Dataset):  # pragma: no cover\n",
    "    \"\"\"Dataset class for iterating over the data.\"\"\"\n",
    "\n",
    "    def __init__(\n",
    "        self,\n",
    "        input_data: np.ndarray,\n",
    "        target_data: np.ndarray,\n",
    "    ):\n",
    "        \"\"\"Initialize Office31.\n",
    "\n",
    "        Args:\n",
    "            input_data (np.array): Input data.\n",
    "            target_data (np.array): Target data.\n",
    "        \"\"\"\n",
    "        self.input_data = input_data\n",
    "        self.target_data = target_data\n",
    "\n",
    "    def __len__(self):\n",
    "        \"\"\"Return the number of data items in MyDataset.\"\"\"\n",
    "        return len(self.input_data)\n",
    "\n",
    "    def __getitem__(\n",
    "        self,\n",
    "        index: int,\n",
    "    ):\n",
    "        \"\"\"__getitem__.\n",
    "\n",
    "        Args:\n",
    "            index (int): Get index item from the dataset.\n",
    "        \"\"\"\n",
    "        target_example = self.target_data[index]\n",
    "        input_example = self.input_data[index]\n",
    "        return input_example, target_example\n",
    "\n",
    "\n"
   ]
  },
  {
   "cell_type": "code",
   "execution_count": null,
   "metadata": {},
   "outputs": [],
   "source": []
  },
  {
   "cell_type": "code",
   "execution_count": null,
   "metadata": {},
   "outputs": [],
   "source": []
  },
  {
   "cell_type": "code",
   "execution_count": null,
   "metadata": {},
   "outputs": [],
   "source": []
  },
  {
   "cell_type": "code",
   "execution_count": null,
   "metadata": {},
   "outputs": [],
   "source": []
  },
  {
   "cell_type": "code",
   "execution_count": 29,
   "metadata": {},
   "outputs": [],
   "source": [
    "class Office31Module(pl.LightningDataModule):  # pragma: no cover\n",
    "    \"\"\"Data module class that prepares dataset parsers and instantiates data loaders.\"\"\"\n",
    "\n",
    "    def __init__(\n",
    "        self,\n",
    "        data_dir: typing.AnyStr,\n",
    "        hyper_params: typing.Dict[typing.AnyStr, typing.Any],\n",
    "    ):\n",
    "        \"\"\"Validates the hyperparameter config dictionary and sets up internal attributes.\"\"\"\n",
    "        super().__init__()\n",
    "        self.data_dir = data_dir\n",
    "        self.batch_size = hyper_params['batch_size']\n",
    "        self.train_data_parser, self.dev_data_parser = None, None\n",
    "\n",
    "    def prepare_data(self):\n",
    "        \"\"\"Downloads/extracts/unpacks the data if needed (we don't).\"\"\"\n",
    "        pass\n",
    "\n",
    "    def setup(self, stage=None):\n",
    "        \"\"\"Parses and splits all samples across the train/valid/test parsers.\"\"\"\n",
    "        # here, we will actually assign train/val datasets for use in dataloaders\n",
    "        if stage == 'fit' or stage is None:\n",
    "            train_input, train_target = get_data(self.data_dir, 'train')\n",
    "            self.train_data_parser = Office31(train_input, train_target)\n",
    "            dev_input, dev_target = get_data(self.data_dir, 'dev')\n",
    "            self.dev_data_parser = Office31(dev_input, dev_target)\n",
    "        if stage == 'test' or stage is None:\n",
    "            raise NotImplementedError  # __TODO__: add code to instantiate the test data parser here\n",
    "\n",
    "    def train_dataloader(self) -> DataLoader:\n",
    "        \"\"\"Creates the training dataloader using the training data parser.\"\"\"\n",
    "        return DataLoader(self.train_data_parser, batch_size=self.batch_size, shuffle=True)\n",
    "\n",
    "    def val_dataloader(self):\n",
    "        \"\"\"Creates the validation dataloader using the validation data parser.\"\"\"\n",
    "        return DataLoader(self.dev_data_parser, batch_size=self.batch_size, shuffle=False)\n",
    "\n",
    "    def test_dataloader(self):\n",
    "        \"\"\"Creates the testing dataloader using the testing data parser.\"\"\"\n",
    "        raise NotImplementedError  # __TODO__: add code to instantiate the test data loader here\n",
    "\n",
    "\n",
    "def load_data(data_dir, hyper_params):  # pragma: no cover\n",
    "    \"\"\"Prepare the data into datasets.\n",
    "\n",
    "    Args:\n",
    "        data_dir (str): path to the folder containing the data\n",
    "        hyper_params (dict): hyper parameters from the config file\n",
    "\n",
    "    Returns:\n",
    "        datamodule (obj): the data module used to prepare/instantiate data loaders.\n",
    "    \"\"\"\n",
    "    # __TODO__ if you have different data modules, add whatever code is needed to select them here\n",
    "    return Office31Module(data_dir, hyper_params)"
   ]
  },
  {
   "cell_type": "code",
   "execution_count": null,
   "metadata": {},
   "outputs": [],
   "source": []
  },
  {
   "cell_type": "code",
   "execution_count": null,
   "metadata": {},
   "outputs": [],
   "source": []
  },
  {
   "cell_type": "code",
   "execution_count": null,
   "metadata": {},
   "outputs": [],
   "source": []
  },
  {
   "cell_type": "code",
   "execution_count": null,
   "metadata": {},
   "outputs": [],
   "source": []
  },
  {
   "cell_type": "code",
   "execution_count": null,
   "metadata": {},
   "outputs": [],
   "source": []
  },
  {
   "cell_type": "code",
   "execution_count": null,
   "metadata": {},
   "outputs": [],
   "source": []
  },
  {
   "cell_type": "code",
   "execution_count": null,
   "metadata": {},
   "outputs": [],
   "source": []
  },
  {
   "cell_type": "code",
   "execution_count": null,
   "metadata": {},
   "outputs": [],
   "source": []
  },
  {
   "cell_type": "code",
   "execution_count": null,
   "metadata": {},
   "outputs": [],
   "source": []
  },
  {
   "cell_type": "code",
   "execution_count": null,
   "metadata": {},
   "outputs": [],
   "source": []
  },
  {
   "cell_type": "code",
   "execution_count": null,
   "metadata": {},
   "outputs": [],
   "source": []
  },
  {
   "cell_type": "code",
   "execution_count": null,
   "metadata": {},
   "outputs": [],
   "source": []
  },
  {
   "cell_type": "code",
   "execution_count": 4,
   "metadata": {},
   "outputs": [],
   "source": [
    "import typing\n",
    "#import wget\n",
    "from torchvision import transforms\n",
    "from torchvision.datasets import ImageFolder\n",
    "from image_classification_simulation.data.data_loader import MyDataModule\n",
    "from torch.utils.data import DataLoader, random_split\n",
    "\n",
    "\n",
    "\n",
    "\n",
    "\n",
    "\n",
    "\n",
    "\n"
   ]
  },
  {
   "cell_type": "code",
   "execution_count": null,
   "metadata": {},
   "outputs": [],
   "source": [
    "\n"
   ]
  },
  {
   "cell_type": "code",
   "execution_count": 45,
   "metadata": {},
   "outputs": [
    {
     "name": "stdout",
     "output_type": "stream",
     "text": [
      "{'back_pack': 0, 'bike': 1, 'bike_helmet': 2, 'bookcase': 3, 'bottle': 4, 'calculator': 5, 'desk_chair': 6, 'desk_lamp': 7, 'desktop_computer': 8, 'file_cabinet': 9, 'headphones': 10, 'keyboard': 11, 'laptop_computer': 12, 'letter_tray': 13, 'mobile_phone': 14, 'monitor': 15, 'mouse': 16, 'mug': 17, 'paper_notebook': 18, 'pen': 19, 'phone': 20, 'printer': 21, 'projector': 22, 'punchers': 23, 'ring_binder': 24, 'ruler': 25, 'scissors': 26, 'speaker': 27, 'stapler': 28, 'tape_dispenser': 29, 'trash_can': 30}\n"
     ]
    },
    {
     "data": {
      "image/png": "[encoded data removed]",
      "text/plain": [
       "<Figure size 432x288 with 1 Axes>"
      ]
     },
     "metadata": {
      "needs_background": "light"
     },
     "output_type": "display_data"
    }
   ],
   "source": [
    "import matplotlib.pyplot as plt\n",
    "\n",
    "dataset = ImageFolder(\"./data/domain_adaptation_images/amazon/images\")\n",
    "print(dataset.class_to_idx)\n",
    "#print(dataset.imgs)\n",
    "\n",
    "#dataset = ImageFolder('data1/dogcat_2/', transform=transform)\n",
    "\n",
    "\n",
    "plt.imshow(dataset[1500][0])\n",
    "plt.axis('off')\n",
    "plt.show()"
   ]
  },
  {
   "cell_type": "code",
   "execution_count": null,
   "metadata": {},
   "outputs": [],
   "source": []
  },
  {
   "cell_type": "code",
   "execution_count": null,
   "metadata": {},
   "outputs": [],
   "source": []
  },
  {
   "cell_type": "code",
   "execution_count": null,
   "metadata": {},
   "outputs": [],
   "source": []
  },
  {
   "cell_type": "code",
   "execution_count": null,
   "metadata": {},
   "outputs": [],
   "source": []
  },
  {
   "cell_type": "code",
   "execution_count": null,
   "metadata": {},
   "outputs": [],
   "source": []
  },
  {
   "cell_type": "code",
   "execution_count": null,
   "metadata": {},
   "outputs": [],
   "source": []
  },
  {
   "cell_type": "code",
   "execution_count": null,
   "metadata": {},
   "outputs": [],
   "source": []
  },
  {
   "cell_type": "code",
   "execution_count": 22,
   "metadata": {},
   "outputs": [],
   "source": [
    "class Office31Loader(MyDataModule):  # pragma: no cover\n",
    "    \"\"\"Data module class that prepares dataset parsers and instantiates data loaders.\n",
    "    Parameters\n",
    "    ----------\n",
    "    MyDataModule : DataModule class\n",
    "        Template DataModule class\n",
    "    \"\"\"\n",
    "\n",
    "    # We are going to use the amazon data folder here as it is the most similar to a catalog of online products\n",
    "\n",
    "    def __init__(\n",
    "        self,\n",
    "        data_dir: typing.AnyStr,\n",
    "        hyper_params: typing.Dict[typing.AnyStr, typing.Any],\n",
    "    ):\n",
    "        \"\"\"Validates the hyperparameter config dictionary and sets up internal attributes.\n",
    "        Parameters\n",
    "        ----------\n",
    "        data_dir : string\n",
    "            Directory path that the data will be downloaded and stored\n",
    "        hyper_params : dictionary\n",
    "            Hyperparameters relevant to the dataloader module.\n",
    "        \"\"\"\n",
    "        super().__init__(data_dir, hyper_params)\n",
    "        self.num_unique_labels = 31\n",
    "\n",
    "        if \"num_workers\" in hyper_params:\n",
    "            self.num_workers = hyper_params[\"num_workers\"]\n",
    "        else:\n",
    "            self.num_workers = 1\n",
    "            print(\"Number of workers set to:\", self.num_workers)\n",
    "\n",
    "        if \"image_size\" in hyper_params:\n",
    "            self.image_size = hyper_params[\"image_size\"]\n",
    "        else:\n",
    "            self.image_size = 300\n",
    "            print(\"image size set to:\", self.image_size)\n",
    "\n",
    "        self.train_set_transformation = transforms.Compose(\n",
    "            [\n",
    "                transforms.RandomHorizontalFlip(),\n",
    "                transforms.ToTensor(),\n",
    "            ]\n",
    "        )\n",
    "\n",
    "        self.test_set_transformation = transforms.Compose(\n",
    "            [\n",
    "                transforms.ToTensor(),\n",
    "            ]\n",
    "        )\n",
    "\n",
    "    def setup(self, stage: str = None):\n",
    "        \"\"\"Parses and splits all samples across the train/valid/test parsers.\n",
    "        Parameters\n",
    "        ----------\n",
    "        stage : string, optional\n",
    "            Stage of training (training, validation, testing), by default None\n",
    "        \"\"\"\n",
    "\n",
    "\n",
    "\n",
    "        # here, we will actually assign train/val datasets for use in dataloaders\n",
    "        if stage == \"fit\" or stage is None:\n",
    "\n",
    "\n",
    "            self.train_set = ImageFolder(\n",
    "                root=self.data_dir, \n",
    "                transform=self.train_set_transformation\n",
    "                )\n",
    "\n",
    "            self.val_set = ImageFolder(\n",
    "                root=self.data_dir, \n",
    "                transform=self.train_set_transformation\n",
    "                )\n",
    "                \n",
    "        if stage == \"test\" or stage is None:\n",
    "\n",
    "            self.test_set = ImageFolder(\n",
    "                root=self.data_dir, \n",
    "                transform=self.test_set_transformation\n",
    "                )\n",
    "            \n",
    "\n",
    "    def train_dataloader(self) -> DataLoader:\n",
    "        \"\"\"Creates the training dataloader using the training data parser.\n",
    "        Returns\n",
    "        -------\n",
    "        DataLoader\n",
    "            returns a pytorch DataLoader class\n",
    "        \"\"\"\n",
    "        return DataLoader(\n",
    "            self.train_set,\n",
    "            batch_size=self.batch_size,\n",
    "            batch_sampler=None,\n",
    "            num_workers=self.num_workers,\n",
    "            pin_memory=True,\n",
    "            collate_fn=None,\n",
    "        )\n",
    "\n",
    "    def val_dataloader(self) -> DataLoader:\n",
    "        \"\"\"Creates the validation dataloader using the validation data parser.\n",
    "        Returns\n",
    "        -------\n",
    "        DataLoader\n",
    "            returns a pytorch DataLoader class\n",
    "        \"\"\"\n",
    "        return DataLoader(\n",
    "            self.val_set,\n",
    "            batch_size=self.batch_size,\n",
    "            batch_sampler=None,\n",
    "            num_workers=self.num_workers,\n",
    "            pin_memory=True,\n",
    "            collate_fn=None,\n",
    "        )\n",
    "\n",
    "    def test_dataloader(self) -> DataLoader:\n",
    "        \"\"\"Creates the testing dataloader using the testing data parser.\n",
    "        Returns\n",
    "        -------\n",
    "        DataLoader\n",
    "            returns a pytorch DataLoader class\n",
    "        \"\"\"\n",
    "        return DataLoader(\n",
    "            self.test_set,\n",
    "            batch_size=self.batch_size,\n",
    "            batch_sampler=None,\n",
    "            num_workers=self.num_workers,\n",
    "            pin_memory=True,\n",
    "            collate_fn=None,\n",
    "        )\n"
   ]
  },
  {
   "cell_type": "code",
   "execution_count": 38,
   "metadata": {},
   "outputs": [
    {
     "name": "stdout",
     "output_type": "stream",
     "text": [
      "Number of workers set to: 1\n"
     ]
    }
   ],
   "source": [
    "hyperparams_dict = {\"batch_size\": 32, \"image_size\": 300}\n",
    "office31_loader = Office31Loader(\"./data/domain_adaptation_images/amazon/images\",hyperparams_dict)\n",
    "office31_loader.setup()\n",
    "\n",
    "\n",
    "\n"
   ]
  },
  {
   "cell_type": "code",
   "execution_count": null,
   "metadata": {},
   "outputs": [],
   "source": []
  },
  {
   "cell_type": "code",
   "execution_count": null,
   "metadata": {},
   "outputs": [],
   "source": []
  },
  {
   "cell_type": "code",
   "execution_count": null,
   "metadata": {},
   "outputs": [],
   "source": []
  },
  {
   "cell_type": "code",
   "execution_count": null,
   "metadata": {},
   "outputs": [],
   "source": []
  },
  {
   "cell_type": "markdown",
   "metadata": {},
   "source": []
  },
  {
   "cell_type": "code",
   "execution_count": null,
   "metadata": {},
   "outputs": [],
   "source": []
  }
 ],
 "metadata": {
  "interpreter": {
   "hash": "2346f0f264476126a9d86960344e6b0e50773e83bfec43df68f2d2ed7ad0a02b"
  },
  "kernelspec": {
   "display_name": "Python 3.8.13 ('simulation_venv')",
   "language": "python",
   "name": "python3"
  },
  "language_info": {
   "codemirror_mode": {
    "name": "ipython",
    "version": 3
   },
   "file_extension": ".py",
   "mimetype": "text/x-python",
   "name": "python",
   "nbconvert_exporter": "python",
   "pygments_lexer": "ipython3",
   "version": "3.8.13"
  },
  "orig_nbformat": 4
 },
 "nbformat": 4,
 "nbformat_minor": 2
}
