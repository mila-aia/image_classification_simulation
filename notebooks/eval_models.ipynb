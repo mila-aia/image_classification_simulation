{
 "cells": [
  {
   "cell_type": "code",
   "execution_count": null,
   "metadata": {},
   "outputs": [],
   "source": [
    "from image_classification_simulation.models.autoencoder_baseline import ConvAutoEncoder\n",
    "from image_classification_simulation.models.classic_cnn_baseline import ClassicCNN\n",
    "from image_classification_simulation.models.vit_baseline import ViT\n",
    "from image_classification_simulation.models.resnet_baseline import Resnet\n",
    "from image_classification_simulation.data.office31_loader import *\n",
    "import torch\n",
    "import numpy as np\n",
    "import matplotlib.pyplot as plt"
   ]
  },
  {
   "cell_type": "code",
   "execution_count": null,
   "metadata": {},
   "outputs": [],
   "source": []
  },
  {
   "cell_type": "code",
   "execution_count": null,
   "metadata": {},
   "outputs": [],
   "source": [
    "i = iter(test_loader.test_set.dataset)\n",
    "img, label = next(i)\n",
    "\n",
    "\n",
    "model = Resnet(hparams)\n",
    "checkpoint = torch.load(\"./output/last_model/model.ckpt\")\n",
    "model.load_state_dict(checkpoint['state_dict'])\n",
    "model.eval()\n",
    "\n",
    "output = model(img)\n",
    "print(output.shape)\n",
    "output = output.detach().numpy()\n",
    "\n",
    "fig, (ax1, ax2) = plt.subplots(1, 2)\n",
    "ax1.imshow(np.transpose(img, (1, 2, 0)))\n",
    "ax1.set_title(\"Original input image\")\n",
    "ax2.imshow(np.transpose(output, (1, 2, 0)))\n",
    "ax2.set_title(\"Reconstructed image\")"
   ]
  },
  {
   "cell_type": "code",
   "execution_count": null,
   "metadata": {},
   "outputs": [],
   "source": [
    "from torchmetrics import F1Score, Accuracy, ConfusionMatrix, AveragePrecision, Precision, Recall\n",
    "target = torch.tensor([0, 1, 2, 0, 1, 2])\n",
    "preds = torch.tensor([0, 2, 1, 0, 0, 1])\n",
    "f1 = F1Score(num_classes=3)\n",
    "f1(preds, target)"
   ]
  },
  {
   "cell_type": "code",
   "execution_count": null,
   "metadata": {},
   "outputs": [],
   "source": []
  },
  {
   "cell_type": "code",
   "execution_count": null,
   "metadata": {},
   "outputs": [],
   "source": []
  },
  {
   "cell_type": "code",
   "execution_count": null,
   "metadata": {},
   "outputs": [],
   "source": [
    "target = torch.tensor([0, 1, 2])\n",
    "preds = torch.tensor([[0.1, 0.9, 0], [0.3, 0.1, 0.6], [0.2, 0.5, 0.3]])\n",
    "accuracy = Accuracy(top_k=2)\n",
    "accuracy(preds, target)"
   ]
  },
  {
   "cell_type": "code",
   "execution_count": null,
   "metadata": {},
   "outputs": [],
   "source": [
    "import torch\n",
    "from torchmetrics import Accuracy\n",
    "target = torch.tensor([0, 1, 2, 3])\n",
    "preds = torch.tensor([0, 2, 1, 3])\n",
    "accuracy = Accuracy()\n",
    "accuracy(preds, target)"
   ]
  },
  {
   "cell_type": "code",
   "execution_count": null,
   "metadata": {},
   "outputs": [],
   "source": [
    "from torchmetrics.functional import recall\n",
    "preds  = torch.tensor([2, 0, 2, 1])\n",
    "target = torch.tensor([1, 1, 2, 0])\n",
    "recall(preds, target, average='macro', num_classes=3)\n",
    "\n",
    "recall(preds, target, average='micro')"
   ]
  },
  {
   "cell_type": "code",
   "execution_count": null,
   "metadata": {},
   "outputs": [],
   "source": []
  },
  {
   "cell_type": "code",
   "execution_count": null,
   "metadata": {},
   "outputs": [],
   "source": [
    "\n",
    "pred = torch.tensor([[0.75, 0.05, 0.05, 0.05, 0.05],\n",
    "                     [0.05, 0.75, 0.05, 0.05, 0.05],\n",
    "                     [0.05, 0.05, 0.75, 0.05, 0.05],\n",
    "                     [0.05, 0.05, 0.05, 0.75, 0.05]])\n",
    "target = torch.tensor([0, 1, 3, 2])\n",
    "average_precision = AveragePrecision(num_classes=5, average=None)\n",
    "average_precision(pred, target)"
   ]
  },
  {
   "cell_type": "code",
   "execution_count": null,
   "metadata": {},
   "outputs": [],
   "source": [
    "target = torch.tensor([2, 1, 0, 0])\n",
    "preds = torch.tensor([2, 1, 0, 1])\n",
    "confmat = ConfusionMatrix(num_classes=3)\n",
    "confmat(preds, target)"
   ]
  },
  {
   "cell_type": "code",
   "execution_count": null,
   "metadata": {},
   "outputs": [],
   "source": [
    "preds  = torch.tensor([2, 0, 2, 1])\n",
    "target = torch.tensor([1, 1, 2, 0])\n",
    "precision = Precision(average='macro', num_classes=3)\n",
    "precision(preds, target)\n",
    "\n",
    "precision = Precision(average='micro')\n",
    "precision(preds, target)"
   ]
  },
  {
   "cell_type": "code",
   "execution_count": null,
   "metadata": {},
   "outputs": [],
   "source": []
  },
  {
   "cell_type": "code",
   "execution_count": null,
   "metadata": {},
   "outputs": [],
   "source": []
  },
  {
   "cell_type": "code",
   "execution_count": null,
   "metadata": {},
   "outputs": [],
   "source": []
  }
 ],
 "metadata": {
  "language_info": {
   "name": "python"
  }
 },
 "nbformat": 4,
 "nbformat_minor": 2
}
